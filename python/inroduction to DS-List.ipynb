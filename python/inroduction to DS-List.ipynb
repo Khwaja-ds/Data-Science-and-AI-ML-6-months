{
 "cells": [
  {
   "cell_type": "markdown",
   "id": "de8ec2aa-4aac-4ebc-a95a-aaa4334ae9fe",
   "metadata": {},
   "source": [
    "# Intoduction to DS & List"
   ]
  },
  {
   "cell_type": "code",
   "execution_count": 15,
   "id": "b9736456-a666-4dbc-b8cd-9d1763c00a9e",
   "metadata": {},
   "outputs": [
    {
     "data": {
      "text/plain": [
       "[]"
      ]
     },
     "execution_count": 15,
     "metadata": {},
     "output_type": "execute_result"
    }
   ],
   "source": [
    "l = []\n",
    "l"
   ]
  },
  {
   "cell_type": "code",
   "execution_count": 16,
   "id": "886079b0-4d72-44d3-9776-e3a584538d3b",
   "metadata": {},
   "outputs": [
    {
     "data": {
      "text/plain": [
       "list"
      ]
     },
     "execution_count": 16,
     "metadata": {},
     "output_type": "execute_result"
    }
   ],
   "source": [
    "type(l)"
   ]
  },
  {
   "cell_type": "code",
   "execution_count": 18,
   "id": "fdf2bb24-1db0-4a1e-b0cd-244d99191aa0",
   "metadata": {},
   "outputs": [],
   "source": [
    "l.append(3)"
   ]
  },
  {
   "cell_type": "code",
   "execution_count": 19,
   "id": "e5d48bee-8b65-44f1-9e59-5bd64d699a43",
   "metadata": {},
   "outputs": [
    {
     "data": {
      "text/plain": [
       "[3]"
      ]
     },
     "execution_count": 19,
     "metadata": {},
     "output_type": "execute_result"
    }
   ],
   "source": [
    "l"
   ]
  },
  {
   "cell_type": "code",
   "execution_count": 20,
   "id": "6f2f2817-86c5-43fb-a6e0-3b66f9d772bd",
   "metadata": {},
   "outputs": [],
   "source": [
    "l.append(4)\n",
    "l.append(5)\n",
    "l.append(6)\n",
    "l.append(6) # it adds 6 number's two time and it is allows duplicate values in a list because Python lists allow duplicates by default.\n"
   ]
  },
  {
   "cell_type": "code",
   "execution_count": 21,
   "id": "b0a8a5fe-5a30-404d-ab0c-65517a8f7c5c",
   "metadata": {},
   "outputs": [
    {
     "data": {
      "text/plain": [
       "[3, 4, 5, 6, 6]"
      ]
     },
     "execution_count": 21,
     "metadata": {},
     "output_type": "execute_result"
    }
   ],
   "source": [
    "l"
   ]
  },
  {
   "cell_type": "code",
   "execution_count": 22,
   "id": "9f98eb72-2cf0-4f04-8074-e7140f45426c",
   "metadata": {},
   "outputs": [
    {
     "ename": "TypeError",
     "evalue": "list.append() takes exactly one argument (3 given)",
     "output_type": "error",
     "traceback": [
      "\u001b[1;31m---------------------------------------------------------------------------\u001b[0m",
      "\u001b[1;31mTypeError\u001b[0m                                 Traceback (most recent call last)",
      "Cell \u001b[1;32mIn[22], line 1\u001b[0m\n\u001b[1;32m----> 1\u001b[0m l\u001b[38;5;241m.\u001b[39mappend(\u001b[38;5;241m7\u001b[39m,\u001b[38;5;241m8\u001b[39m,\u001b[38;5;241m9\u001b[39m)\n",
      "\u001b[1;31mTypeError\u001b[0m: list.append() takes exactly one argument (3 given)"
     ]
    }
   ],
   "source": [
    "l.append(7,8,9) # error ecauz list.append takes only one argument at a time"
   ]
  },
  {
   "cell_type": "code",
   "execution_count": 23,
   "id": "07589069-e634-4088-87a3-d3a7596096fb",
   "metadata": {},
   "outputs": [],
   "source": [
    "l1 = [] # creating a new list"
   ]
  },
  {
   "cell_type": "code",
   "execution_count": 24,
   "id": "2c7fbc5f-198f-4841-b02c-377a969de3e3",
   "metadata": {},
   "outputs": [],
   "source": [
    "l1.append('nit')\n",
    "l1.append(True)\n",
    "l1.append(2.3)\n",
    "l1.append(1+2j) # now i am append a multipe type value in a lsit"
   ]
  },
  {
   "cell_type": "code",
   "execution_count": 25,
   "id": "5d76ff60-41de-4f7a-87cf-792f18968a33",
   "metadata": {},
   "outputs": [
    {
     "data": {
      "text/plain": [
       "['nit', True, 2.3, (1+2j)]"
      ]
     },
     "execution_count": 25,
     "metadata": {},
     "output_type": "execute_result"
    }
   ],
   "source": [
    "l1"
   ]
  },
  {
   "cell_type": "code",
   "execution_count": 26,
   "id": "b13e4c7c-22a6-4c97-9e82-d55fb7158046",
   "metadata": {},
   "outputs": [],
   "source": [
    "l1.append([1,2,3]) # we can append a list inside another list"
   ]
  },
  {
   "cell_type": "code",
   "execution_count": 27,
   "id": "e65fca0a-a7a4-477e-a207-d61d4675b8e5",
   "metadata": {},
   "outputs": [
    {
     "data": {
      "text/plain": [
       "['nit', True, 2.3, (1+2j), [1, 2, 3]]"
      ]
     },
     "execution_count": 27,
     "metadata": {},
     "output_type": "execute_result"
    }
   ],
   "source": [
    "l1"
   ]
  },
  {
   "cell_type": "code",
   "execution_count": 28,
   "id": "53e6563f-fa4d-43e5-b38f-95b9a28839a6",
   "metadata": {},
   "outputs": [
    {
     "data": {
      "text/plain": [
       "'nit'"
      ]
     },
     "execution_count": 28,
     "metadata": {},
     "output_type": "execute_result"
    }
   ],
   "source": [
    "l1[0] # Let’s understand the zeroth index of a list "
   ]
  },
  {
   "cell_type": "code",
   "execution_count": 29,
   "id": "810202e3-f242-4a39-bfd4-b4ab38be9245",
   "metadata": {},
   "outputs": [
    {
     "data": {
      "text/plain": [
       "2.3"
      ]
     },
     "execution_count": 29,
     "metadata": {},
     "output_type": "execute_result"
    }
   ],
   "source": [
    "l1[2] # forword indexing"
   ]
  },
  {
   "cell_type": "code",
   "execution_count": 30,
   "id": "8c2ec46f-5be4-40ba-b4a2-0eae60839c6b",
   "metadata": {},
   "outputs": [
    {
     "data": {
      "text/plain": [
       "[1, 2, 3]"
      ]
     },
     "execution_count": 30,
     "metadata": {},
     "output_type": "execute_result"
    }
   ],
   "source": [
    "l1[-1] # backword indexing"
   ]
  },
  {
   "cell_type": "code",
   "execution_count": 31,
   "id": "54519881-e25e-4083-87cc-1e01a5433cf5",
   "metadata": {},
   "outputs": [
    {
     "data": {
      "text/plain": [
       "(1+2j)"
      ]
     },
     "execution_count": 31,
     "metadata": {},
     "output_type": "execute_result"
    }
   ],
   "source": [
    "l1[-2]"
   ]
  },
  {
   "cell_type": "code",
   "execution_count": 32,
   "id": "f3c21b7d-ee18-40b7-a59b-85b9b88472ea",
   "metadata": {},
   "outputs": [
    {
     "data": {
      "text/plain": [
       "['nit', True, 2.3, (1+2j), [1, 2, 3]]"
      ]
     },
     "execution_count": 32,
     "metadata": {},
     "output_type": "execute_result"
    }
   ],
   "source": [
    "l1"
   ]
  },
  {
   "cell_type": "code",
   "execution_count": 33,
   "id": "5b3c3480-922e-4a21-9028-6962b907996f",
   "metadata": {},
   "outputs": [
    {
     "data": {
      "text/plain": [
       "[True, 2.3]"
      ]
     },
     "execution_count": 33,
     "metadata": {},
     "output_type": "execute_result"
    }
   ],
   "source": [
    "l1[1:3] # slice from index 1 to 3 (not including 3)"
   ]
  },
  {
   "cell_type": "code",
   "execution_count": 34,
   "id": "eac9a3f2-dbbe-4ff4-9769-7830d1a3d869",
   "metadata": {},
   "outputs": [],
   "source": [
    "l1[0] = 100 # list is changeable"
   ]
  },
  {
   "cell_type": "code",
   "execution_count": 35,
   "id": "28beac9f-2b99-4b38-aa2d-06ff42838555",
   "metadata": {},
   "outputs": [
    {
     "data": {
      "text/plain": [
       "[100, True, 2.3, (1+2j), [1, 2, 3]]"
      ]
     },
     "execution_count": 35,
     "metadata": {},
     "output_type": "execute_result"
    }
   ],
   "source": [
    "l1"
   ]
  },
  {
   "cell_type": "code",
   "execution_count": 36,
   "id": "b7497ea8-6e0f-4b48-952b-beab9914f4e1",
   "metadata": {},
   "outputs": [],
   "source": [
    "numbers = [] # creating a new empty list"
   ]
  },
  {
   "cell_type": "code",
   "execution_count": 37,
   "id": "b265b009-a0a0-4b15-87ba-ceb0e1f49e80",
   "metadata": {},
   "outputs": [],
   "source": [
    "numbers.append(1)\n",
    "numbers.append(2)\n",
    "numbers.append(3)\n",
    "numbers.append(4)\n",
    "numbers.append(5)"
   ]
  },
  {
   "cell_type": "code",
   "execution_count": 38,
   "id": "1ab3d75f-6cf3-429e-944b-285570aaa616",
   "metadata": {},
   "outputs": [
    {
     "data": {
      "text/plain": [
       "[1, 2, 3, 4, 5]"
      ]
     },
     "execution_count": 38,
     "metadata": {},
     "output_type": "execute_result"
    }
   ],
   "source": [
    "numbers"
   ]
  },
  {
   "cell_type": "markdown",
   "id": "0b22d377-4a8e-4a2b-b7c3-2ccfcb57f759",
   "metadata": {},
   "source": [
    "# Copy Method"
   ]
  },
  {
   "cell_type": "code",
   "execution_count": 39,
   "id": "5ff31c65-cedc-417c-9560-594317d4475d",
   "metadata": {},
   "outputs": [],
   "source": [
    "data = numbers.copy()"
   ]
  },
  {
   "cell_type": "code",
   "execution_count": 40,
   "id": "7fe728fd-51f9-4ffe-901e-07c9c3276cce",
   "metadata": {},
   "outputs": [
    {
     "data": {
      "text/plain": [
       "[1, 2, 3, 4, 5]"
      ]
     },
     "execution_count": 40,
     "metadata": {},
     "output_type": "execute_result"
    }
   ],
   "source": [
    "data"
   ]
  },
  {
   "cell_type": "code",
   "execution_count": null,
   "id": "3e8554a2-4e2b-4b7a-924d-aeea89b0fc60",
   "metadata": {},
   "outputs": [],
   "source": [
    "# it show's an error becauz first we need to declare a empty list for variable data"
   ]
  },
  {
   "cell_type": "code",
   "execution_count": 41,
   "id": "c8ffd491-a908-4398-8ca3-8f97bbe73cd0",
   "metadata": {},
   "outputs": [],
   "source": [
    "data = []"
   ]
  },
  {
   "cell_type": "code",
   "execution_count": 42,
   "id": "210423e4-1728-4dd9-897c-f1aaaddcb90a",
   "metadata": {},
   "outputs": [],
   "source": [
    "data = numbers.copy()"
   ]
  },
  {
   "cell_type": "code",
   "execution_count": 43,
   "id": "f79effd0-51ea-4eca-9c88-8ef473d616f3",
   "metadata": {},
   "outputs": [
    {
     "data": {
      "text/plain": [
       "[1, 2, 3, 4, 5]"
      ]
     },
     "execution_count": 43,
     "metadata": {},
     "output_type": "execute_result"
    }
   ],
   "source": [
    "data"
   ]
  },
  {
   "cell_type": "markdown",
   "id": "05eaea6d-c384-4980-a3fe-f97ed1d22ea5",
   "metadata": {},
   "source": [
    "# Count Method"
   ]
  },
  {
   "cell_type": "code",
   "execution_count": 44,
   "id": "d563d2d2-7dfd-4c01-afe3-c9da2e66488c",
   "metadata": {},
   "outputs": [],
   "source": [
    "numbers.append(2)\n",
    "numbers.append(3)\n",
    "numbers.append(2) # add duplicate values in list"
   ]
  },
  {
   "cell_type": "code",
   "execution_count": 46,
   "id": "4bc2a484-78b3-4104-888f-74995a56c7bb",
   "metadata": {},
   "outputs": [
    {
     "data": {
      "text/plain": [
       "2"
      ]
     },
     "execution_count": 46,
     "metadata": {},
     "output_type": "execute_result"
    }
   ],
   "source": [
    "numbers.count(3) # the count method disply the how many times same item present in the list"
   ]
  },
  {
   "cell_type": "code",
   "execution_count": 47,
   "id": "b6a6dc58-e4de-431d-837c-10d124b49ce5",
   "metadata": {},
   "outputs": [
    {
     "data": {
      "text/plain": [
       "3"
      ]
     },
     "execution_count": 47,
     "metadata": {},
     "output_type": "execute_result"
    }
   ],
   "source": [
    "numbers.count(2) # now counting a how many times ' 2 ' present in the list"
   ]
  },
  {
   "cell_type": "code",
   "execution_count": 48,
   "id": "e60c6d70-8fba-4123-b5a4-e4724b61d96a",
   "metadata": {},
   "outputs": [
    {
     "data": {
      "text/plain": [
       "[1, 2, 3, 4, 5, 2, 3, 2]"
      ]
     },
     "execution_count": 48,
     "metadata": {},
     "output_type": "execute_result"
    }
   ],
   "source": [
    "numbers"
   ]
  },
  {
   "cell_type": "markdown",
   "id": "3c1e1284-533f-4a18-8333-9d24b4861db7",
   "metadata": {},
   "source": [
    "# Pop Method"
   ]
  },
  {
   "cell_type": "code",
   "execution_count": 49,
   "id": "ce54a328-8c78-4dd8-9c87-01ae0c8ce39e",
   "metadata": {},
   "outputs": [],
   "source": [
    "#removes and returns an item from a list."
   ]
  },
  {
   "cell_type": "code",
   "execution_count": 50,
   "id": "36d3efaf-a409-42c7-8380-81c77e032e18",
   "metadata": {},
   "outputs": [
    {
     "data": {
      "text/plain": [
       "2"
      ]
     },
     "execution_count": 50,
     "metadata": {},
     "output_type": "execute_result"
    }
   ],
   "source": [
    "numbers.pop() # If no index is given → removes the last item by default."
   ]
  },
  {
   "cell_type": "code",
   "execution_count": 51,
   "id": "90acaad8-977f-40e8-9a19-5bd4f4992eef",
   "metadata": {},
   "outputs": [
    {
     "data": {
      "text/plain": [
       "[1, 2, 3, 4, 5, 2, 3]"
      ]
     },
     "execution_count": 51,
     "metadata": {},
     "output_type": "execute_result"
    }
   ],
   "source": [
    "numbers"
   ]
  },
  {
   "cell_type": "code",
   "execution_count": 52,
   "id": "1f166102-07bc-4097-b4e0-da65057a931d",
   "metadata": {},
   "outputs": [
    {
     "data": {
      "text/plain": [
       "4"
      ]
     },
     "execution_count": 52,
     "metadata": {},
     "output_type": "execute_result"
    }
   ],
   "source": [
    "numbers.pop(3) #If an index is given → removes the item at that index."
   ]
  },
  {
   "cell_type": "code",
   "execution_count": 53,
   "id": "2edbd328-d13a-4aca-a40b-ce75153c908d",
   "metadata": {},
   "outputs": [
    {
     "data": {
      "text/plain": [
       "[1, 2, 3, 5, 2, 3]"
      ]
     },
     "execution_count": 53,
     "metadata": {},
     "output_type": "execute_result"
    }
   ],
   "source": [
    "numbers"
   ]
  },
  {
   "cell_type": "markdown",
   "id": "85c499ce-6a1b-4bd8-bd1d-9bffdc6dcb26",
   "metadata": {},
   "source": [
    "# Remove Method"
   ]
  },
  {
   "cell_type": "code",
   "execution_count": 54,
   "id": "bb29567c-06ac-4017-996e-6f941f00d9a5",
   "metadata": {},
   "outputs": [
    {
     "data": {
      "text/plain": [
       "[1, 2, 3, 4, 5]"
      ]
     },
     "execution_count": 54,
     "metadata": {},
     "output_type": "execute_result"
    }
   ],
   "source": [
    "data"
   ]
  },
  {
   "cell_type": "code",
   "execution_count": 55,
   "id": "43b40604-f676-4d79-84be-a4e01bc34e1c",
   "metadata": {},
   "outputs": [
    {
     "ename": "TypeError",
     "evalue": "list.remove() takes exactly one argument (0 given)",
     "output_type": "error",
     "traceback": [
      "\u001b[1;31m---------------------------------------------------------------------------\u001b[0m",
      "\u001b[1;31mTypeError\u001b[0m                                 Traceback (most recent call last)",
      "Cell \u001b[1;32mIn[55], line 1\u001b[0m\n\u001b[1;32m----> 1\u001b[0m data\u001b[38;5;241m.\u001b[39mremove()\n",
      "\u001b[1;31mTypeError\u001b[0m: list.remove() takes exactly one argument (0 given)"
     ]
    }
   ],
   "source": [
    "data.remove() # it's show error cuz remove method take one argument"
   ]
  },
  {
   "cell_type": "code",
   "execution_count": 56,
   "id": "0cd88067-6479-4a9e-a2d5-a5996bf12d29",
   "metadata": {},
   "outputs": [],
   "source": [
    "data.append('hello')\n",
    "data.append('hi')"
   ]
  },
  {
   "cell_type": "code",
   "execution_count": 57,
   "id": "4e4703ee-f79a-45e6-aade-bf4bebfe7958",
   "metadata": {},
   "outputs": [
    {
     "data": {
      "text/plain": [
       "[1, 2, 3, 4, 5, 'hello', 'hi']"
      ]
     },
     "execution_count": 57,
     "metadata": {},
     "output_type": "execute_result"
    }
   ],
   "source": [
    "data"
   ]
  },
  {
   "cell_type": "code",
   "execution_count": 58,
   "id": "18261cf1-53a5-41f5-814f-77482d44a688",
   "metadata": {},
   "outputs": [],
   "source": [
    "data.remove('hello')"
   ]
  },
  {
   "cell_type": "code",
   "execution_count": 59,
   "id": "2ce93597-b324-434d-9baa-e174bc92947b",
   "metadata": {},
   "outputs": [
    {
     "data": {
      "text/plain": [
       "[1, 2, 3, 4, 5, 'hi']"
      ]
     },
     "execution_count": 59,
     "metadata": {},
     "output_type": "execute_result"
    }
   ],
   "source": [
    "data"
   ]
  },
  {
   "cell_type": "code",
   "execution_count": 60,
   "id": "213d0d54-d5f5-48ff-b477-c2b2c53bb9e8",
   "metadata": {},
   "outputs": [],
   "source": [
    "# It does not return anything — just modifies the list."
   ]
  },
  {
   "cell_type": "code",
   "execution_count": 61,
   "id": "8eb06416-a737-4630-b31c-7964f0d3937b",
   "metadata": {},
   "outputs": [],
   "source": [
    "# pop() Returns the removed element and remove() Does not return anything. this is a main difference between pop and remove method "
   ]
  },
  {
   "cell_type": "markdown",
   "id": "7c1042a0-e976-4859-86c8-e5049300b242",
   "metadata": {},
   "source": [
    "# insert Method"
   ]
  },
  {
   "cell_type": "code",
   "execution_count": 62,
   "id": "1ca15d8c-8085-4173-a742-126409358a21",
   "metadata": {},
   "outputs": [],
   "source": [
    "# It inserts an element at a specific index without replacing any existing item.\n",
    "# list.insert(index, value)\n",
    "# index: the position where you want to insert the value\n",
    "# value: the item you want to add"
   ]
  },
  {
   "cell_type": "code",
   "execution_count": 63,
   "id": "2e5920d5-011b-45ec-94eb-7fe4f4959ad6",
   "metadata": {},
   "outputs": [],
   "source": [
    "num = [1,2,3,5,6,7]"
   ]
  },
  {
   "cell_type": "code",
   "execution_count": 64,
   "id": "8adfea79-1104-4547-8cfa-befbb12ecff2",
   "metadata": {},
   "outputs": [
    {
     "data": {
      "text/plain": [
       "[1, 2, 3, 5, 6, 7]"
      ]
     },
     "execution_count": 64,
     "metadata": {},
     "output_type": "execute_result"
    }
   ],
   "source": [
    "num"
   ]
  },
  {
   "cell_type": "code",
   "execution_count": 65,
   "id": "762e9cfe-5806-48d9-b3bb-cfc066d18af5",
   "metadata": {},
   "outputs": [],
   "source": [
    "num.insert(3,4) # inserting value ' 4 ' at index 3 ."
   ]
  },
  {
   "cell_type": "code",
   "execution_count": 66,
   "id": "338039c6-ef04-4ac0-8fe8-728ac02cb76d",
   "metadata": {},
   "outputs": [
    {
     "data": {
      "text/plain": [
       "[1, 2, 3, 4, 5, 6, 7]"
      ]
     },
     "execution_count": 66,
     "metadata": {},
     "output_type": "execute_result"
    }
   ],
   "source": [
    "num"
   ]
  },
  {
   "cell_type": "markdown",
   "id": "1fbdc3c5-8ccd-4e46-b1c4-0dd8c02a71e0",
   "metadata": {},
   "source": [
    "# Extend Method"
   ]
  },
  {
   "cell_type": "code",
   "execution_count": 67,
   "id": "94f6ba37-b183-41ac-84ac-55ef8b0b84e6",
   "metadata": {},
   "outputs": [],
   "source": [
    "#extend() adds each element from another list to the end of the current list."
   ]
  },
  {
   "cell_type": "code",
   "execution_count": 68,
   "id": "1e5fff6c-3135-4a8e-980f-acbea9fe90ca",
   "metadata": {},
   "outputs": [
    {
     "data": {
      "text/plain": [
       "[3, 4, 5, 6, 6]"
      ]
     },
     "execution_count": 68,
     "metadata": {},
     "output_type": "execute_result"
    }
   ],
   "source": [
    "l"
   ]
  },
  {
   "cell_type": "markdown",
   "id": "9d12bd3c-6885-4d53-b002-e1607c787f75",
   "metadata": {},
   "source": [
    "num"
   ]
  },
  {
   "cell_type": "code",
   "execution_count": 70,
   "id": "7c50a074-3e66-4671-a0f9-18741bdb9cec",
   "metadata": {},
   "outputs": [],
   "source": [
    "num.extend(l) #marging two lsit"
   ]
  },
  {
   "cell_type": "code",
   "execution_count": 71,
   "id": "412243f2-4081-4550-bf38-014d8da07801",
   "metadata": {},
   "outputs": [
    {
     "data": {
      "text/plain": [
       "[1, 2, 3, 4, 5, 6, 7, 3, 4, 5, 6, 6]"
      ]
     },
     "execution_count": 71,
     "metadata": {},
     "output_type": "execute_result"
    }
   ],
   "source": [
    "num"
   ]
  },
  {
   "cell_type": "markdown",
   "id": "c087a117-5f68-4f28-821b-3c40d1f623fe",
   "metadata": {},
   "source": [
    "# Revers Method"
   ]
  },
  {
   "cell_type": "code",
   "execution_count": 72,
   "id": "90564c52-20dd-4260-abbd-417d05f611eb",
   "metadata": {},
   "outputs": [
    {
     "data": {
      "text/plain": [
       "[1, 2, 3, 4, 5, 6, 7, 3, 4, 5, 6, 6]"
      ]
     },
     "execution_count": 72,
     "metadata": {},
     "output_type": "execute_result"
    }
   ],
   "source": [
    "num"
   ]
  },
  {
   "cell_type": "code",
   "execution_count": 73,
   "id": "6ddc9c65-15df-4148-ab50-1b160ce01759",
   "metadata": {},
   "outputs": [],
   "source": [
    "num.reverse() #reverse() reverses the order of elements in a list (modifies the original list)."
   ]
  },
  {
   "cell_type": "code",
   "execution_count": 74,
   "id": "e0742ebb-eadf-4c60-8b37-064dc9d5f68b",
   "metadata": {},
   "outputs": [
    {
     "data": {
      "text/plain": [
       "[6, 6, 5, 4, 3, 7, 6, 5, 4, 3, 2, 1]"
      ]
     },
     "execution_count": 74,
     "metadata": {},
     "output_type": "execute_result"
    }
   ],
   "source": [
    "num"
   ]
  },
  {
   "cell_type": "markdown",
   "id": "d2ef8cc1-d685-4cc7-82c3-5be5b8b16dba",
   "metadata": {},
   "source": [
    "# Sort Method"
   ]
  },
  {
   "cell_type": "code",
   "execution_count": 75,
   "id": "02a4cb71-ad1d-47a8-861f-159dc0a9d4ac",
   "metadata": {},
   "outputs": [
    {
     "data": {
      "text/plain": [
       "[1, 2, 3, 4, 5, 'hi']"
      ]
     },
     "execution_count": 75,
     "metadata": {},
     "output_type": "execute_result"
    }
   ],
   "source": [
    "data"
   ]
  },
  {
   "cell_type": "code",
   "execution_count": 76,
   "id": "cef3519e-8904-408f-a8c8-ccb48d475759",
   "metadata": {},
   "outputs": [],
   "source": [
    "data.remove('hi')"
   ]
  },
  {
   "cell_type": "code",
   "execution_count": 77,
   "id": "f36d179c-9897-42f9-9e0b-afe6473069e3",
   "metadata": {},
   "outputs": [
    {
     "data": {
      "text/plain": [
       "[1, 2, 3, 4, 5]"
      ]
     },
     "execution_count": 77,
     "metadata": {},
     "output_type": "execute_result"
    }
   ],
   "source": [
    "data"
   ]
  },
  {
   "cell_type": "code",
   "execution_count": 78,
   "id": "fd7471d6-ee13-4e68-860e-5489aa59efa2",
   "metadata": {},
   "outputs": [],
   "source": [
    "# sort() arranges the elements of a list in ascending (default) or descending order."
   ]
  },
  {
   "cell_type": "code",
   "execution_count": 79,
   "id": "a5a89f65-b1a2-43b8-ae02-311069ae5687",
   "metadata": {},
   "outputs": [],
   "source": [
    "data.sort( reverse = True ) #Descending order"
   ]
  },
  {
   "cell_type": "code",
   "execution_count": 80,
   "id": "744eabaf-0689-4d78-975a-02bacde0c00e",
   "metadata": {},
   "outputs": [
    {
     "data": {
      "text/plain": [
       "[5, 4, 3, 2, 1]"
      ]
     },
     "execution_count": 80,
     "metadata": {},
     "output_type": "execute_result"
    }
   ],
   "source": [
    "data"
   ]
  },
  {
   "cell_type": "code",
   "execution_count": 81,
   "id": "3a81e9e8-84c7-446c-bfcc-8b4f7363fdbb",
   "metadata": {},
   "outputs": [],
   "source": [
    "data.sort() # by default ascending order"
   ]
  },
  {
   "cell_type": "code",
   "execution_count": 82,
   "id": "963bd077-edd3-4b49-8e7a-8a045cc2c9b3",
   "metadata": {},
   "outputs": [
    {
     "data": {
      "text/plain": [
       "[1, 2, 3, 4, 5]"
      ]
     },
     "execution_count": 82,
     "metadata": {},
     "output_type": "execute_result"
    }
   ],
   "source": [
    "data"
   ]
  },
  {
   "cell_type": "markdown",
   "id": "ab2f8cc3-1588-4c1e-8952-7221e6690a88",
   "metadata": {},
   "source": [
    "# Clear Method"
   ]
  },
  {
   "cell_type": "code",
   "execution_count": 83,
   "id": "af2e6a50-579f-49d5-a82e-cce037c9c381",
   "metadata": {},
   "outputs": [
    {
     "data": {
      "text/plain": [
       "[1, 2, 3, 4, 5]"
      ]
     },
     "execution_count": 83,
     "metadata": {},
     "output_type": "execute_result"
    }
   ],
   "source": [
    "data"
   ]
  },
  {
   "cell_type": "code",
   "execution_count": 84,
   "id": "569adc24-c772-41a7-a2ac-e1056ed59708",
   "metadata": {},
   "outputs": [],
   "source": [
    "data.clear() # remove all elements from list"
   ]
  },
  {
   "cell_type": "code",
   "execution_count": 85,
   "id": "f7f44c9b-4c9f-4994-bb5d-007965c73fa1",
   "metadata": {},
   "outputs": [
    {
     "data": {
      "text/plain": [
       "[]"
      ]
     },
     "execution_count": 85,
     "metadata": {},
     "output_type": "execute_result"
    }
   ],
   "source": [
    "data"
   ]
  },
  {
   "cell_type": "markdown",
   "id": "2294881a-af1f-44c0-9ce8-871f49f419b2",
   "metadata": {},
   "source": [
    "# Del ListName"
   ]
  },
  {
   "cell_type": "code",
   "execution_count": 86,
   "id": "c8583d3c-30ae-4a52-8e6a-f594afa52d9f",
   "metadata": {},
   "outputs": [],
   "source": [
    "del data # del deletes the entire list from memory"
   ]
  },
  {
   "cell_type": "code",
   "execution_count": 87,
   "id": "e8d5609c-d86e-47c3-881d-2487b36d36ad",
   "metadata": {},
   "outputs": [
    {
     "ename": "NameError",
     "evalue": "name 'data' is not defined",
     "output_type": "error",
     "traceback": [
      "\u001b[1;31m---------------------------------------------------------------------------\u001b[0m",
      "\u001b[1;31mNameError\u001b[0m                                 Traceback (most recent call last)",
      "Cell \u001b[1;32mIn[87], line 1\u001b[0m\n\u001b[1;32m----> 1\u001b[0m data\n",
      "\u001b[1;31mNameError\u001b[0m: name 'data' is not defined"
     ]
    }
   ],
   "source": [
    "data # error cuz delete the data variable from the memoery"
   ]
  },
  {
   "cell_type": "markdown",
   "id": "fdecec32-4397-4502-90fd-69e886291aed",
   "metadata": {},
   "source": [
    "# len()"
   ]
  },
  {
   "cell_type": "code",
   "execution_count": 88,
   "id": "1c524db3-eaea-40c6-b36d-d567044217e7",
   "metadata": {},
   "outputs": [
    {
     "data": {
      "text/plain": [
       "[3, 4, 5, 6, 6]"
      ]
     },
     "execution_count": 88,
     "metadata": {},
     "output_type": "execute_result"
    }
   ],
   "source": [
    "l"
   ]
  },
  {
   "cell_type": "code",
   "execution_count": 89,
   "id": "5c3f6bf3-921b-422c-99a1-6a4de7d59e91",
   "metadata": {},
   "outputs": [
    {
     "data": {
      "text/plain": [
       "5"
      ]
     },
     "execution_count": 89,
     "metadata": {},
     "output_type": "execute_result"
    }
   ],
   "source": [
    "len(l) # calculate and display lenght of content in the list"
   ]
  },
  {
   "cell_type": "code",
   "execution_count": 90,
   "id": "ffcbfd4e-a93d-43fc-ba6b-62998351caa7",
   "metadata": {},
   "outputs": [
    {
     "data": {
      "text/plain": [
       "[3, 4, 5, 6, 6]"
      ]
     },
     "execution_count": 90,
     "metadata": {},
     "output_type": "execute_result"
    }
   ],
   "source": [
    "l"
   ]
  },
  {
   "cell_type": "code",
   "execution_count": 91,
   "id": "30f14a46-df3d-456e-a672-d4a8b2477e05",
   "metadata": {},
   "outputs": [
    {
     "data": {
      "text/plain": [
       "True"
      ]
     },
     "execution_count": 91,
     "metadata": {},
     "output_type": "execute_result"
    }
   ],
   "source": [
    "5 in l # check and ans value '5' present or not in the list"
   ]
  },
  {
   "cell_type": "code",
   "execution_count": 92,
   "id": "f2775939-4fd2-40cd-ab17-060b85b752a2",
   "metadata": {},
   "outputs": [
    {
     "data": {
      "text/plain": [
       "[3, 4, 5, 6, 6]"
      ]
     },
     "execution_count": 92,
     "metadata": {},
     "output_type": "execute_result"
    }
   ],
   "source": [
    "l"
   ]
  },
  {
   "cell_type": "code",
   "execution_count": 97,
   "id": "7db8a3bf-0d73-408d-84d7-8b292adf1373",
   "metadata": {},
   "outputs": [],
   "source": [
    "l.remove('')"
   ]
  },
  {
   "cell_type": "code",
   "execution_count": 98,
   "id": "c143781b-6d5c-421c-8e65-52c9fbb90eb7",
   "metadata": {},
   "outputs": [
    {
     "data": {
      "text/plain": [
       "[3, 4, 5, 6, 6, 'Khwaja']"
      ]
     },
     "execution_count": 98,
     "metadata": {},
     "output_type": "execute_result"
    }
   ],
   "source": [
    "l"
   ]
  },
  {
   "cell_type": "code",
   "execution_count": null,
   "id": "1509e178-d311-4be1-b2f7-63339e22b63f",
   "metadata": {},
   "outputs": [],
   "source": []
  }
 ],
 "metadata": {
  "kernelspec": {
   "display_name": "Python [conda env:base] *",
   "language": "python",
   "name": "conda-base-py"
  },
  "language_info": {
   "codemirror_mode": {
    "name": "ipython",
    "version": 3
   },
   "file_extension": ".py",
   "mimetype": "text/x-python",
   "name": "python",
   "nbconvert_exporter": "python",
   "pygments_lexer": "ipython3",
   "version": "3.12.7"
  }
 },
 "nbformat": 4,
 "nbformat_minor": 5
}
