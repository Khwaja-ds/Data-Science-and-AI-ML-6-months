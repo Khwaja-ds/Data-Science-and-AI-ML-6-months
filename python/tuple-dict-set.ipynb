{
 "cells": [
  {
   "cell_type": "markdown",
   "id": "fd82e889-041e-4c5a-9f26-cc3999748576",
   "metadata": {},
   "source": [
    "# Tuple"
   ]
  },
  {
   "cell_type": "code",
   "execution_count": 24,
   "id": "c78c4690-6fdb-4491-ab73-45c9373d84c2",
   "metadata": {},
   "outputs": [],
   "source": [
    "tup1 = (1,2,3,\"khwaja\") # Creating a tuple"
   ]
  },
  {
   "cell_type": "code",
   "execution_count": 26,
   "id": "ddf7a4c7-de42-4699-98d6-2493bb066532",
   "metadata": {},
   "outputs": [
    {
     "data": {
      "text/plain": [
       "(1, 2, 3, 'khwaja')"
      ]
     },
     "execution_count": 26,
     "metadata": {},
     "output_type": "execute_result"
    }
   ],
   "source": [
    "tup1"
   ]
  },
  {
   "cell_type": "code",
   "execution_count": 27,
   "id": "0d2165b2-a66a-4c22-8e38-fe123ab02be5",
   "metadata": {},
   "outputs": [],
   "source": [
    "# tuple is an ordered collection of elements.\n",
    "# tuple are immutable."
   ]
  },
  {
   "cell_type": "code",
   "execution_count": 28,
   "id": "8c0f78cc-439a-4e8c-8448-06fef5b1806a",
   "metadata": {},
   "outputs": [
    {
     "data": {
      "text/plain": [
       "1"
      ]
     },
     "execution_count": 28,
     "metadata": {},
     "output_type": "execute_result"
    }
   ],
   "source": [
    "tup1.count(3) # count() returns how many times a specific value appears in a tuple."
   ]
  },
  {
   "cell_type": "markdown",
   "id": "f07431c2-b362-4991-b1d3-0e3443c11884",
   "metadata": {},
   "source": [
    "# tuple indexing"
   ]
  },
  {
   "cell_type": "code",
   "execution_count": 29,
   "id": "88ab4506-62da-4a7d-8a4c-51b5532d136b",
   "metadata": {},
   "outputs": [
    {
     "data": {
      "text/plain": [
       "1"
      ]
     },
     "execution_count": 29,
     "metadata": {},
     "output_type": "execute_result"
    }
   ],
   "source": [
    "tup1[0] # Display the value present at index 0."
   ]
  },
  {
   "cell_type": "code",
   "execution_count": 30,
   "id": "372c15cf-08ed-45c3-85dc-9471458b7385",
   "metadata": {},
   "outputs": [
    {
     "data": {
      "text/plain": [
       "'khwaja'"
      ]
     },
     "execution_count": 30,
     "metadata": {},
     "output_type": "execute_result"
    }
   ],
   "source": [
    "tup1[-1] # Backword indexing"
   ]
  },
  {
   "cell_type": "markdown",
   "id": "2391a7bb-d9ac-40fe-b63b-dc0c23c0d2fc",
   "metadata": {},
   "source": [
    "# slicing "
   ]
  },
  {
   "cell_type": "code",
   "execution_count": 31,
   "id": "273c6ba0-a21e-419c-b0ad-63c8a2e65e49",
   "metadata": {},
   "outputs": [
    {
     "data": {
      "text/plain": [
       "(1, 2, 3, 'khwaja')"
      ]
     },
     "execution_count": 31,
     "metadata": {},
     "output_type": "execute_result"
    }
   ],
   "source": [
    "tup1"
   ]
  },
  {
   "cell_type": "code",
   "execution_count": 32,
   "id": "1ac4f74a-657e-465c-8f30-445d6dcd1fe0",
   "metadata": {},
   "outputs": [
    {
     "data": {
      "text/plain": [
       "(2, 3)"
      ]
     },
     "execution_count": 32,
     "metadata": {},
     "output_type": "execute_result"
    }
   ],
   "source": [
    "tup1[1:3] "
   ]
  },
  {
   "cell_type": "code",
   "execution_count": 33,
   "id": "a0109810-fdc7-4b07-bbfd-afce6f1c63d9",
   "metadata": {},
   "outputs": [
    {
     "data": {
      "text/plain": [
       "('khwaja', 3, 2, 1)"
      ]
     },
     "execution_count": 33,
     "metadata": {},
     "output_type": "execute_result"
    }
   ],
   "source": [
    "tup1[::-1] # it's reverse the tuple eelemts"
   ]
  },
  {
   "cell_type": "code",
   "execution_count": 34,
   "id": "4fa662fb-9354-4e44-8807-469e20871a88",
   "metadata": {},
   "outputs": [
    {
     "data": {
      "text/plain": [
       "(1, 2, 3, 'khwaja')"
      ]
     },
     "execution_count": 34,
     "metadata": {},
     "output_type": "execute_result"
    }
   ],
   "source": [
    "tup1"
   ]
  },
  {
   "cell_type": "code",
   "execution_count": 43,
   "id": "c840fe34-656c-4bbd-9098-9a22acc12de6",
   "metadata": {},
   "outputs": [],
   "source": [
    "tup2 = (4,5,6,7)"
   ]
  },
  {
   "cell_type": "code",
   "execution_count": 44,
   "id": "8e3daf16-3efd-492b-afef-f85622404bf0",
   "metadata": {},
   "outputs": [
    {
     "data": {
      "text/plain": [
       "(4, 5, 6, 7)"
      ]
     },
     "execution_count": 44,
     "metadata": {},
     "output_type": "execute_result"
    }
   ],
   "source": [
    "tup2"
   ]
  },
  {
   "cell_type": "code",
   "execution_count": 45,
   "id": "9291ef8d-dfed-4829-9ed3-8c2971401e44",
   "metadata": {},
   "outputs": [
    {
     "data": {
      "text/plain": [
       "(1, 2, 3, 'khwaja', 4, 5, 6, 7)"
      ]
     },
     "execution_count": 45,
     "metadata": {},
     "output_type": "execute_result"
    }
   ],
   "source": [
    "tup1 + tup2 # Concatenation"
   ]
  },
  {
   "cell_type": "code",
   "execution_count": 46,
   "id": "d09daaa3-cca0-4db6-8170-5e17b5d05823",
   "metadata": {},
   "outputs": [
    {
     "data": {
      "text/plain": [
       "(4, 5, 6, 7, 1, 2, 3, 'khwaja')"
      ]
     },
     "execution_count": 46,
     "metadata": {},
     "output_type": "execute_result"
    }
   ],
   "source": [
    "tup2 + tup1"
   ]
  },
  {
   "cell_type": "code",
   "execution_count": 47,
   "id": "ca593de8-58d6-4165-ae00-05c69b6c252f",
   "metadata": {},
   "outputs": [
    {
     "data": {
      "text/plain": [
       "(1, 2, 3, 'khwaja')"
      ]
     },
     "execution_count": 47,
     "metadata": {},
     "output_type": "execute_result"
    }
   ],
   "source": [
    "tup1"
   ]
  },
  {
   "cell_type": "code",
   "execution_count": 48,
   "id": "52a32559-290e-41da-8206-066f0225960f",
   "metadata": {},
   "outputs": [
    {
     "data": {
      "text/plain": [
       "(1, 2, 3, 'khwaja', 1, 2, 3, 'khwaja')"
      ]
     },
     "execution_count": 48,
     "metadata": {},
     "output_type": "execute_result"
    }
   ],
   "source": [
    "tup1*2 # Repeating elements"
   ]
  },
  {
   "cell_type": "code",
   "execution_count": 49,
   "id": "ccc15d55-a895-4004-a851-5397724c9bf4",
   "metadata": {},
   "outputs": [
    {
     "data": {
      "text/plain": [
       "(1, 2, 3, 'khwaja', 1, 2, 3, 'khwaja', 1, 2, 3, 'khwaja')"
      ]
     },
     "execution_count": 49,
     "metadata": {},
     "output_type": "execute_result"
    }
   ],
   "source": [
    "tup1*3 # Repeating elements"
   ]
  },
  {
   "cell_type": "code",
   "execution_count": 50,
   "id": "96b0d649-45da-4ce0-831e-0a2afce34085",
   "metadata": {},
   "outputs": [
    {
     "data": {
      "text/plain": [
       "(1, 2, 3, 'khwaja', 1, 2, 3, 'khwaja', 4, 5, 6, 7)"
      ]
     },
     "execution_count": 50,
     "metadata": {},
     "output_type": "execute_result"
    }
   ],
   "source": [
    "tup1*2 + tup2 # Repeating + Concatenation"
   ]
  },
  {
   "cell_type": "code",
   "execution_count": 51,
   "id": "4c2107ec-0b46-48f5-9669-d34707a67982",
   "metadata": {},
   "outputs": [
    {
     "data": {
      "text/plain": [
       "(4, 5, 6, 7)"
      ]
     },
     "execution_count": 51,
     "metadata": {},
     "output_type": "execute_result"
    }
   ],
   "source": [
    "tup2"
   ]
  },
  {
   "cell_type": "code",
   "execution_count": 52,
   "id": "81cb02d0-c5cf-4263-88ef-0679a259e0d9",
   "metadata": {},
   "outputs": [
    {
     "data": {
      "text/plain": [
       "7"
      ]
     },
     "execution_count": 52,
     "metadata": {},
     "output_type": "execute_result"
    }
   ],
   "source": [
    "max(tup2) # print the maximum value from tuple"
   ]
  },
  {
   "cell_type": "code",
   "execution_count": 53,
   "id": "165af116-0d40-45ae-8715-be76d123c3b6",
   "metadata": {},
   "outputs": [
    {
     "data": {
      "text/plain": [
       "4"
      ]
     },
     "execution_count": 53,
     "metadata": {},
     "output_type": "execute_result"
    }
   ],
   "source": [
    "min(tup2) # for minimum value\n"
   ]
  },
  {
   "cell_type": "code",
   "execution_count": 54,
   "id": "ebec6f3a-4df3-451e-bb7b-2ab1f1da4c96",
   "metadata": {},
   "outputs": [
    {
     "data": {
      "text/plain": [
       "(1, 2, 3, 'khwaja')"
      ]
     },
     "execution_count": 54,
     "metadata": {},
     "output_type": "execute_result"
    }
   ],
   "source": [
    "tup1"
   ]
  },
  {
   "cell_type": "code",
   "execution_count": 55,
   "id": "2bef434e-0890-4920-9c85-0f71312dd819",
   "metadata": {},
   "outputs": [
    {
     "ename": "TypeError",
     "evalue": "'>' not supported between instances of 'str' and 'int'",
     "output_type": "error",
     "traceback": [
      "\u001b[1;31m---------------------------------------------------------------------------\u001b[0m",
      "\u001b[1;31mTypeError\u001b[0m                                 Traceback (most recent call last)",
      "Cell \u001b[1;32mIn[55], line 1\u001b[0m\n\u001b[1;32m----> 1\u001b[0m \u001b[38;5;28mmax\u001b[39m(tup1)\n",
      "\u001b[1;31mTypeError\u001b[0m: '>' not supported between instances of 'str' and 'int'"
     ]
    }
   ],
   "source": [
    "max(tup1) # it is show error if tuple have sting element"
   ]
  },
  {
   "cell_type": "code",
   "execution_count": 56,
   "id": "b604cece-fdab-40dd-b7b6-371ec1f174ea",
   "metadata": {},
   "outputs": [],
   "source": [
    "# Tuple completed"
   ]
  },
  {
   "cell_type": "markdown",
   "id": "3693610c-751e-4553-979d-e5d34324f963",
   "metadata": {},
   "source": [
    "# Dictionary"
   ]
  },
  {
   "cell_type": "code",
   "execution_count": 57,
   "id": "783696e4-6929-4ebb-874f-56dbda2697cf",
   "metadata": {},
   "outputs": [],
   "source": [
    "# Dictionary is an unordered collection of key-values pairs enclosed with {}.\n",
    "# Dict is mutable."
   ]
  },
  {
   "cell_type": "code",
   "execution_count": 58,
   "id": "3e6ae934-2e0e-4e6f-bcd8-42cd1d1a60d2",
   "metadata": {},
   "outputs": [],
   "source": [
    "d1 = { \"apple\" : 200 , \"banana\" : 50 , \"grapes\" : 250 } # Creating a new dict"
   ]
  },
  {
   "cell_type": "code",
   "execution_count": 59,
   "id": "5593a84b-f8e7-4f0f-9fd4-d0aeb1f092a4",
   "metadata": {},
   "outputs": [
    {
     "data": {
      "text/plain": [
       "{'apple': 200, 'banana': 50, 'grapes': 250}"
      ]
     },
     "execution_count": 59,
     "metadata": {},
     "output_type": "execute_result"
    }
   ],
   "source": [
    "d1"
   ]
  },
  {
   "cell_type": "code",
   "execution_count": 61,
   "id": "7a6755f4-e1b5-4b5c-a308-45f860d2ad18",
   "metadata": {},
   "outputs": [
    {
     "data": {
      "text/plain": [
       "dict_keys(['apple', 'banana', 'grapes'])"
      ]
     },
     "execution_count": 61,
     "metadata": {},
     "output_type": "execute_result"
    }
   ],
   "source": [
    "d1.keys() # extracking keys "
   ]
  },
  {
   "cell_type": "code",
   "execution_count": 62,
   "id": "f75a1761-9129-44e9-b00e-eb5c64c86e68",
   "metadata": {},
   "outputs": [
    {
     "data": {
      "text/plain": [
       "dict_values([200, 50, 250])"
      ]
     },
     "execution_count": 62,
     "metadata": {},
     "output_type": "execute_result"
    }
   ],
   "source": [
    "d1.values() # extracking values"
   ]
  },
  {
   "cell_type": "code",
   "execution_count": 63,
   "id": "48e50944-8d88-49b9-84f3-380713ca4c7f",
   "metadata": {},
   "outputs": [],
   "source": [
    "d1[\"watermeloon\"] = 75 # add new element"
   ]
  },
  {
   "cell_type": "code",
   "execution_count": 64,
   "id": "997ee1ce-c006-40e3-9fa0-d7f0f7b08c3b",
   "metadata": {},
   "outputs": [
    {
     "data": {
      "text/plain": [
       "{'apple': 200, 'banana': 50, 'grapes': 250, 'watermeloon': 75}"
      ]
     },
     "execution_count": 64,
     "metadata": {},
     "output_type": "execute_result"
    }
   ],
   "source": [
    "d1"
   ]
  },
  {
   "cell_type": "code",
   "execution_count": 65,
   "id": "7f85ad08-82fe-4951-92d1-c7639599c124",
   "metadata": {},
   "outputs": [],
   "source": [
    "d1[\"banana\"] = 30 # modifying values"
   ]
  },
  {
   "cell_type": "code",
   "execution_count": 66,
   "id": "a8092817-d314-4c05-9817-859b8d0144ff",
   "metadata": {},
   "outputs": [
    {
     "data": {
      "text/plain": [
       "{'apple': 200, 'banana': 30, 'grapes': 250, 'watermeloon': 75}"
      ]
     },
     "execution_count": 66,
     "metadata": {},
     "output_type": "execute_result"
    }
   ],
   "source": [
    "d1"
   ]
  },
  {
   "cell_type": "code",
   "execution_count": 69,
   "id": "907eba13-6f2b-417b-b717-501e3f313ccc",
   "metadata": {},
   "outputs": [],
   "source": [
    "d2 = {\"name\":\"khwaja\",\"age\":21,\"city\":\"parbhani\"}"
   ]
  },
  {
   "cell_type": "code",
   "execution_count": 70,
   "id": "04215aa2-59e6-4467-a278-2ee9e26e7e5a",
   "metadata": {},
   "outputs": [
    {
     "data": {
      "text/plain": [
       "{'name': 'khwaja', 'age': 21, 'city': 'parbhani'}"
      ]
     },
     "execution_count": 70,
     "metadata": {},
     "output_type": "execute_result"
    }
   ],
   "source": [
    "d2"
   ]
  },
  {
   "cell_type": "code",
   "execution_count": 71,
   "id": "b754ccb9-8da2-419e-b588-cc76e202469b",
   "metadata": {},
   "outputs": [],
   "source": [
    "d1.update(d2) # marging two dict"
   ]
  },
  {
   "cell_type": "code",
   "execution_count": 72,
   "id": "aafd5ad3-0b14-4425-904e-3f8eacfa8c6d",
   "metadata": {},
   "outputs": [
    {
     "data": {
      "text/plain": [
       "{'apple': 200,\n",
       " 'banana': 30,\n",
       " 'grapes': 250,\n",
       " 'watermeloon': 75,\n",
       " 'name': 'khwaja',\n",
       " 'age': 21,\n",
       " 'city': 'parbhani'}"
      ]
     },
     "execution_count": 72,
     "metadata": {},
     "output_type": "execute_result"
    }
   ],
   "source": [
    "d1"
   ]
  },
  {
   "cell_type": "code",
   "execution_count": 73,
   "id": "d6a36324-8c09-48a9-9546-70b948d8a473",
   "metadata": {},
   "outputs": [
    {
     "data": {
      "text/plain": [
       "{'name': 'khwaja', 'age': 21, 'city': 'parbhani'}"
      ]
     },
     "execution_count": 73,
     "metadata": {},
     "output_type": "execute_result"
    }
   ],
   "source": [
    "d2"
   ]
  },
  {
   "cell_type": "code",
   "execution_count": 74,
   "id": "bc816a43-078d-4078-b630-25aedb5bb188",
   "metadata": {},
   "outputs": [
    {
     "data": {
      "text/plain": [
       "'parbhani'"
      ]
     },
     "execution_count": 74,
     "metadata": {},
     "output_type": "execute_result"
    }
   ],
   "source": [
    "d2.pop(\"city\") # remove and return elemnet"
   ]
  },
  {
   "cell_type": "code",
   "execution_count": 75,
   "id": "ce39b1d9-6824-43dd-bd92-514e194287b4",
   "metadata": {},
   "outputs": [
    {
     "data": {
      "text/plain": [
       "{'name': 'khwaja', 'age': 21}"
      ]
     },
     "execution_count": 75,
     "metadata": {},
     "output_type": "execute_result"
    }
   ],
   "source": [
    "d2"
   ]
  },
  {
   "cell_type": "code",
   "execution_count": 76,
   "id": "d5281542-6863-4a24-aecd-ba41b389c196",
   "metadata": {},
   "outputs": [],
   "source": [
    "d1.clear() #remove all items from a dictionary."
   ]
  },
  {
   "cell_type": "code",
   "execution_count": 77,
   "id": "75defaa9-e43d-4d6a-aab1-b577fd55d278",
   "metadata": {},
   "outputs": [
    {
     "data": {
      "text/plain": [
       "{}"
      ]
     },
     "execution_count": 77,
     "metadata": {},
     "output_type": "execute_result"
    }
   ],
   "source": [
    "d1"
   ]
  },
  {
   "cell_type": "code",
   "execution_count": 78,
   "id": "6e9710b7-cd10-4c98-8263-32d78b7b11dd",
   "metadata": {},
   "outputs": [
    {
     "data": {
      "text/plain": [
       "dict_items([('name', 'khwaja'), ('age', 21)])"
      ]
     },
     "execution_count": 78,
     "metadata": {},
     "output_type": "execute_result"
    }
   ],
   "source": [
    "d2.items() # Returns all (key, value) pairs as tuples."
   ]
  },
  {
   "cell_type": "code",
   "execution_count": 79,
   "id": "5cce9245-c02e-46f5-bbd2-78ecfd28fcff",
   "metadata": {},
   "outputs": [],
   "source": [
    "d3 = d2.copy() # copy element from d2 and paste in d3"
   ]
  },
  {
   "cell_type": "code",
   "execution_count": 80,
   "id": "d22c77a8-d85a-47b9-9217-7f0a69dc53d2",
   "metadata": {},
   "outputs": [
    {
     "data": {
      "text/plain": [
       "{'name': 'khwaja', 'age': 21}"
      ]
     },
     "execution_count": 80,
     "metadata": {},
     "output_type": "execute_result"
    }
   ],
   "source": [
    "d3"
   ]
  },
  {
   "cell_type": "code",
   "execution_count": 81,
   "id": "0537d821-3fb7-48bf-99cf-dfa1fa3ee5a7",
   "metadata": {},
   "outputs": [],
   "source": [
    "# Dictionary Completed."
   ]
  },
  {
   "cell_type": "markdown",
   "id": "3dd95f4f-31f0-493f-a246-3fdb8cb013cd",
   "metadata": {},
   "source": [
    "# SET"
   ]
  },
  {
   "cell_type": "code",
   "execution_count": 82,
   "id": "da18fcd6-f6b1-4c12-acd2-e91bf2de2898",
   "metadata": {},
   "outputs": [],
   "source": [
    "# set is an unordered collection of elements enclosed in {}.\n",
    "# duplicate  are not allowed in set."
   ]
  },
  {
   "cell_type": "code",
   "execution_count": 86,
   "id": "c3121001-f3dc-4cf0-89cd-d3314405fc96",
   "metadata": {},
   "outputs": [],
   "source": [
    "s1 = {1,\"khwaja\",False,} # creating a set"
   ]
  },
  {
   "cell_type": "markdown",
   "id": "ec2c9b0f-8851-4893-bb12-d686a700b485",
   "metadata": {},
   "source": [
    "s1"
   ]
  },
  {
   "cell_type": "code",
   "execution_count": 88,
   "id": "db342687-2500-46a1-b272-307f8b00d7bf",
   "metadata": {},
   "outputs": [],
   "source": [
    "s1.add(\"hey\") # adding new element"
   ]
  },
  {
   "cell_type": "code",
   "execution_count": 89,
   "id": "d56c4d8b-b49b-413b-88a7-8f9f1aaa293f",
   "metadata": {},
   "outputs": [
    {
     "data": {
      "text/plain": [
       "{1, False, 'hey', 'khwaja'}"
      ]
     },
     "execution_count": 89,
     "metadata": {},
     "output_type": "execute_result"
    }
   ],
   "source": [
    "s1"
   ]
  },
  {
   "cell_type": "code",
   "execution_count": 90,
   "id": "e2e9f254-e08f-48de-a9ff-a72ebf1018e1",
   "metadata": {},
   "outputs": [],
   "source": [
    "s1.remove(False) # removing elemnt from set"
   ]
  },
  {
   "cell_type": "code",
   "execution_count": 91,
   "id": "9ca4befb-9d39-4cd1-a045-6d5316b209f4",
   "metadata": {},
   "outputs": [
    {
     "data": {
      "text/plain": [
       "{1, 'hey', 'khwaja'}"
      ]
     },
     "execution_count": 91,
     "metadata": {},
     "output_type": "execute_result"
    }
   ],
   "source": [
    " s1"
   ]
  },
  {
   "cell_type": "markdown",
   "id": "8aef6baf-48d0-441f-9379-8fac6e4a3235",
   "metadata": {},
   "source": [
    "# functions"
   ]
  },
  {
   "cell_type": "code",
   "execution_count": 92,
   "id": "fd5f387a-702f-4fee-bd6e-043346f92954",
   "metadata": {},
   "outputs": [
    {
     "data": {
      "text/plain": [
       "{1, 'hey', 'khwaja'}"
      ]
     },
     "execution_count": 92,
     "metadata": {},
     "output_type": "execute_result"
    }
   ],
   "source": [
    "s1"
   ]
  },
  {
   "cell_type": "code",
   "execution_count": 93,
   "id": "81ccc7a0-4730-408d-88fe-d12f9ae9d666",
   "metadata": {},
   "outputs": [],
   "source": [
    "s2 = {\"hello\",20,} # creating another set"
   ]
  },
  {
   "cell_type": "code",
   "execution_count": 94,
   "id": "6ea36b51-37bc-437c-bb2e-60dab9552b54",
   "metadata": {},
   "outputs": [
    {
     "data": {
      "text/plain": [
       "{20, 'hello'}"
      ]
     },
     "execution_count": 94,
     "metadata": {},
     "output_type": "execute_result"
    }
   ],
   "source": [
    "s2"
   ]
  },
  {
   "cell_type": "code",
   "execution_count": 95,
   "id": "b7e960d1-75a4-4953-b922-a8a0c675d974",
   "metadata": {},
   "outputs": [
    {
     "data": {
      "text/plain": [
       "{1, 20, 'hello', 'hey', 'khwaja'}"
      ]
     },
     "execution_count": 95,
     "metadata": {},
     "output_type": "execute_result"
    }
   ],
   "source": [
    "s1.union(s2) # appending s2 into s1."
   ]
  },
  {
   "cell_type": "code",
   "execution_count": 96,
   "id": "fb3ae875-82c4-436b-9527-99b56e53b5c2",
   "metadata": {},
   "outputs": [],
   "source": [
    "new1 = {1,2,3,4,5}"
   ]
  },
  {
   "cell_type": "code",
   "execution_count": 97,
   "id": "332b8da4-7814-443f-b4a9-b9cb291862e8",
   "metadata": {},
   "outputs": [
    {
     "data": {
      "text/plain": [
       "{1, 2, 3, 4, 5}"
      ]
     },
     "execution_count": 97,
     "metadata": {},
     "output_type": "execute_result"
    }
   ],
   "source": [
    "new1"
   ]
  },
  {
   "cell_type": "code",
   "execution_count": 98,
   "id": "102aafcc-0c00-4526-9b61-cb95346c1bf2",
   "metadata": {},
   "outputs": [],
   "source": [
    "new2 = {2,1,3,4}"
   ]
  },
  {
   "cell_type": "code",
   "execution_count": 99,
   "id": "f008f205-a9ca-4f9b-a260-489137135843",
   "metadata": {},
   "outputs": [
    {
     "data": {
      "text/plain": [
       "{1, 2, 3, 4}"
      ]
     },
     "execution_count": 99,
     "metadata": {},
     "output_type": "execute_result"
    }
   ],
   "source": [
    "new2"
   ]
  },
  {
   "cell_type": "code",
   "execution_count": 100,
   "id": "fdd95268-e786-466a-8f26-eef7e3581638",
   "metadata": {},
   "outputs": [
    {
     "data": {
      "text/plain": [
       "{1, 2, 3, 4}"
      ]
     },
     "execution_count": 100,
     "metadata": {},
     "output_type": "execute_result"
    }
   ],
   "source": [
    "new1.intersection(new2) # finding common values between two sets"
   ]
  },
  {
   "cell_type": "code",
   "execution_count": null,
   "id": "5203c9f5-db8c-4567-ae3d-e218c7b7cd45",
   "metadata": {},
   "outputs": [],
   "source": []
  }
 ],
 "metadata": {
  "kernelspec": {
   "display_name": "Python [conda env:base] *",
   "language": "python",
   "name": "conda-base-py"
  },
  "language_info": {
   "codemirror_mode": {
    "name": "ipython",
    "version": 3
   },
   "file_extension": ".py",
   "mimetype": "text/x-python",
   "name": "python",
   "nbconvert_exporter": "python",
   "pygments_lexer": "ipython3",
   "version": "3.12.7"
  }
 },
 "nbformat": 4,
 "nbformat_minor": 5
}
