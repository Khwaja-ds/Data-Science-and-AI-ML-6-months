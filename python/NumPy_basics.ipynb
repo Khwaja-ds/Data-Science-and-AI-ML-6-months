{
 "cells": [
  {
   "cell_type": "markdown",
   "id": "e3bf8db6-da94-4ec2-809b-d9e50d69d575",
   "metadata": {},
   "source": [
    "# NumPy"
   ]
  },
  {
   "cell_type": "code",
   "execution_count": 1,
   "id": "f40f445a-c3e7-4450-a44e-e0b7be054483",
   "metadata": {},
   "outputs": [],
   "source": [
    "# first of all we need to import numpy."
   ]
  },
  {
   "cell_type": "code",
   "execution_count": 2,
   "id": "b155dca6-5bf4-475b-b95e-d5b16180a0ca",
   "metadata": {},
   "outputs": [],
   "source": [
    "import numpy as np"
   ]
  },
  {
   "cell_type": "code",
   "execution_count": 3,
   "id": "737fa3bb-9df1-4376-bb2f-93c44cda958b",
   "metadata": {},
   "outputs": [],
   "source": [
    "# creating np array."
   ]
  },
  {
   "cell_type": "code",
   "execution_count": 4,
   "id": "dce0a1e4-0f92-4b22-8679-d8481eaa8014",
   "metadata": {},
   "outputs": [],
   "source": [
    "arr = np.array([1,2,3,4,5]) # 1D array"
   ]
  },
  {
   "cell_type": "code",
   "execution_count": 5,
   "id": "fd21cba7-d3f0-4aea-b175-45a63b2eec90",
   "metadata": {},
   "outputs": [
    {
     "data": {
      "text/plain": [
       "array([1, 2, 3, 4, 5])"
      ]
     },
     "execution_count": 5,
     "metadata": {},
     "output_type": "execute_result"
    }
   ],
   "source": [
    "arr"
   ]
  },
  {
   "cell_type": "code",
   "execution_count": 6,
   "id": "42fedc71-65cb-4522-8d42-ed3fd19dfb65",
   "metadata": {},
   "outputs": [],
   "source": [
    "arr = np.array([[1,2,3,4] ,[5,6,7,8]]) # 2D array"
   ]
  },
  {
   "cell_type": "code",
   "execution_count": 7,
   "id": "9bfb0fa2-c2a9-4d74-b20e-01f9e13789d3",
   "metadata": {},
   "outputs": [
    {
     "data": {
      "text/plain": [
       "array([[1, 2, 3, 4],\n",
       "       [5, 6, 7, 8]])"
      ]
     },
     "execution_count": 7,
     "metadata": {},
     "output_type": "execute_result"
    }
   ],
   "source": [
    "arr"
   ]
  },
  {
   "cell_type": "code",
   "execution_count": 8,
   "id": "92922691-b92d-44e7-992c-fb1f3d0e99a3",
   "metadata": {},
   "outputs": [],
   "source": [
    "# converting list into array"
   ]
  },
  {
   "cell_type": "code",
   "execution_count": 9,
   "id": "421992b8-5b8d-4301-9aea-c4d79dbe5f5f",
   "metadata": {},
   "outputs": [],
   "source": [
    "list1 = [1,2,3,4,5,6,7,8,9]"
   ]
  },
  {
   "cell_type": "code",
   "execution_count": 10,
   "id": "e5abcd6f-4ac4-4cb1-b22e-716f61d558ad",
   "metadata": {},
   "outputs": [
    {
     "data": {
      "text/plain": [
       "[1, 2, 3, 4, 5, 6, 7, 8, 9]"
      ]
     },
     "execution_count": 10,
     "metadata": {},
     "output_type": "execute_result"
    }
   ],
   "source": [
    "list1"
   ]
  },
  {
   "cell_type": "code",
   "execution_count": 11,
   "id": "faaa3267-4e40-4bbc-bdf9-b43d3f80f587",
   "metadata": {},
   "outputs": [
    {
     "data": {
      "text/plain": [
       "list"
      ]
     },
     "execution_count": 11,
     "metadata": {},
     "output_type": "execute_result"
    }
   ],
   "source": [
    "type(list1)"
   ]
  },
  {
   "cell_type": "code",
   "execution_count": 12,
   "id": "db2b8e75-7639-402f-8d0f-3b3351bb247a",
   "metadata": {},
   "outputs": [],
   "source": [
    "arr1 = np.array(list1)"
   ]
  },
  {
   "cell_type": "code",
   "execution_count": 13,
   "id": "c69bf80a-c913-4cb4-bcb4-a9dd5a0951c2",
   "metadata": {},
   "outputs": [
    {
     "data": {
      "text/plain": [
       "array([1, 2, 3, 4, 5, 6, 7, 8, 9])"
      ]
     },
     "execution_count": 13,
     "metadata": {},
     "output_type": "execute_result"
    }
   ],
   "source": [
    "arr1"
   ]
  },
  {
   "cell_type": "code",
   "execution_count": 14,
   "id": "17324b2c-de2c-4aea-bf64-3918747c4d08",
   "metadata": {},
   "outputs": [
    {
     "data": {
      "text/plain": [
       "numpy.ndarray"
      ]
     },
     "execution_count": 14,
     "metadata": {},
     "output_type": "execute_result"
    }
   ],
   "source": [
    "type(arr1)"
   ]
  },
  {
   "cell_type": "markdown",
   "id": "f4b05c79-1e23-4902-9f3f-2ebce634f74d",
   "metadata": {},
   "source": [
    "# Numpy.ndarray"
   ]
  },
  {
   "cell_type": "code",
   "execution_count": 15,
   "id": "2ba13d8c-fb98-473a-92ad-de073d7b6cdb",
   "metadata": {},
   "outputs": [],
   "source": [
    "# arange()"
   ]
  },
  {
   "cell_type": "code",
   "execution_count": 16,
   "id": "498bc528-ab84-4348-a711-3ef11404ab3a",
   "metadata": {},
   "outputs": [],
   "source": [
    "a = np.arange(5)"
   ]
  },
  {
   "cell_type": "code",
   "execution_count": 17,
   "id": "41506ed0-7684-474d-af91-3869aec5490d",
   "metadata": {},
   "outputs": [
    {
     "data": {
      "text/plain": [
       "array([0, 1, 2, 3, 4])"
      ]
     },
     "execution_count": 17,
     "metadata": {},
     "output_type": "execute_result"
    }
   ],
   "source": [
    "a"
   ]
  },
  {
   "cell_type": "code",
   "execution_count": 18,
   "id": "19623223-f53a-4636-af4a-97f6e561136a",
   "metadata": {},
   "outputs": [],
   "source": [
    "a1 = np.arange(0,10) "
   ]
  },
  {
   "cell_type": "code",
   "execution_count": 19,
   "id": "8f8d5ce1-2b7f-4f0b-b11b-c43830771bdd",
   "metadata": {},
   "outputs": [
    {
     "data": {
      "text/plain": [
       "array([0, 1, 2, 3, 4, 5, 6, 7, 8, 9])"
      ]
     },
     "execution_count": 19,
     "metadata": {},
     "output_type": "execute_result"
    }
   ],
   "source": [
    "a1"
   ]
  },
  {
   "cell_type": "code",
   "execution_count": 20,
   "id": "02ec0097-b586-4a7d-9c20-227ba1e6f80c",
   "metadata": {},
   "outputs": [],
   "source": [
    "a2 = np.arange(0,10,2) # start-end-step"
   ]
  },
  {
   "cell_type": "code",
   "execution_count": 21,
   "id": "11410e94-4d3a-4bab-90f3-cf12b186c58f",
   "metadata": {},
   "outputs": [
    {
     "data": {
      "text/plain": [
       "array([0, 2, 4, 6, 8])"
      ]
     },
     "execution_count": 21,
     "metadata": {},
     "output_type": "execute_result"
    }
   ],
   "source": [
    "a2 "
   ]
  },
  {
   "cell_type": "code",
   "execution_count": 22,
   "id": "2f0e9df6-5b67-495f-bd1a-bc758841ab12",
   "metadata": {},
   "outputs": [],
   "source": [
    "# zeros"
   ]
  },
  {
   "cell_type": "code",
   "execution_count": 23,
   "id": "74f7f8db-b097-4f4e-b67e-8f779558d458",
   "metadata": {},
   "outputs": [],
   "source": [
    "b = np.zeros(10) #create a array of value zeros.But it is by default float."
   ]
  },
  {
   "cell_type": "code",
   "execution_count": 24,
   "id": "0ba817e9-75d7-44d2-b530-66a011ca4e0d",
   "metadata": {},
   "outputs": [
    {
     "data": {
      "text/plain": [
       "array([0., 0., 0., 0., 0., 0., 0., 0., 0., 0.])"
      ]
     },
     "execution_count": 24,
     "metadata": {},
     "output_type": "execute_result"
    }
   ],
   "source": [
    "b"
   ]
  },
  {
   "cell_type": "code",
   "execution_count": 25,
   "id": "6f222db2-692a-4022-9fc5-bd3875843820",
   "metadata": {},
   "outputs": [],
   "source": [
    "b = np.zeros((5,5))"
   ]
  },
  {
   "cell_type": "code",
   "execution_count": 26,
   "id": "c1f28972-3dcb-4203-a4b0-03813469aae4",
   "metadata": {},
   "outputs": [
    {
     "data": {
      "text/plain": [
       "array([[0., 0., 0., 0., 0.],\n",
       "       [0., 0., 0., 0., 0.],\n",
       "       [0., 0., 0., 0., 0.],\n",
       "       [0., 0., 0., 0., 0.],\n",
       "       [0., 0., 0., 0., 0.]])"
      ]
     },
     "execution_count": 26,
     "metadata": {},
     "output_type": "execute_result"
    }
   ],
   "source": [
    "b"
   ]
  },
  {
   "cell_type": "code",
   "execution_count": 27,
   "id": "c32a7867-4752-4b3c-8ed0-6d940dfed584",
   "metadata": {},
   "outputs": [],
   "source": [
    "b = np.zeros((5,5))"
   ]
  },
  {
   "cell_type": "code",
   "execution_count": 28,
   "id": "c91cb2ed-70ee-46ac-ae6f-293bcece4d3f",
   "metadata": {},
   "outputs": [
    {
     "data": {
      "text/plain": [
       "array([[0., 0., 0., 0., 0.],\n",
       "       [0., 0., 0., 0., 0.],\n",
       "       [0., 0., 0., 0., 0.],\n",
       "       [0., 0., 0., 0., 0.],\n",
       "       [0., 0., 0., 0., 0.]])"
      ]
     },
     "execution_count": 28,
     "metadata": {},
     "output_type": "execute_result"
    }
   ],
   "source": [
    "b"
   ]
  },
  {
   "cell_type": "code",
   "execution_count": 29,
   "id": "0963cb67-48bc-4e46-9cbc-65af96220cde",
   "metadata": {},
   "outputs": [],
   "source": [
    "b1 = np.zeros(10, dtype=int) # for integer."
   ]
  },
  {
   "cell_type": "code",
   "execution_count": 30,
   "id": "fc4b441a-cf5b-4f39-a47d-5b27126f19eb",
   "metadata": {},
   "outputs": [
    {
     "data": {
      "text/plain": [
       "array([0, 0, 0, 0, 0, 0, 0, 0, 0, 0])"
      ]
     },
     "execution_count": 30,
     "metadata": {},
     "output_type": "execute_result"
    }
   ],
   "source": [
    "b1"
   ]
  },
  {
   "cell_type": "code",
   "execution_count": 31,
   "id": "cba2277f-37b4-41a2-9cbc-75182a019918",
   "metadata": {},
   "outputs": [],
   "source": [
    "b1 = np.zeros((10,10),dtype=int) # 10 x 10 matrix"
   ]
  },
  {
   "cell_type": "code",
   "execution_count": 32,
   "id": "3fb0a130-f250-4856-beb0-9d444780a768",
   "metadata": {},
   "outputs": [
    {
     "data": {
      "text/plain": [
       "array([[0, 0, 0, 0, 0, 0, 0, 0, 0, 0],\n",
       "       [0, 0, 0, 0, 0, 0, 0, 0, 0, 0],\n",
       "       [0, 0, 0, 0, 0, 0, 0, 0, 0, 0],\n",
       "       [0, 0, 0, 0, 0, 0, 0, 0, 0, 0],\n",
       "       [0, 0, 0, 0, 0, 0, 0, 0, 0, 0],\n",
       "       [0, 0, 0, 0, 0, 0, 0, 0, 0, 0],\n",
       "       [0, 0, 0, 0, 0, 0, 0, 0, 0, 0],\n",
       "       [0, 0, 0, 0, 0, 0, 0, 0, 0, 0],\n",
       "       [0, 0, 0, 0, 0, 0, 0, 0, 0, 0],\n",
       "       [0, 0, 0, 0, 0, 0, 0, 0, 0, 0]])"
      ]
     },
     "execution_count": 32,
     "metadata": {},
     "output_type": "execute_result"
    }
   ],
   "source": [
    "b1"
   ]
  },
  {
   "cell_type": "code",
   "execution_count": 33,
   "id": "ea1f0c16-3b1b-430b-be35-588423f33cdb",
   "metadata": {},
   "outputs": [],
   "source": [
    " # ones"
   ]
  },
  {
   "cell_type": "code",
   "execution_count": 34,
   "id": "76763a26-148e-4ab3-a299-054c876198e8",
   "metadata": {},
   "outputs": [],
   "source": [
    "c = np.ones(10) # now element value is 1"
   ]
  },
  {
   "cell_type": "code",
   "execution_count": 35,
   "id": "a2d86285-9680-4c5e-a668-eac47b89daa3",
   "metadata": {},
   "outputs": [
    {
     "data": {
      "text/plain": [
       "array([1., 1., 1., 1., 1., 1., 1., 1., 1., 1.])"
      ]
     },
     "execution_count": 35,
     "metadata": {},
     "output_type": "execute_result"
    }
   ],
   "source": [
    "c"
   ]
  },
  {
   "cell_type": "code",
   "execution_count": 36,
   "id": "6978da76-e71f-4aa8-8fbf-bcf9066c2948",
   "metadata": {},
   "outputs": [],
   "source": [
    "c = np.ones((5,5)) # 5x5 matrix dtype float."
   ]
  },
  {
   "cell_type": "code",
   "execution_count": 37,
   "id": "ceb8c36b-cb37-4e1a-9576-b197afa256e6",
   "metadata": {},
   "outputs": [
    {
     "data": {
      "text/plain": [
       "array([[1., 1., 1., 1., 1.],\n",
       "       [1., 1., 1., 1., 1.],\n",
       "       [1., 1., 1., 1., 1.],\n",
       "       [1., 1., 1., 1., 1.],\n",
       "       [1., 1., 1., 1., 1.]])"
      ]
     },
     "execution_count": 37,
     "metadata": {},
     "output_type": "execute_result"
    }
   ],
   "source": [
    "c"
   ]
  },
  {
   "cell_type": "code",
   "execution_count": 38,
   "id": "e53846fe-c47c-45c2-8527-f879655b4f6b",
   "metadata": {},
   "outputs": [],
   "source": [
    "c1 = np.ones(10,dtype=int) # change data type"
   ]
  },
  {
   "cell_type": "code",
   "execution_count": 39,
   "id": "12555731-6b76-4969-aead-c5c1730d2e44",
   "metadata": {},
   "outputs": [
    {
     "data": {
      "text/plain": [
       "array([1, 1, 1, 1, 1, 1, 1, 1, 1, 1])"
      ]
     },
     "execution_count": 39,
     "metadata": {},
     "output_type": "execute_result"
    }
   ],
   "source": [
    "c1"
   ]
  },
  {
   "cell_type": "code",
   "execution_count": 40,
   "id": "b27dc34c-3fde-4aa4-a616-b6563477f4df",
   "metadata": {},
   "outputs": [],
   "source": [
    "c1 = np.ones((10,10),dtype=int)"
   ]
  },
  {
   "cell_type": "code",
   "execution_count": 41,
   "id": "cb5ce6fa-bb90-4542-9dd7-e883e7e92452",
   "metadata": {},
   "outputs": [
    {
     "data": {
      "text/plain": [
       "array([[1, 1, 1, 1, 1, 1, 1, 1, 1, 1],\n",
       "       [1, 1, 1, 1, 1, 1, 1, 1, 1, 1],\n",
       "       [1, 1, 1, 1, 1, 1, 1, 1, 1, 1],\n",
       "       [1, 1, 1, 1, 1, 1, 1, 1, 1, 1],\n",
       "       [1, 1, 1, 1, 1, 1, 1, 1, 1, 1],\n",
       "       [1, 1, 1, 1, 1, 1, 1, 1, 1, 1],\n",
       "       [1, 1, 1, 1, 1, 1, 1, 1, 1, 1],\n",
       "       [1, 1, 1, 1, 1, 1, 1, 1, 1, 1],\n",
       "       [1, 1, 1, 1, 1, 1, 1, 1, 1, 1],\n",
       "       [1, 1, 1, 1, 1, 1, 1, 1, 1, 1]])"
      ]
     },
     "execution_count": 41,
     "metadata": {},
     "output_type": "execute_result"
    }
   ],
   "source": [
    "c1"
   ]
  },
  {
   "cell_type": "code",
   "execution_count": 42,
   "id": "51593b56-74d9-4919-8301-d6a1a972be7c",
   "metadata": {},
   "outputs": [],
   "source": [
    "# random,rand,randint."
   ]
  },
  {
   "cell_type": "code",
   "execution_count": 43,
   "id": "b3279e2e-61d5-43ca-be8c-48fcd84134d3",
   "metadata": {},
   "outputs": [],
   "source": [
    "r = np.random.rand(5) # generating 5 diff random no. but in float"
   ]
  },
  {
   "cell_type": "code",
   "execution_count": 44,
   "id": "a88f2903-a805-480a-ba34-2de45f61af67",
   "metadata": {},
   "outputs": [
    {
     "data": {
      "text/plain": [
       "array([0.05166883, 0.29238661, 0.05192074, 0.62780078, 0.78165781])"
      ]
     },
     "execution_count": 44,
     "metadata": {},
     "output_type": "execute_result"
    }
   ],
   "source": [
    "r"
   ]
  },
  {
   "cell_type": "code",
   "execution_count": 45,
   "id": "2db22086-9fff-4cab-a27b-f2629c19ea4c",
   "metadata": {},
   "outputs": [],
   "source": [
    "r = np.random.rand(5,6) # 5 x 6 matrix"
   ]
  },
  {
   "cell_type": "code",
   "execution_count": 46,
   "id": "c0242f9e-7d28-48c3-b714-ef20a93eb4f2",
   "metadata": {},
   "outputs": [
    {
     "data": {
      "text/plain": [
       "array([[0.49183565, 0.10226467, 0.16356302, 0.84294697, 0.92139015,\n",
       "        0.84964984],\n",
       "       [0.96257033, 0.54799343, 0.92834302, 0.16924088, 0.86031376,\n",
       "        0.41781285],\n",
       "       [0.6268112 , 0.12996468, 0.08785506, 0.76279169, 0.38526431,\n",
       "        0.92747179],\n",
       "       [0.36335713, 0.85401527, 0.37407753, 0.98080437, 0.51328638,\n",
       "        0.58279104],\n",
       "       [0.98483344, 0.8297037 , 0.42755384, 0.38891192, 0.38695061,\n",
       "        0.65031986]])"
      ]
     },
     "execution_count": 46,
     "metadata": {},
     "output_type": "execute_result"
    }
   ],
   "source": [
    "r"
   ]
  },
  {
   "cell_type": "code",
   "execution_count": 47,
   "id": "b3ce53c9-4e52-40b6-9561-6a24db1bd42b",
   "metadata": {},
   "outputs": [],
   "source": [
    "# for int no."
   ]
  },
  {
   "cell_type": "code",
   "execution_count": 48,
   "id": "d4519b63-72d2-4ef4-ac06-95af683f9a71",
   "metadata": {},
   "outputs": [],
   "source": [
    "rint = np.random.randint(5) # generating random no. but less than 5 ."
   ]
  },
  {
   "cell_type": "code",
   "execution_count": null,
   "id": "c6f250c3-65a8-4a93-a6f8-03868c8604b6",
   "metadata": {},
   "outputs": [],
   "source": [
    "rint "
   ]
  }
 ],
 "metadata": {
  "kernelspec": {
   "display_name": "Python [conda env:base] *",
   "language": "python",
   "name": "conda-base-py"
  },
  "language_info": {
   "codemirror_mode": {
    "name": "ipython",
    "version": 3
   },
   "file_extension": ".py",
   "mimetype": "text/x-python",
   "name": "python",
   "nbconvert_exporter": "python",
   "pygments_lexer": "ipython3",
   "version": "3.12.7"
  }
 },
 "nbformat": 4,
 "nbformat_minor": 5
}
