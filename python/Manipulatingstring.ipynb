{
 "cells": [
  {
   "cell_type": "markdown",
   "id": "078966e4-32f4-4207-a448-689b351c0386",
   "metadata": {},
   "source": [
    "# Manipulating Strings"
   ]
  },
  {
   "cell_type": "code",
   "execution_count": 2,
   "id": "5151630a-b3af-4e29-a868-b409fc9674eb",
   "metadata": {},
   "outputs": [
    {
     "name": "stdout",
     "output_type": "stream",
     "text": [
      " hello \n",
      " how are you \n",
      " bye \n"
     ]
    }
   ],
   "source": [
    "print ( \" hello \\n how are you \\n bye \") # \\n for new line"
   ]
  },
  {
   "cell_type": "code",
   "execution_count": 3,
   "id": "53805f85-ce03-4855-9d3f-a4413aa61490",
   "metadata": {},
   "outputs": [
    {
     "name": "stdout",
     "output_type": "stream",
     "text": [
      " it' ok \n"
     ]
    }
   ],
   "source": [
    "print ( \" it\\' ok \")"
   ]
  },
  {
   "cell_type": "code",
   "execution_count": 4,
   "id": "6b2b30c4-0f58-42b0-9c7e-a620d9b408f3",
   "metadata": {},
   "outputs": [
    {
     "name": "stdout",
     "output_type": "stream",
     "text": [
      "hello\n"
     ]
    }
   ],
   "source": [
    "print( \"helloo\\b\" ) # \\b for backspace"
   ]
  },
  {
   "cell_type": "code",
   "execution_count": 5,
   "id": "bd55aeda-2174-4557-86ff-e54155785d92",
   "metadata": {},
   "outputs": [
    {
     "name": "stdout",
     "output_type": "stream",
     "text": [
      " it\"s ok \n"
     ]
    }
   ],
   "source": [
    "print( ' it\\\"s ok ')"
   ]
  },
  {
   "cell_type": "code",
   "execution_count": 6,
   "id": "97ca7aed-2925-4834-912e-f24039593791",
   "metadata": {},
   "outputs": [
    {
     "name": "stdout",
     "output_type": "stream",
     "text": [
      "hello\tworld\n"
     ]
    }
   ],
   "source": [
    "print(\"hello\\tworld\")"
   ]
  },
  {
   "cell_type": "code",
   "execution_count": 7,
   "id": "2116cf39-725e-430e-a374-0de99fbab96a",
   "metadata": {},
   "outputs": [
    {
     "name": "stdout",
     "output_type": "stream",
     "text": [
      " world\n"
     ]
    }
   ],
   "source": [
    "print(\" hello\\r world\")"
   ]
  },
  {
   "cell_type": "raw",
   "id": "ffdd26e0-ee04-4c81-8c48-f9b08f2d5e8a",
   "metadata": {},
   "source": [
    "                                  ** Raw Strings"
   ]
  },
  {
   "cell_type": "code",
   "execution_count": 9,
   "id": "3249b336-fcff-4580-95c5-1ae2bc8b7820",
   "metadata": {},
   "outputs": [
    {
     "name": "stdout",
     "output_type": "stream",
     "text": [
      "hello \\n how are you \\n bye \n"
     ]
    }
   ],
   "source": [
    "print(r\"hello \\n how are you \\n bye \")"
   ]
  },
  {
   "cell_type": "raw",
   "id": "a4a6fff8-86a5-4619-8d9b-b3dfe8cfd780",
   "metadata": {},
   "source": [
    "                                  ** Multiline String"
   ]
  },
  {
   "cell_type": "code",
   "execution_count": 11,
   "id": "408bc0e4-6c68-4f08-a3c5-25c9ee2de39e",
   "metadata": {},
   "outputs": [
    {
     "name": "stdout",
     "output_type": "stream",
     "text": [
      " hello \n",
      "how are you guys,\n",
      "my name is Khwaja.\n",
      "This is multiline string.\n"
     ]
    }
   ],
   "source": [
    "print(''' hello \n",
    "how are you guys,\n",
    "my name is Khwaja.\n",
    "This is multiline string.''')"
   ]
  },
  {
   "cell_type": "code",
   "execution_count": 12,
   "id": "fc2bc09d-062f-4ddb-a586-1fc0885cf041",
   "metadata": {},
   "outputs": [],
   "source": [
    "name = \"Kwaja\""
   ]
  },
  {
   "cell_type": "code",
   "execution_count": 13,
   "id": "edec30f8-345f-42dc-b07b-5724c3c546eb",
   "metadata": {},
   "outputs": [
    {
     "data": {
      "text/plain": [
       "'Kwaja'"
      ]
     },
     "execution_count": 13,
     "metadata": {},
     "output_type": "execute_result"
    }
   ],
   "source": [
    "name"
   ]
  },
  {
   "cell_type": "code",
   "execution_count": 14,
   "id": "b0535b41-b584-4497-8118-fa80390a2545",
   "metadata": {},
   "outputs": [
    {
     "data": {
      "text/plain": [
       "'K'"
      ]
     },
     "execution_count": 14,
     "metadata": {},
     "output_type": "execute_result"
    }
   ],
   "source": [
    "name[0]"
   ]
  },
  {
   "cell_type": "code",
   "execution_count": 15,
   "id": "a3dad789-7f03-4116-beb7-5ba4bb8d6f5f",
   "metadata": {},
   "outputs": [
    {
     "data": {
      "text/plain": [
       "'a'"
      ]
     },
     "execution_count": 15,
     "metadata": {},
     "output_type": "execute_result"
    }
   ],
   "source": [
    "name[-1]"
   ]
  },
  {
   "cell_type": "code",
   "execution_count": 16,
   "id": "577a1f0a-74e9-4837-9377-0cf337701678",
   "metadata": {},
   "outputs": [
    {
     "data": {
      "text/plain": [
       "'Kwa'"
      ]
     },
     "execution_count": 16,
     "metadata": {},
     "output_type": "execute_result"
    }
   ],
   "source": [
    "name[0:3]"
   ]
  },
  {
   "cell_type": "code",
   "execution_count": 17,
   "id": "9bbbc8de-5007-43f8-8430-47db057cf1c0",
   "metadata": {},
   "outputs": [
    {
     "data": {
      "text/plain": [
       "'ajawK'"
      ]
     },
     "execution_count": 17,
     "metadata": {},
     "output_type": "execute_result"
    }
   ],
   "source": [
    "name[::-1] # reverse string"
   ]
  },
  {
   "cell_type": "code",
   "execution_count": 18,
   "id": "e8557d45-2a9b-4fec-a9fc-d349f863522e",
   "metadata": {},
   "outputs": [],
   "source": [
    "a = \"fine\""
   ]
  },
  {
   "cell_type": "code",
   "execution_count": 19,
   "id": "b578b62f-d774-439b-ada3-9fa556a18293",
   "metadata": {},
   "outputs": [
    {
     "data": {
      "text/plain": [
       "'fine'"
      ]
     },
     "execution_count": 19,
     "metadata": {},
     "output_type": "execute_result"
    }
   ],
   "source": [
    "a"
   ]
  },
  {
   "cell_type": "code",
   "execution_count": 20,
   "id": "1906fb6d-6b38-4e11-b580-f85e6eb2ab87",
   "metadata": {},
   "outputs": [
    {
     "ename": "TypeError",
     "evalue": "'str' object does not support item assignment",
     "output_type": "error",
     "traceback": [
      "\u001b[1;31m---------------------------------------------------------------------------\u001b[0m",
      "\u001b[1;31mTypeError\u001b[0m                                 Traceback (most recent call last)",
      "Cell \u001b[1;32mIn[20], line 1\u001b[0m\n\u001b[1;32m----> 1\u001b[0m a[\u001b[38;5;241m0\u001b[39m] \u001b[38;5;241m=\u001b[39m \u001b[38;5;124m\"\u001b[39m\u001b[38;5;124md\u001b[39m\u001b[38;5;124m\"\u001b[39m\n",
      "\u001b[1;31mTypeError\u001b[0m: 'str' object does not support item assignment"
     ]
    }
   ],
   "source": [
    "a[0] = \"d\" # if we want to change fine into dine and try this way itwill  show a error."
   ]
  },
  {
   "cell_type": "code",
   "execution_count": 21,
   "id": "c3d7572c-172c-4df1-881a-49c2f6c43f34",
   "metadata": {},
   "outputs": [],
   "source": [
    "# logic for changing fine into dine."
   ]
  },
  {
   "cell_type": "code",
   "execution_count": 22,
   "id": "a40c6fb8-da32-4921-aa45-ac275e86e1c5",
   "metadata": {},
   "outputs": [
    {
     "data": {
      "text/plain": [
       "'ine'"
      ]
     },
     "execution_count": 22,
     "metadata": {},
     "output_type": "execute_result"
    }
   ],
   "source": [
    "a[1:]"
   ]
  },
  {
   "cell_type": "code",
   "execution_count": 23,
   "id": "4e977b39-4f16-4d46-90cd-4e1cba250fb3",
   "metadata": {},
   "outputs": [
    {
     "data": {
      "text/plain": [
       "'dine'"
      ]
     },
     "execution_count": 23,
     "metadata": {},
     "output_type": "execute_result"
    }
   ],
   "source": [
    "\"d\" + a[1:]"
   ]
  },
  {
   "cell_type": "code",
   "execution_count": 24,
   "id": "6e3d7b7a-aa54-4ce8-afd4-bcbba6a663bc",
   "metadata": {},
   "outputs": [],
   "source": [
    "# in or not in."
   ]
  },
  {
   "cell_type": "code",
   "execution_count": 25,
   "id": "e301a118-c39b-41eb-ba25-dfefb20eddf7",
   "metadata": {},
   "outputs": [
    {
     "data": {
      "text/plain": [
       "True"
      ]
     },
     "execution_count": 25,
     "metadata": {},
     "output_type": "execute_result"
    }
   ],
   "source": [
    "\"hello\" in \"hello world\""
   ]
  },
  {
   "cell_type": "code",
   "execution_count": 26,
   "id": "a710164d-4059-4585-8c48-56ce55ff5f74",
   "metadata": {},
   "outputs": [
    {
     "data": {
      "text/plain": [
       "False"
      ]
     },
     "execution_count": 26,
     "metadata": {},
     "output_type": "execute_result"
    }
   ],
   "source": [
    "\"hello\" in \" hii world\""
   ]
  },
  {
   "cell_type": "code",
   "execution_count": 27,
   "id": "c2632a3b-80c6-4542-aa63-29f9afd9a450",
   "metadata": {},
   "outputs": [
    {
     "data": {
      "text/plain": [
       "True"
      ]
     },
     "execution_count": 27,
     "metadata": {},
     "output_type": "execute_result"
    }
   ],
   "source": [
    "\"hello\" not in \"hii world\""
   ]
  },
  {
   "cell_type": "code",
   "execution_count": 28,
   "id": "2e26fdec-87aa-44d7-83df-58a9a169efd0",
   "metadata": {},
   "outputs": [
    {
     "data": {
      "text/plain": [
       "'Kwaja'"
      ]
     },
     "execution_count": 28,
     "metadata": {},
     "output_type": "execute_result"
    }
   ],
   "source": [
    "name"
   ]
  },
  {
   "cell_type": "code",
   "execution_count": 29,
   "id": "63a96a5f-efac-4bbf-a618-603083a48cbb",
   "metadata": {},
   "outputs": [
    {
     "data": {
      "text/plain": [
       "'KWAJA'"
      ]
     },
     "execution_count": 29,
     "metadata": {},
     "output_type": "execute_result"
    }
   ],
   "source": [
    "name.upper()"
   ]
  },
  {
   "cell_type": "code",
   "execution_count": 30,
   "id": "a6b4cf25-5768-4314-9f6c-3ca70627e95a",
   "metadata": {},
   "outputs": [
    {
     "data": {
      "text/plain": [
       "'kwaja'"
      ]
     },
     "execution_count": 30,
     "metadata": {},
     "output_type": "execute_result"
    }
   ],
   "source": [
    "name.lower()"
   ]
  },
  {
   "cell_type": "code",
   "execution_count": 31,
   "id": "13cd6e3a-a299-4c18-a8b5-f0382e6bacec",
   "metadata": {},
   "outputs": [
    {
     "data": {
      "text/plain": [
       "'Kwaja'"
      ]
     },
     "execution_count": 31,
     "metadata": {},
     "output_type": "execute_result"
    }
   ],
   "source": [
    "name.title()"
   ]
  },
  {
   "cell_type": "code",
   "execution_count": 32,
   "id": "8c1b8ce3-48f7-45a7-bf44-4a6770d99a3f",
   "metadata": {},
   "outputs": [
    {
     "data": {
      "text/plain": [
       "'Kwaja'"
      ]
     },
     "execution_count": 32,
     "metadata": {},
     "output_type": "execute_result"
    }
   ],
   "source": [
    "name"
   ]
  },
  {
   "cell_type": "code",
   "execution_count": 33,
   "id": "353af931-d543-4914-b062-eafce9250682",
   "metadata": {},
   "outputs": [
    {
     "data": {
      "text/plain": [
       "False"
      ]
     },
     "execution_count": 33,
     "metadata": {},
     "output_type": "execute_result"
    }
   ],
   "source": [
    "name.isupper()"
   ]
  },
  {
   "cell_type": "code",
   "execution_count": 34,
   "id": "17a73b3d-1ebe-49ba-b63e-af05ef285c1e",
   "metadata": {},
   "outputs": [
    {
     "data": {
      "text/plain": [
       "False"
      ]
     },
     "execution_count": 34,
     "metadata": {},
     "output_type": "execute_result"
    }
   ],
   "source": [
    "name.islower()"
   ]
  },
  {
   "cell_type": "code",
   "execution_count": 35,
   "id": "6cbb8df3-dcc9-47b4-bd72-6d2c0953f33a",
   "metadata": {},
   "outputs": [
    {
     "data": {
      "text/plain": [
       "'Kwaja'"
      ]
     },
     "execution_count": 35,
     "metadata": {},
     "output_type": "execute_result"
    }
   ],
   "source": [
    "name"
   ]
  },
  {
   "cell_type": "code",
   "execution_count": 36,
   "id": "631ca0b7-bf76-4158-af2b-207627539344",
   "metadata": {},
   "outputs": [
    {
     "data": {
      "text/plain": [
       "True"
      ]
     },
     "execution_count": 36,
     "metadata": {},
     "output_type": "execute_result"
    }
   ],
   "source": [
    "name.isalpha()"
   ]
  },
  {
   "cell_type": "code",
   "execution_count": 37,
   "id": "f0d5371a-681f-40b0-b968-df04dac6bb83",
   "metadata": {},
   "outputs": [
    {
     "data": {
      "text/plain": [
       "'abc12'"
      ]
     },
     "execution_count": 37,
     "metadata": {},
     "output_type": "execute_result"
    }
   ],
   "source": [
    "b = \"abc12\"\n",
    "b"
   ]
  },
  {
   "cell_type": "code",
   "execution_count": 38,
   "id": "6febb857-4238-4179-918b-a4de6172eee7",
   "metadata": {},
   "outputs": [
    {
     "data": {
      "text/plain": [
       "False"
      ]
     },
     "execution_count": 38,
     "metadata": {},
     "output_type": "execute_result"
    }
   ],
   "source": [
    "b.isalpha() #isalpha()\treturns `True` if the string consists only of letters."
   ]
  },
  {
   "cell_type": "code",
   "execution_count": 39,
   "id": "6f3c1760-818c-4135-b162-782b15c837cf",
   "metadata": {},
   "outputs": [
    {
     "data": {
      "text/plain": [
       "False"
      ]
     },
     "execution_count": 39,
     "metadata": {},
     "output_type": "execute_result"
    }
   ],
   "source": [
    "b.isnumeric()"
   ]
  },
  {
   "cell_type": "code",
   "execution_count": 40,
   "id": "585f36dc-17e0-4194-84da-16599df83c89",
   "metadata": {},
   "outputs": [],
   "source": [
    "b = \"123\""
   ]
  },
  {
   "cell_type": "code",
   "execution_count": 41,
   "id": "1d94d8a9-68c3-4019-b4f7-e03f6e159e60",
   "metadata": {},
   "outputs": [
    {
     "data": {
      "text/plain": [
       "'123'"
      ]
     },
     "execution_count": 41,
     "metadata": {},
     "output_type": "execute_result"
    }
   ],
   "source": [
    "b"
   ]
  },
  {
   "cell_type": "code",
   "execution_count": 42,
   "id": "06189efa-8b9b-42dc-b369-bec492f43106",
   "metadata": {},
   "outputs": [
    {
     "data": {
      "text/plain": [
       "True"
      ]
     },
     "execution_count": 42,
     "metadata": {},
     "output_type": "execute_result"
    }
   ],
   "source": [
    "b.isnumeric() # isalnum()\treturns `True` if the string consists only of letters and numbers."
   ]
  },
  {
   "cell_type": "code",
   "execution_count": 43,
   "id": "4fa6296f-10a1-4d1a-b5ce-5e2672b67dec",
   "metadata": {},
   "outputs": [
    {
     "data": {
      "text/plain": [
       "'Kwaja'"
      ]
     },
     "execution_count": 43,
     "metadata": {},
     "output_type": "execute_result"
    }
   ],
   "source": [
    "name"
   ]
  },
  {
   "cell_type": "code",
   "execution_count": 44,
   "id": "a5d3b61d-8425-42f3-ba03-576cfcf54c8c",
   "metadata": {},
   "outputs": [
    {
     "data": {
      "text/plain": [
       "True"
      ]
     },
     "execution_count": 44,
     "metadata": {},
     "output_type": "execute_result"
    }
   ],
   "source": [
    "name.startswith('K')"
   ]
  },
  {
   "cell_type": "code",
   "execution_count": 45,
   "id": "6054d446-249d-4c24-bfef-7537ccc32dfc",
   "metadata": {},
   "outputs": [
    {
     "data": {
      "text/plain": [
       "True"
      ]
     },
     "execution_count": 45,
     "metadata": {},
     "output_type": "execute_result"
    }
   ],
   "source": [
    "name.endswith('a')"
   ]
  },
  {
   "cell_type": "code",
   "execution_count": 46,
   "id": "bf5fd124-eddf-4137-9bae-a2e7387fa4f5",
   "metadata": {},
   "outputs": [
    {
     "data": {
      "text/plain": [
       "['my', ' name', ' is', ' Khwaja']"
      ]
     },
     "execution_count": 46,
     "metadata": {},
     "output_type": "execute_result"
    }
   ],
   "source": [
    "list1 = ['my',' name',' is',' Khwaja']\n",
    "list1"
   ]
  },
  {
   "cell_type": "code",
   "execution_count": 47,
   "id": "28af4b33-d7cb-4250-89ea-858a29b1c2bd",
   "metadata": {},
   "outputs": [
    {
     "data": {
      "text/plain": [
       "'my name is Khwaja'"
      ]
     },
     "execution_count": 47,
     "metadata": {},
     "output_type": "execute_result"
    }
   ],
   "source": [
    "''.join(list1) "
   ]
  },
  {
   "cell_type": "code",
   "execution_count": 48,
   "id": "838881e7-891e-4db7-b5c6-3d7cf5635945",
   "metadata": {},
   "outputs": [
    {
     "data": {
      "text/plain": [
       "'Kwaja'"
      ]
     },
     "execution_count": 48,
     "metadata": {},
     "output_type": "execute_result"
    }
   ],
   "source": [
    "name"
   ]
  },
  {
   "cell_type": "code",
   "execution_count": 49,
   "id": "cd746e7a-9b6e-496d-9b20-e51a2c472d68",
   "metadata": {},
   "outputs": [
    {
     "data": {
      "text/plain": [
       "'     Kwaja'"
      ]
     },
     "execution_count": 49,
     "metadata": {},
     "output_type": "execute_result"
    }
   ],
   "source": [
    "name.rjust(10)"
   ]
  },
  {
   "cell_type": "code",
   "execution_count": 50,
   "id": "99f24489-e88c-4b1b-af49-f2c44ceaee59",
   "metadata": {},
   "outputs": [
    {
     "data": {
      "text/plain": [
       "'***************Kwaja'"
      ]
     },
     "execution_count": 50,
     "metadata": {},
     "output_type": "execute_result"
    }
   ],
   "source": [
    "name.rjust(20,'*')"
   ]
  },
  {
   "cell_type": "code",
   "execution_count": 51,
   "id": "3733258a-dfc6-4826-bd8e-ab9ee9b002e5",
   "metadata": {},
   "outputs": [
    {
     "data": {
      "text/plain": [
       "'Kwaja     '"
      ]
     },
     "execution_count": 51,
     "metadata": {},
     "output_type": "execute_result"
    }
   ],
   "source": [
    "name.ljust(10)"
   ]
  },
  {
   "cell_type": "code",
   "execution_count": 52,
   "id": "be3aae22-ae32-4159-a461-9e0cb877b0d1",
   "metadata": {},
   "outputs": [
    {
     "data": {
      "text/plain": [
       "'       Kwaja        '"
      ]
     },
     "execution_count": 52,
     "metadata": {},
     "output_type": "execute_result"
    }
   ],
   "source": [
    "name.center(20)"
   ]
  },
  {
   "cell_type": "code",
   "execution_count": 53,
   "id": "48867118-5868-416a-bf32-2aefefa85cd3",
   "metadata": {},
   "outputs": [
    {
     "data": {
      "text/plain": [
       "'=======Kwaja========'"
      ]
     },
     "execution_count": 53,
     "metadata": {},
     "output_type": "execute_result"
    }
   ],
   "source": [
    "name.center(20,'=')"
   ]
  },
  {
   "cell_type": "code",
   "execution_count": 75,
   "id": "a3d34032-f196-4a4f-a539-924d86a616df",
   "metadata": {},
   "outputs": [],
   "source": [
    "name = '    Khwaja   ' "
   ]
  },
  {
   "cell_type": "code",
   "execution_count": 76,
   "id": "04b8d906-62d8-46a2-a24c-f6a7a22b4021",
   "metadata": {},
   "outputs": [
    {
     "data": {
      "text/plain": [
       "'    Khwaja   '"
      ]
     },
     "execution_count": 76,
     "metadata": {},
     "output_type": "execute_result"
    }
   ],
   "source": [
    "name"
   ]
  },
  {
   "cell_type": "code",
   "execution_count": 77,
   "id": "e957d7ed-f08a-4d65-b943-5c068113ae93",
   "metadata": {},
   "outputs": [
    {
     "data": {
      "text/plain": [
       "'    Khwaja'"
      ]
     },
     "execution_count": 77,
     "metadata": {},
     "output_type": "execute_result"
    }
   ],
   "source": [
    "name.rstrip()"
   ]
  },
  {
   "cell_type": "code",
   "execution_count": 78,
   "id": "71b73e8c-5148-41e3-bd0e-e9d8690fb41c",
   "metadata": {},
   "outputs": [
    {
     "data": {
      "text/plain": [
       "'Khwaja   '"
      ]
     },
     "execution_count": 78,
     "metadata": {},
     "output_type": "execute_result"
    }
   ],
   "source": [
    "name.lstrip()"
   ]
  },
  {
   "cell_type": "code",
   "execution_count": 79,
   "id": "3b826318-2b99-4664-9c7b-fd5ca9335e6d",
   "metadata": {},
   "outputs": [
    {
     "data": {
      "text/plain": [
       "'Khwaja'"
      ]
     },
     "execution_count": 79,
     "metadata": {},
     "output_type": "execute_result"
    }
   ],
   "source": [
    "name.strip()"
   ]
  },
  {
   "cell_type": "code",
   "execution_count": 80,
   "id": "0c906aec-7e7e-460e-a455-e3e78b525835",
   "metadata": {},
   "outputs": [
    {
     "data": {
      "text/plain": [
       "' hello guys my name is khwaja '"
      ]
     },
     "execution_count": 80,
     "metadata": {},
     "output_type": "execute_result"
    }
   ],
   "source": [
    "str = \" hello guys my name is khwaja \"\n",
    "str"
   ]
  },
  {
   "cell_type": "code",
   "execution_count": 81,
   "id": "f86e341a-383f-40c6-8603-354643425822",
   "metadata": {},
   "outputs": [
    {
     "data": {
      "text/plain": [
       "2"
      ]
     },
     "execution_count": 81,
     "metadata": {},
     "output_type": "execute_result"
    }
   ],
   "source": [
    "str.count('e')"
   ]
  },
  {
   "cell_type": "code",
   "execution_count": 82,
   "id": "29294472-1b42-46a1-836d-3e856e892f8a",
   "metadata": {},
   "outputs": [
    {
     "data": {
      "text/plain": [
       "30"
      ]
     },
     "execution_count": 82,
     "metadata": {},
     "output_type": "execute_result"
    }
   ],
   "source": [
    "len(str)"
   ]
  },
  {
   "cell_type": "code",
   "execution_count": 83,
   "id": "ec5767db-95f7-4f84-bb4f-f7fcaccc974a",
   "metadata": {},
   "outputs": [
    {
     "data": {
      "text/plain": [
       "' hello guys my name is khwaja '"
      ]
     },
     "execution_count": 83,
     "metadata": {},
     "output_type": "execute_result"
    }
   ],
   "source": [
    "str"
   ]
  },
  {
   "cell_type": "code",
   "execution_count": 84,
   "id": "13382050-de73-43e3-98cf-d460284c4123",
   "metadata": {},
   "outputs": [
    {
     "data": {
      "text/plain": [
       "' hello bro my name is khwaja '"
      ]
     },
     "execution_count": 84,
     "metadata": {},
     "output_type": "execute_result"
    }
   ],
   "source": [
    "str.replace(\"guys\",\"bro\")"
   ]
  },
  {
   "cell_type": "code",
   "execution_count": 85,
   "id": "02536e35-e198-4d82-97ce-48b3498126c0",
   "metadata": {},
   "outputs": [
    {
     "data": {
      "text/plain": [
       "'    Khwaja   '"
      ]
     },
     "execution_count": 85,
     "metadata": {},
     "output_type": "execute_result"
    }
   ],
   "source": [
    "name"
   ]
  },
  {
   "cell_type": "code",
   "execution_count": 86,
   "id": "f5127d86-09b7-47a1-ac6e-d2ca0b2637a2",
   "metadata": {},
   "outputs": [
    {
     "data": {
      "text/plain": [
       "'    khwaja   '"
      ]
     },
     "execution_count": 86,
     "metadata": {},
     "output_type": "execute_result"
    }
   ],
   "source": [
    "name.capitalize()"
   ]
  },
  {
   "cell_type": "code",
   "execution_count": 87,
   "id": "532794e2-2139-42e6-84c9-918806585b49",
   "metadata": {},
   "outputs": [],
   "source": [
    "x = ' HELLO '"
   ]
  },
  {
   "cell_type": "code",
   "execution_count": 88,
   "id": "75ec710e-03da-41bf-8c28-5e04cfa971e6",
   "metadata": {},
   "outputs": [
    {
     "data": {
      "text/plain": [
       "' HELLO '"
      ]
     },
     "execution_count": 88,
     "metadata": {},
     "output_type": "execute_result"
    }
   ],
   "source": [
    "x"
   ]
  },
  {
   "cell_type": "code",
   "execution_count": 89,
   "id": "6364f599-6aed-4b37-838a-cc5d08a8dd59",
   "metadata": {},
   "outputs": [
    {
     "data": {
      "text/plain": [
       "' hello '"
      ]
     },
     "execution_count": 89,
     "metadata": {},
     "output_type": "execute_result"
    }
   ],
   "source": [
    "x.lower()"
   ]
  },
  {
   "cell_type": "code",
   "execution_count": 90,
   "id": "43e0edd3-ba4b-4c16-bf4d-401f7f5bdfce",
   "metadata": {},
   "outputs": [
    {
     "data": {
      "text/plain": [
       "' HELLO '"
      ]
     },
     "execution_count": 90,
     "metadata": {},
     "output_type": "execute_result"
    }
   ],
   "source": [
    "x"
   ]
  },
  {
   "cell_type": "code",
   "execution_count": 91,
   "id": "6fb0f463-fbaf-435c-978f-dab2b03012dc",
   "metadata": {},
   "outputs": [
    {
     "data": {
      "text/plain": [
       "' hello '"
      ]
     },
     "execution_count": 91,
     "metadata": {},
     "output_type": "execute_result"
    }
   ],
   "source": [
    "x.swapcase()"
   ]
  },
  {
   "cell_type": "code",
   "execution_count": 92,
   "id": "57b47bef-d5ac-4388-a307-7b14152fc33e",
   "metadata": {},
   "outputs": [],
   "source": [
    "                         #concat"
   ]
  },
  {
   "cell_type": "code",
   "execution_count": 93,
   "id": "e3d2cf10-31db-4adf-ad6b-f3ebb9a616a6",
   "metadata": {},
   "outputs": [
    {
     "data": {
      "text/plain": [
       "'helloKhwaja'"
      ]
     },
     "execution_count": 93,
     "metadata": {},
     "output_type": "execute_result"
    }
   ],
   "source": [
    "'hello' + 'Khwaja'"
   ]
  },
  {
   "cell_type": "code",
   "execution_count": 94,
   "id": "d1dacee8-1876-4dc1-8305-eccc14572ab6",
   "metadata": {},
   "outputs": [
    {
     "data": {
      "text/plain": [
       "' HELLO '"
      ]
     },
     "execution_count": 94,
     "metadata": {},
     "output_type": "execute_result"
    }
   ],
   "source": [
    "x"
   ]
  },
  {
   "cell_type": "code",
   "execution_count": 95,
   "id": "4de90fd1-abb6-43e1-9afb-8c775ca5bf8a",
   "metadata": {},
   "outputs": [
    {
     "data": {
      "text/plain": [
       "'Khwaja Khwaja Khwaja Khwaja Khwaja '"
      ]
     },
     "execution_count": 95,
     "metadata": {},
     "output_type": "execute_result"
    }
   ],
   "source": [
    "'Khwaja '*5"
   ]
  },
  {
   "cell_type": "code",
   "execution_count": 96,
   "id": "c4229a15-a566-48b4-bf69-4a94d2ef762c",
   "metadata": {},
   "outputs": [
    {
     "data": {
      "text/plain": [
       "' HELLO '"
      ]
     },
     "execution_count": 96,
     "metadata": {},
     "output_type": "execute_result"
    }
   ],
   "source": [
    "x"
   ]
  },
  {
   "cell_type": "code",
   "execution_count": 97,
   "id": "f29de0f7-9349-4dea-850e-e2f93d75020f",
   "metadata": {},
   "outputs": [
    {
     "data": {
      "text/plain": [
       "'1 HELLO 2 HELLO 3 HELLO 4'"
      ]
     },
     "execution_count": 97,
     "metadata": {},
     "output_type": "execute_result"
    }
   ],
   "source": [
    "x.join('1234')"
   ]
  },
  {
   "cell_type": "code",
   "execution_count": 98,
   "id": "01016414-bfc8-4ca4-b852-5645c914aeb8",
   "metadata": {},
   "outputs": [
    {
     "data": {
      "text/plain": [
       "' HELLO '"
      ]
     },
     "execution_count": 98,
     "metadata": {},
     "output_type": "execute_result"
    }
   ],
   "source": [
    "x"
   ]
  },
  {
   "cell_type": "code",
   "execution_count": 99,
   "id": "d8e69697-deb3-4fbc-94b3-edacd206bdf9",
   "metadata": {},
   "outputs": [],
   "source": [
    "str = \"hello guys how are you \""
   ]
  },
  {
   "cell_type": "code",
   "execution_count": null,
   "id": "aa682b1a-ac67-4238-ac2c-501f4806a6b6",
   "metadata": {},
   "outputs": [],
   "source": []
  }
 ],
 "metadata": {
  "kernelspec": {
   "display_name": "Python [conda env:base] *",
   "language": "python",
   "name": "conda-base-py"
  },
  "language_info": {
   "codemirror_mode": {
    "name": "ipython",
    "version": 3
   },
   "file_extension": ".py",
   "mimetype": "text/x-python",
   "name": "python",
   "nbconvert_exporter": "python",
   "pygments_lexer": "ipython3",
   "version": "3.12.7"
  }
 },
 "nbformat": 4,
 "nbformat_minor": 5
}
