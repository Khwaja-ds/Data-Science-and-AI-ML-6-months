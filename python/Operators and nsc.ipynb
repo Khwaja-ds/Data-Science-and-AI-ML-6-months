{
 "cells": [
  {
   "cell_type": "markdown",
   "id": "5a4f8ed0-0d6c-4c78-823c-ebb187f81216",
   "metadata": {},
   "source": [
    "# Operators"
   ]
  },
  {
   "cell_type": "code",
   "execution_count": 1,
   "id": "4ffbf40b-c02c-4e73-8d17-cd1dfa580666",
   "metadata": {},
   "outputs": [],
   "source": [
    "# Operators Are used to show which type of operation is in the code"
   ]
  },
  {
   "cell_type": "markdown",
   "id": "a77304f5-b939-4511-a529-9d4e841a604a",
   "metadata": {},
   "source": [
    "# Arithematic Operators"
   ]
  },
  {
   "cell_type": "code",
   "execution_count": 2,
   "id": "c7c6704c-2d95-4eb1-8686-36fc7fde6797",
   "metadata": {},
   "outputs": [],
   "source": [
    "x,y = 10,20"
   ]
  },
  {
   "cell_type": "code",
   "execution_count": 3,
   "id": "c2c06b4e-7d3b-4ad4-ba80-647e62057212",
   "metadata": {},
   "outputs": [
    {
     "data": {
      "text/plain": [
       "30"
      ]
     },
     "execution_count": 3,
     "metadata": {},
     "output_type": "execute_result"
    }
   ],
   "source": [
    "x+y #Addition"
   ]
  },
  {
   "cell_type": "code",
   "execution_count": 4,
   "id": "697287cb-88c0-4f96-9dca-8c851cc09da6",
   "metadata": {},
   "outputs": [
    {
     "data": {
      "text/plain": [
       "-10"
      ]
     },
     "execution_count": 4,
     "metadata": {},
     "output_type": "execute_result"
    }
   ],
   "source": [
    "x-y # Substraction"
   ]
  },
  {
   "cell_type": "code",
   "execution_count": 5,
   "id": "539b08d0-75f5-41cc-97be-039a860f85e2",
   "metadata": {},
   "outputs": [
    {
     "data": {
      "text/plain": [
       "200"
      ]
     },
     "execution_count": 5,
     "metadata": {},
     "output_type": "execute_result"
    }
   ],
   "source": [
    "x*y # Multiplication"
   ]
  },
  {
   "cell_type": "code",
   "execution_count": 6,
   "id": "0c329b98-3622-4fef-a9c5-7347431ed9f8",
   "metadata": {},
   "outputs": [
    {
     "data": {
      "text/plain": [
       "0.5"
      ]
     },
     "execution_count": 6,
     "metadata": {},
     "output_type": "execute_result"
    }
   ],
   "source": [
    "x/y # Division"
   ]
  },
  {
   "cell_type": "code",
   "execution_count": 7,
   "id": "2e76cf29-3be4-4313-a934-044faa2cbb15",
   "metadata": {},
   "outputs": [
    {
     "data": {
      "text/plain": [
       "0"
      ]
     },
     "execution_count": 7,
     "metadata": {},
     "output_type": "execute_result"
    }
   ],
   "source": [
    "x // y # floor Division"
   ]
  },
  {
   "cell_type": "code",
   "execution_count": 9,
   "id": "02362cd6-cbac-49fb-99c4-8397593ddabd",
   "metadata": {},
   "outputs": [
    {
     "data": {
      "text/plain": [
       "10"
      ]
     },
     "execution_count": 9,
     "metadata": {},
     "output_type": "execute_result"
    }
   ],
   "source": [
    "x%y # Modulus"
   ]
  },
  {
   "cell_type": "code",
   "execution_count": 10,
   "id": "c8174b6f-4d71-451a-86af-a371b7bf3322",
   "metadata": {},
   "outputs": [
    {
     "data": {
      "text/plain": [
       "100000000000000000000"
      ]
     },
     "execution_count": 10,
     "metadata": {},
     "output_type": "execute_result"
    }
   ],
   "source": [
    "x ** y # Exponentiation "
   ]
  },
  {
   "cell_type": "markdown",
   "id": "d6a81e03-d886-4004-b2c1-088f2aa5f2d5",
   "metadata": {},
   "source": [
    "# Assignment Operators"
   ]
  },
  {
   "cell_type": "code",
   "execution_count": 13,
   "id": "a53f124b-f4e3-4021-9ce0-678f01cfe14a",
   "metadata": {},
   "outputs": [],
   "source": [
    "x = 2 # Equals to operator "
   ]
  },
  {
   "cell_type": "code",
   "execution_count": 14,
   "id": "6170062b-d85f-401e-910b-74024e703472",
   "metadata": {},
   "outputs": [
    {
     "data": {
      "text/plain": [
       "2"
      ]
     },
     "execution_count": 14,
     "metadata": {},
     "output_type": "execute_result"
    }
   ],
   "source": [
    "x"
   ]
  },
  {
   "cell_type": "code",
   "execution_count": 15,
   "id": "df0c17ca-8fe6-412c-b30a-28afdeeaefc3",
   "metadata": {},
   "outputs": [],
   "source": [
    "x += 2 # It will adds the value after the plus equals to operator in the actual value"
   ]
  },
  {
   "cell_type": "code",
   "execution_count": 16,
   "id": "b47350d6-0458-42d4-8252-379c6d68e456",
   "metadata": {},
   "outputs": [
    {
     "data": {
      "text/plain": [
       "4"
      ]
     },
     "execution_count": 16,
     "metadata": {},
     "output_type": "execute_result"
    }
   ],
   "source": [
    "x"
   ]
  },
  {
   "cell_type": "code",
   "execution_count": 17,
   "id": "14d95655-6911-40ac-bbd2-c1fa16e9ace1",
   "metadata": {},
   "outputs": [],
   "source": [
    "x -= 2 # It will remove the value after the subtract equals to operator in the actual value"
   ]
  },
  {
   "cell_type": "code",
   "execution_count": 18,
   "id": "4128dea1-9b19-44b3-a4d1-9f27ae92a229",
   "metadata": {},
   "outputs": [
    {
     "data": {
      "text/plain": [
       "2"
      ]
     },
     "execution_count": 18,
     "metadata": {},
     "output_type": "execute_result"
    }
   ],
   "source": [
    "x"
   ]
  },
  {
   "cell_type": "code",
   "execution_count": 19,
   "id": "6df146ba-1ff5-43ff-a47c-81460ed4f50a",
   "metadata": {},
   "outputs": [],
   "source": [
    "x *= 2 # It will multiply the value after the multiply equals to operator in the actual value"
   ]
  },
  {
   "cell_type": "code",
   "execution_count": 20,
   "id": "c1ab1b54-17d4-429c-ac6f-2762e185a6df",
   "metadata": {},
   "outputs": [
    {
     "data": {
      "text/plain": [
       "4"
      ]
     },
     "execution_count": 20,
     "metadata": {},
     "output_type": "execute_result"
    }
   ],
   "source": [
    "x"
   ]
  },
  {
   "cell_type": "code",
   "execution_count": 21,
   "id": "032b9ed7-7d85-44bc-ae46-4586eba93a95",
   "metadata": {},
   "outputs": [],
   "source": [
    "x /= 2 # It will devide the actual value after the divide equals to operator in the actual value"
   ]
  },
  {
   "cell_type": "code",
   "execution_count": 22,
   "id": "406d9f6b-6b76-40e8-a833-04b8c291a245",
   "metadata": {},
   "outputs": [
    {
     "data": {
      "text/plain": [
       "2.0"
      ]
     },
     "execution_count": 22,
     "metadata": {},
     "output_type": "execute_result"
    }
   ],
   "source": [
    "x"
   ]
  },
  {
   "cell_type": "markdown",
   "id": "a2a4fda5-9c71-4259-964d-6f8f6a4f9a97",
   "metadata": {},
   "source": [
    "# Unary Operator"
   ]
  },
  {
   "cell_type": "code",
   "execution_count": 23,
   "id": "38de4376-fc92-4dfb-b48d-8874cb3b2750",
   "metadata": {},
   "outputs": [],
   "source": [
    "n = 7"
   ]
  },
  {
   "cell_type": "code",
   "execution_count": 24,
   "id": "f83adc21-43e8-4423-b1c5-540327bd2d30",
   "metadata": {},
   "outputs": [
    {
     "data": {
      "text/plain": [
       "7"
      ]
     },
     "execution_count": 24,
     "metadata": {},
     "output_type": "execute_result"
    }
   ],
   "source": [
    "n"
   ]
  },
  {
   "cell_type": "code",
   "execution_count": 25,
   "id": "a4898f4d-212e-4c9b-bebe-fe80674405d9",
   "metadata": {},
   "outputs": [],
   "source": [
    "m = -(n) # negattion"
   ]
  },
  {
   "cell_type": "code",
   "execution_count": 26,
   "id": "6defe089-02c0-4960-982e-52126b8c88bb",
   "metadata": {},
   "outputs": [
    {
     "data": {
      "text/plain": [
       "-7"
      ]
     },
     "execution_count": 26,
     "metadata": {},
     "output_type": "execute_result"
    }
   ],
   "source": [
    "m"
   ]
  },
  {
   "cell_type": "code",
   "execution_count": 27,
   "id": "d9752f8e-4cdc-4cbe-a25f-be102c0c2a69",
   "metadata": {},
   "outputs": [
    {
     "data": {
      "text/plain": [
       "7"
      ]
     },
     "execution_count": 27,
     "metadata": {},
     "output_type": "execute_result"
    }
   ],
   "source": [
    "n"
   ]
  },
  {
   "cell_type": "code",
   "execution_count": 28,
   "id": "2d1a49b8-0691-4740-bd97-81d8f4a885df",
   "metadata": {},
   "outputs": [
    {
     "data": {
      "text/plain": [
       "-7"
      ]
     },
     "execution_count": 28,
     "metadata": {},
     "output_type": "execute_result"
    }
   ],
   "source": [
    "-n"
   ]
  },
  {
   "cell_type": "markdown",
   "id": "39806526-b1d4-47ba-819f-a210e3e469bc",
   "metadata": {},
   "source": [
    "# Relational Operators"
   ]
  },
  {
   "cell_type": "code",
   "execution_count": 29,
   "id": "aca4dd0b-4bbf-47d7-9c9b-c4165a7ebaa1",
   "metadata": {},
   "outputs": [],
   "source": [
    "x = 5\n",
    "y = 3"
   ]
  },
  {
   "cell_type": "code",
   "execution_count": 30,
   "id": "2fe66515-5b2a-47a6-8dd9-ec4377feb9a7",
   "metadata": {},
   "outputs": [
    {
     "data": {
      "text/plain": [
       "False"
      ]
     },
     "execution_count": 30,
     "metadata": {},
     "output_type": "execute_result"
    }
   ],
   "source": [
    "x == y"
   ]
  },
  {
   "cell_type": "code",
   "execution_count": 31,
   "id": "ecb1f0e3-0147-4ef6-af22-d2060cca2e01",
   "metadata": {},
   "outputs": [
    {
     "data": {
      "text/plain": [
       "True"
      ]
     },
     "execution_count": 31,
     "metadata": {},
     "output_type": "execute_result"
    }
   ],
   "source": [
    "x > y"
   ]
  },
  {
   "cell_type": "code",
   "execution_count": 32,
   "id": "702130b0-dc2a-4ffb-a44e-e709198e6b58",
   "metadata": {},
   "outputs": [
    {
     "data": {
      "text/plain": [
       "False"
      ]
     },
     "execution_count": 32,
     "metadata": {},
     "output_type": "execute_result"
    }
   ],
   "source": [
    "x < y"
   ]
  },
  {
   "cell_type": "code",
   "execution_count": 33,
   "id": "644ab1d7-255a-480f-baef-76832541ef76",
   "metadata": {},
   "outputs": [
    {
     "data": {
      "text/plain": [
       "True"
      ]
     },
     "execution_count": 33,
     "metadata": {},
     "output_type": "execute_result"
    }
   ],
   "source": [
    "x >= y"
   ]
  },
  {
   "cell_type": "code",
   "execution_count": 34,
   "id": "b7ea05c2-56c9-4465-8923-8e48506939ed",
   "metadata": {},
   "outputs": [
    {
     "data": {
      "text/plain": [
       "False"
      ]
     },
     "execution_count": 34,
     "metadata": {},
     "output_type": "execute_result"
    }
   ],
   "source": [
    "x <= y"
   ]
  },
  {
   "cell_type": "code",
   "execution_count": 35,
   "id": "f0c5cf35-fba8-4131-93c0-74c22636fb7d",
   "metadata": {},
   "outputs": [
    {
     "data": {
      "text/plain": [
       "True"
      ]
     },
     "execution_count": 35,
     "metadata": {},
     "output_type": "execute_result"
    }
   ],
   "source": [
    "x != y"
   ]
  },
  {
   "cell_type": "markdown",
   "id": "4ff018c1-af5e-4ce2-b998-4e6f1f6cee5c",
   "metadata": {},
   "source": [
    "# Logical Operator"
   ]
  },
  {
   "cell_type": "code",
   "execution_count": 36,
   "id": "15860b05-6a3e-4f43-a5c7-1f2b347195fb",
   "metadata": {},
   "outputs": [],
   "source": [
    "x = 5\n",
    "y = 10"
   ]
  },
  {
   "cell_type": "code",
   "execution_count": 37,
   "id": "c250dd57-cfcc-4d59-83aa-30c85a98299f",
   "metadata": {},
   "outputs": [
    {
     "data": {
      "text/plain": [
       "False"
      ]
     },
     "execution_count": 37,
     "metadata": {},
     "output_type": "execute_result"
    }
   ],
   "source": [
    "x < y and x==y # if both condition is true then 'and' return true"
   ]
  },
  {
   "cell_type": "code",
   "execution_count": 38,
   "id": "f31b86a1-b9f8-44a5-94b5-1ae4efff26b8",
   "metadata": {},
   "outputs": [
    {
     "data": {
      "text/plain": [
       "True"
      ]
     },
     "execution_count": 38,
     "metadata": {},
     "output_type": "execute_result"
    }
   ],
   "source": [
    "x < y and x!=y"
   ]
  },
  {
   "cell_type": "code",
   "execution_count": 39,
   "id": "bda78feb-bf87-4b44-8f95-4c346102d11f",
   "metadata": {},
   "outputs": [
    {
     "data": {
      "text/plain": [
       "True"
      ]
     },
     "execution_count": 39,
     "metadata": {},
     "output_type": "execute_result"
    }
   ],
   "source": [
    "x < y or x ==y # if from both one condition is true then it is return true\n"
   ]
  },
  {
   "cell_type": "code",
   "execution_count": 40,
   "id": "69f553c9-51fd-4401-970e-ec829ab3f1a4",
   "metadata": {},
   "outputs": [
    {
     "data": {
      "text/plain": [
       "False"
      ]
     },
     "execution_count": 40,
     "metadata": {},
     "output_type": "execute_result"
    }
   ],
   "source": [
    "x > y or x==y # false cuz both cond is false"
   ]
  },
  {
   "cell_type": "code",
   "execution_count": 41,
   "id": "0223ebe5-2403-47f6-898e-083d0bc55b87",
   "metadata": {},
   "outputs": [
    {
     "data": {
      "text/plain": [
       "False"
      ]
     },
     "execution_count": 41,
     "metadata": {},
     "output_type": "execute_result"
    }
   ],
   "source": [
    "x = False\n",
    "x"
   ]
  },
  {
   "cell_type": "code",
   "execution_count": 42,
   "id": "8537b4e4-b547-4ec2-a776-531e88e67018",
   "metadata": {},
   "outputs": [
    {
     "data": {
      "text/plain": [
       "True"
      ]
     },
     "execution_count": 42,
     "metadata": {},
     "output_type": "execute_result"
    }
   ],
   "source": [
    "not x  # you can reverse the operation"
   ]
  },
  {
   "cell_type": "markdown",
   "id": "158c8423-0c4b-4fff-ade0-922e05a3e558",
   "metadata": {},
   "source": [
    "# Number system coverstion"
   ]
  },
  {
   "cell_type": "code",
   "execution_count": 43,
   "id": "879029a5-e94c-4e00-9813-31951f2b4633",
   "metadata": {},
   "outputs": [
    {
     "data": {
      "text/plain": [
       "35"
      ]
     },
     "execution_count": 43,
     "metadata": {},
     "output_type": "execute_result"
    }
   ],
   "source": [
    "35"
   ]
  },
  {
   "cell_type": "code",
   "execution_count": 44,
   "id": "3c877cbf-a8f3-44fa-815a-4128e8a0f84c",
   "metadata": {},
   "outputs": [
    {
     "data": {
      "text/plain": [
       "'0b100011'"
      ]
     },
     "execution_count": 44,
     "metadata": {},
     "output_type": "execute_result"
    }
   ],
   "source": [
    "bin(35)"
   ]
  },
  {
   "cell_type": "code",
   "execution_count": null,
   "id": "2d05a61e-c569-4cfa-bbfd-05ccd371fa29",
   "metadata": {},
   "outputs": [],
   "source": [
    "int(0b100011)"
   ]
  }
 ],
 "metadata": {
  "kernelspec": {
   "display_name": "Python [conda env:base] *",
   "language": "python",
   "name": "conda-base-py"
  },
  "language_info": {
   "codemirror_mode": {
    "name": "ipython",
    "version": 3
   },
   "file_extension": ".py",
   "mimetype": "text/x-python",
   "name": "python",
   "nbconvert_exporter": "python",
   "pygments_lexer": "ipython3",
   "version": "3.12.7"
  }
 },
 "nbformat": 4,
 "nbformat_minor": 5
}
