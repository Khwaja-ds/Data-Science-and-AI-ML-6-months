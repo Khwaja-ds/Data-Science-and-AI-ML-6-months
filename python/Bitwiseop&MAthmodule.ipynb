{
 "cells": [
  {
   "cell_type": "markdown",
   "id": "c9b5ff31-d075-48a2-8423-2037ca360911",
   "metadata": {},
   "source": [
    "# Bitwise Operator"
   ]
  },
  {
   "cell_type": "code",
   "execution_count": 50,
   "id": "889e8aea-c016-41ef-957f-b39666618715",
   "metadata": {},
   "outputs": [],
   "source": [
    "a,b = 30,15"
   ]
  },
  {
   "cell_type": "code",
   "execution_count": 51,
   "id": "096f7d92-9c1d-4b06-ab1c-bb497dbdaabe",
   "metadata": {},
   "outputs": [
    {
     "name": "stdout",
     "output_type": "stream",
     "text": [
      "0b11110\n",
      "0b1111\n"
     ]
    }
   ],
   "source": [
    "print(bin(a))\n",
    "print(bin(b))"
   ]
  },
  {
   "cell_type": "code",
   "execution_count": 52,
   "id": "9ae65138-c352-4b62-ae45-ededaa612672",
   "metadata": {},
   "outputs": [
    {
     "data": {
      "text/plain": [
       "14"
      ]
     },
     "execution_count": 52,
     "metadata": {},
     "output_type": "execute_result"
    }
   ],
   "source": [
    "a & b # 1 if both bits are 1\t"
   ]
  },
  {
   "cell_type": "code",
   "execution_count": 53,
   "id": "63b705dc-22bd-4af6-8afb-675ba2778897",
   "metadata": {},
   "outputs": [
    {
     "data": {
      "text/plain": [
       "'0b1110'"
      ]
     },
     "execution_count": 53,
     "metadata": {},
     "output_type": "execute_result"
    }
   ],
   "source": [
    "bin(14)"
   ]
  },
  {
   "cell_type": "code",
   "execution_count": 54,
   "id": "f4d69b65-b3cf-4813-b983-1997fd0cbf7b",
   "metadata": {},
   "outputs": [
    {
     "data": {
      "text/plain": [
       "31"
      ]
     },
     "execution_count": 54,
     "metadata": {},
     "output_type": "execute_result"
    }
   ],
   "source": [
    "a | b  # 1 if at least one bit is 1"
   ]
  },
  {
   "cell_type": "code",
   "execution_count": 55,
   "id": "d2763349-862e-4c03-ac85-31110191b464",
   "metadata": {},
   "outputs": [
    {
     "data": {
      "text/plain": [
       "'0b11111'"
      ]
     },
     "execution_count": 55,
     "metadata": {},
     "output_type": "execute_result"
    }
   ],
   "source": [
    "bin(31)"
   ]
  },
  {
   "cell_type": "code",
   "execution_count": 56,
   "id": "4fa5b35e-957b-4a22-8171-65e68522d115",
   "metadata": {},
   "outputs": [
    {
     "data": {
      "text/plain": [
       "-31"
      ]
     },
     "execution_count": 56,
     "metadata": {},
     "output_type": "execute_result"
    }
   ],
   "source": [
    "~ 30"
   ]
  },
  {
   "cell_type": "code",
   "execution_count": 57,
   "id": "85ab1a97-d649-476c-901e-ccda2fe4747e",
   "metadata": {},
   "outputs": [
    {
     "data": {
      "text/plain": [
       "-26"
      ]
     },
     "execution_count": 57,
     "metadata": {},
     "output_type": "execute_result"
    }
   ],
   "source": [
    "~25"
   ]
  },
  {
   "cell_type": "code",
   "execution_count": 58,
   "id": "e11637b0-27b9-431d-a0ef-2d4638b45d6a",
   "metadata": {},
   "outputs": [],
   "source": [
    "# ~ It changes 1 to 0 and 0 to 1"
   ]
  },
  {
   "cell_type": "code",
   "execution_count": 59,
   "id": "5f5f33f6-acb4-42d2-bcc6-bc0c8e8e67a9",
   "metadata": {},
   "outputs": [
    {
     "name": "stdout",
     "output_type": "stream",
     "text": [
      "0b11110\n",
      "0b11111\n"
     ]
    }
   ],
   "source": [
    "print(bin(30))\n",
    "print(bin(31))"
   ]
  },
  {
   "cell_type": "code",
   "execution_count": 60,
   "id": "d5c1465b-c096-4b73-b9ad-72bc09caea9c",
   "metadata": {},
   "outputs": [
    {
     "data": {
      "text/plain": [
       "1"
      ]
     },
     "execution_count": 60,
     "metadata": {},
     "output_type": "execute_result"
    }
   ],
   "source": [
    "30 ^ 31"
   ]
  },
  {
   "cell_type": "code",
   "execution_count": 61,
   "id": "c3ae47c4-300d-4ae9-87c0-221604cca4a0",
   "metadata": {},
   "outputs": [
    {
     "data": {
      "text/plain": [
       "'0b1'"
      ]
     },
     "execution_count": 61,
     "metadata": {},
     "output_type": "execute_result"
    }
   ],
   "source": [
    "bin(1)"
   ]
  },
  {
   "cell_type": "code",
   "execution_count": 62,
   "id": "ecdf5716-5231-4eb5-baaf-24cf32187d3a",
   "metadata": {},
   "outputs": [],
   "source": [
    "# 1 if the bits are different\n",
    "# 0 if the bits are same"
   ]
  },
  {
   "cell_type": "code",
   "execution_count": 63,
   "id": "0d64d110-c0ba-4e01-b94b-977290d77cee",
   "metadata": {},
   "outputs": [],
   "source": [
    "# Shifts bits left (adds 0s at right)\t"
   ]
  },
  {
   "cell_type": "code",
   "execution_count": 64,
   "id": "e28f9578-e163-48c3-a5c6-5beca927abb2",
   "metadata": {},
   "outputs": [
    {
     "data": {
      "text/plain": [
       "'0b1010'"
      ]
     },
     "execution_count": 64,
     "metadata": {},
     "output_type": "execute_result"
    }
   ],
   "source": [
    "bin(10)"
   ]
  },
  {
   "cell_type": "code",
   "execution_count": 65,
   "id": "22f576b6-ab49-4c2b-904e-698ecbaac960",
   "metadata": {},
   "outputs": [
    {
     "data": {
      "text/plain": [
       "20"
      ]
     },
     "execution_count": 65,
     "metadata": {},
     "output_type": "execute_result"
    }
   ],
   "source": [
    "10 << 1"
   ]
  },
  {
   "cell_type": "code",
   "execution_count": 66,
   "id": "3bd9a90a-22d4-4d08-896e-f290f070492c",
   "metadata": {},
   "outputs": [
    {
     "data": {
      "text/plain": [
       "'0b10100'"
      ]
     },
     "execution_count": 66,
     "metadata": {},
     "output_type": "execute_result"
    }
   ],
   "source": [
    "bin(20)"
   ]
  },
  {
   "cell_type": "code",
   "execution_count": 67,
   "id": "1901d605-d812-4d9d-85ba-bc9d5ed492b9",
   "metadata": {},
   "outputs": [
    {
     "data": {
      "text/plain": [
       "40"
      ]
     },
     "execution_count": 67,
     "metadata": {},
     "output_type": "execute_result"
    }
   ],
   "source": [
    "10 << 2"
   ]
  },
  {
   "cell_type": "code",
   "execution_count": 68,
   "id": "52e2fad7-5cc7-4317-abd8-6680477300fb",
   "metadata": {},
   "outputs": [
    {
     "data": {
      "text/plain": [
       "'0b10100'"
      ]
     },
     "execution_count": 68,
     "metadata": {},
     "output_type": "execute_result"
    }
   ],
   "source": [
    "bin(20)"
   ]
  },
  {
   "cell_type": "code",
   "execution_count": 69,
   "id": "685f1169-902f-45e9-b4ca-8be0aa8ee4f6",
   "metadata": {},
   "outputs": [],
   "source": [
    "# Shifts bits right (drops bits at right)"
   ]
  },
  {
   "cell_type": "code",
   "execution_count": 70,
   "id": "668efe41-55e6-4b11-a6d4-cbd80d6dd111",
   "metadata": {},
   "outputs": [
    {
     "data": {
      "text/plain": [
       "'0b1010'"
      ]
     },
     "execution_count": 70,
     "metadata": {},
     "output_type": "execute_result"
    }
   ],
   "source": [
    "bin(10)"
   ]
  },
  {
   "cell_type": "code",
   "execution_count": 71,
   "id": "9811310d-fd82-4563-bfcc-33d608d4636b",
   "metadata": {},
   "outputs": [
    {
     "data": {
      "text/plain": [
       "5"
      ]
     },
     "execution_count": 71,
     "metadata": {},
     "output_type": "execute_result"
    }
   ],
   "source": [
    "10 >> 1"
   ]
  },
  {
   "cell_type": "code",
   "execution_count": 72,
   "id": "db4fbaf1-a394-443c-b745-a54d3158549a",
   "metadata": {},
   "outputs": [
    {
     "data": {
      "text/plain": [
       "'0b101'"
      ]
     },
     "execution_count": 72,
     "metadata": {},
     "output_type": "execute_result"
    }
   ],
   "source": [
    "bin(5)"
   ]
  },
  {
   "cell_type": "markdown",
   "id": "092bda99-5917-4590-be28-974b82108726",
   "metadata": {},
   "source": [
    "# Import Math Module"
   ]
  },
  {
   "cell_type": "code",
   "execution_count": 73,
   "id": "69ea908f-6826-4d42-9f8f-eb4254e71364",
   "metadata": {},
   "outputs": [
    {
     "ename": "NameError",
     "evalue": "name 'sqrt' is not defined",
     "output_type": "error",
     "traceback": [
      "\u001b[1;31m---------------------------------------------------------------------------\u001b[0m",
      "\u001b[1;31mNameError\u001b[0m                                 Traceback (most recent call last)",
      "Cell \u001b[1;32mIn[73], line 1\u001b[0m\n\u001b[1;32m----> 1\u001b[0m x \u001b[38;5;241m=\u001b[39m sqrt(\u001b[38;5;241m20\u001b[39m)\n",
      "\u001b[1;31mNameError\u001b[0m: name 'sqrt' is not defined"
     ]
    }
   ],
   "source": [
    "x = sqrt(20) # error cuz we need to import math module"
   ]
  },
  {
   "cell_type": "code",
   "execution_count": 74,
   "id": "26cb6eed-9c98-477a-9126-69b0a256bd5f",
   "metadata": {},
   "outputs": [],
   "source": [
    "import math"
   ]
  },
  {
   "cell_type": "code",
   "execution_count": 75,
   "id": "91fed104-ef57-483a-8536-8d9fd213bfa9",
   "metadata": {},
   "outputs": [
    {
     "data": {
      "text/plain": [
       "4.47213595499958"
      ]
     },
     "execution_count": 75,
     "metadata": {},
     "output_type": "execute_result"
    }
   ],
   "source": [
    "math.sqrt(20)"
   ]
  },
  {
   "cell_type": "code",
   "execution_count": 76,
   "id": "936e3750-5a9c-4810-8fc5-6fc0c024f701",
   "metadata": {},
   "outputs": [
    {
     "data": {
      "text/plain": [
       "5.0"
      ]
     },
     "execution_count": 76,
     "metadata": {},
     "output_type": "execute_result"
    }
   ],
   "source": [
    "math.sqrt(25)"
   ]
  },
  {
   "cell_type": "code",
   "execution_count": 77,
   "id": "c6a1d0c3-322c-41e7-9b76-9ee80720ba6e",
   "metadata": {},
   "outputs": [
    {
     "data": {
      "text/plain": [
       "2"
      ]
     },
     "execution_count": 77,
     "metadata": {},
     "output_type": "execute_result"
    }
   ],
   "source": [
    "math.floor(2.9)"
   ]
  },
  {
   "cell_type": "code",
   "execution_count": null,
   "id": "b310ea16-b731-45e9-bfff-3380e9de8bd2",
   "metadata": {},
   "outputs": [],
   "source": []
  }
 ],
 "metadata": {
  "kernelspec": {
   "display_name": "Python [conda env:base] *",
   "language": "python",
   "name": "conda-base-py"
  },
  "language_info": {
   "codemirror_mode": {
    "name": "ipython",
    "version": 3
   },
   "file_extension": ".py",
   "mimetype": "text/x-python",
   "name": "python",
   "nbconvert_exporter": "python",
   "pygments_lexer": "ipython3",
   "version": "3.12.7"
  }
 },
 "nbformat": 4,
 "nbformat_minor": 5
}
