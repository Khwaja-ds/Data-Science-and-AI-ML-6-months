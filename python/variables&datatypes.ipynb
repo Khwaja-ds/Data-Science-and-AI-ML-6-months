{
 "cells": [
  {
   "cell_type": "code",
   "execution_count": 3,
   "id": "33a74475-db6b-41db-90b8-e91bacaad8a7",
   "metadata": {},
   "outputs": [],
   "source": [
    "name = 'Khwaja' #string"
   ]
  },
  {
   "cell_type": "code",
   "execution_count": 4,
   "id": "c52b4a66-2bb0-4066-8488-229b1aaabfc0",
   "metadata": {},
   "outputs": [],
   "source": [
    "age = 21  #int"
   ]
  },
  {
   "cell_type": "code",
   "execution_count": 5,
   "id": "61b46c71-3d1c-4064-8c3c-a7b78a44613a",
   "metadata": {},
   "outputs": [],
   "source": [
    "height = 6.1  #float"
   ]
  },
  {
   "cell_type": "code",
   "execution_count": 8,
   "id": "b0c1db4f-3ad8-4f1e-b12f-dfd039d898b4",
   "metadata": {},
   "outputs": [],
   "source": [
    "is_student = True # Boolean"
   ]
  },
  {
   "cell_type": "code",
   "execution_count": 9,
   "id": "0429c6d9-aa81-4bc0-b933-c7a018a26164",
   "metadata": {},
   "outputs": [],
   "source": [
    "a = 5"
   ]
  },
  {
   "cell_type": "code",
   "execution_count": 11,
   "id": "590c42be-43cb-4d45-9cd2-7715924c7535",
   "metadata": {},
   "outputs": [],
   "source": [
    "b = 'xyz'"
   ]
  },
  {
   "cell_type": "code",
   "execution_count": 12,
   "id": "35c7787b-3ac8-4636-b835-877d38a91312",
   "metadata": {},
   "outputs": [
    {
     "name": "stdout",
     "output_type": "stream",
     "text": [
      "5\n",
      "xyz\n"
     ]
    }
   ],
   "source": [
    "print(a)\n",
    "print(b)\n"
   ]
  },
  {
   "cell_type": "markdown",
   "id": "3869e1de-2593-43c2-bae7-c2e3ec67335c",
   "metadata": {},
   "source": [
    "              #Most important things to know about variables in python\n",
    "\n",
    "             1) Dynamic Typing"
   ]
  },
  {
   "cell_type": "code",
   "execution_count": 17,
   "id": "9fee0eeb-0c93-48f5-8567-8b2f4f522971",
   "metadata": {},
   "outputs": [],
   "source": [
    "a = 20 #integer"
   ]
  },
  {
   "cell_type": "code",
   "execution_count": 18,
   "id": "d14b92e1-551c-478c-9a30-bfbb601e8ebc",
   "metadata": {},
   "outputs": [
    {
     "data": {
      "text/plain": [
       "20"
      ]
     },
     "execution_count": 18,
     "metadata": {},
     "output_type": "execute_result"
    }
   ],
   "source": [
    "a"
   ]
  },
  {
   "cell_type": "code",
   "execution_count": 21,
   "id": "f7661aad-cc71-4650-9f50-182df6e7ba99",
   "metadata": {},
   "outputs": [],
   "source": [
    "b = 'xyz' #string"
   ]
  },
  {
   "cell_type": "code",
   "execution_count": 22,
   "id": "33daeb04-e874-4aaa-b26a-68280f5e604b",
   "metadata": {},
   "outputs": [
    {
     "data": {
      "text/plain": [
       "'xyz'"
      ]
     },
     "execution_count": 22,
     "metadata": {},
     "output_type": "execute_result"
    }
   ],
   "source": [
    "b"
   ]
  },
  {
   "cell_type": "markdown",
   "id": "e63e9d8e-4b64-48ac-9864-aa77d283ab90",
   "metadata": {},
   "source": [
    "\n",
    "\n",
    "    2) Case Sensitive\n"
   ]
  },
  {
   "cell_type": "code",
   "execution_count": 30,
   "id": "4d258d93-4b42-4283-a787-d63cce71abf6",
   "metadata": {},
   "outputs": [],
   "source": [
    "name = 'khwaja'  #small"
   ]
  },
  {
   "cell_type": "code",
   "execution_count": 31,
   "id": "49c5508b-f5c2-48c3-ac99-0dd277b43f64",
   "metadata": {},
   "outputs": [],
   "source": [
    "names = 'KHWAJA' #CAPITAL"
   ]
  },
  {
   "cell_type": "code",
   "execution_count": 32,
   "id": "ef93413e-d074-41ed-8f43-4691613ac164",
   "metadata": {},
   "outputs": [
    {
     "data": {
      "text/plain": [
       "'khwaja'"
      ]
     },
     "execution_count": 32,
     "metadata": {},
     "output_type": "execute_result"
    }
   ],
   "source": [
    "name"
   ]
  },
  {
   "cell_type": "code",
   "execution_count": 33,
   "id": "24caa1f5-90e6-4ee8-a5d4-48df7b6b865c",
   "metadata": {},
   "outputs": [
    {
     "data": {
      "text/plain": [
       "'KHWAJA'"
      ]
     },
     "execution_count": 33,
     "metadata": {},
     "output_type": "execute_result"
    }
   ],
   "source": [
    "names"
   ]
  },
  {
   "cell_type": "markdown",
   "id": "9715b49f-7f0d-492e-a01b-1288b6bf326c",
   "metadata": {},
   "source": [
    "\n",
    "\n",
    "3)  Multiple Assighnments"
   ]
  },
  {
   "cell_type": "code",
   "execution_count": 34,
   "id": "291592de-176f-4d7a-b7c9-c5dcd1938657",
   "metadata": {},
   "outputs": [],
   "source": [
    "a,b,c = 5,6,7"
   ]
  },
  {
   "cell_type": "code",
   "execution_count": 36,
   "id": "ff5fca08-bda9-4efa-8478-a543c7b36cda",
   "metadata": {},
   "outputs": [
    {
     "data": {
      "text/plain": [
       "5"
      ]
     },
     "execution_count": 36,
     "metadata": {},
     "output_type": "execute_result"
    }
   ],
   "source": [
    "a"
   ]
  },
  {
   "cell_type": "code",
   "execution_count": 37,
   "id": "359bea1d-5272-43f1-8d30-37e16d8f9a95",
   "metadata": {},
   "outputs": [
    {
     "data": {
      "text/plain": [
       "6"
      ]
     },
     "execution_count": 37,
     "metadata": {},
     "output_type": "execute_result"
    }
   ],
   "source": [
    "b"
   ]
  },
  {
   "cell_type": "code",
   "execution_count": 38,
   "id": "7cd96682-2190-470f-95f4-abab6df9f6a0",
   "metadata": {},
   "outputs": [
    {
     "data": {
      "text/plain": [
       "7"
      ]
     },
     "execution_count": 38,
     "metadata": {},
     "output_type": "execute_result"
    }
   ],
   "source": [
    "c"
   ]
  },
  {
   "cell_type": "markdown",
   "id": "37b34cae-7c1f-477c-8f74-bcbad21d4eee",
   "metadata": {},
   "source": [
    "  4) Swapping Variables"
   ]
  },
  {
   "cell_type": "code",
   "execution_count": 39,
   "id": "99e058bc-70d6-47e0-a262-92bb20d73d56",
   "metadata": {},
   "outputs": [],
   "source": [
    "a,b = 10,12"
   ]
  },
  {
   "cell_type": "code",
   "execution_count": 40,
   "id": "da3b9b19-c8fe-48a5-93a6-d3e41b59e06a",
   "metadata": {},
   "outputs": [
    {
     "data": {
      "text/plain": [
       "10"
      ]
     },
     "execution_count": 40,
     "metadata": {},
     "output_type": "execute_result"
    }
   ],
   "source": [
    "a"
   ]
  },
  {
   "cell_type": "code",
   "execution_count": 41,
   "id": "5fd34a32-7e26-4e9a-9776-ea2aad850aad",
   "metadata": {},
   "outputs": [
    {
     "data": {
      "text/plain": [
       "12"
      ]
     },
     "execution_count": 41,
     "metadata": {},
     "output_type": "execute_result"
    }
   ],
   "source": [
    "b"
   ]
  },
  {
   "cell_type": "code",
   "execution_count": 42,
   "id": "727c657b-2694-4bcc-b278-a43be250ccc0",
   "metadata": {},
   "outputs": [],
   "source": [
    "a,b = b,a"
   ]
  },
  {
   "cell_type": "code",
   "execution_count": 43,
   "id": "c71406ac-400e-4df8-8518-3036e41eb9c4",
   "metadata": {},
   "outputs": [
    {
     "data": {
      "text/plain": [
       "(12, 10)"
      ]
     },
     "execution_count": 43,
     "metadata": {},
     "output_type": "execute_result"
    }
   ],
   "source": [
    "a,b"
   ]
  },
  {
   "cell_type": "code",
   "execution_count": 47,
   "id": "4eefc04e-806b-4eed-9faf-d6ddfbd1fea8",
   "metadata": {},
   "outputs": [
    {
     "data": {
      "text/plain": [
       "140732336712472"
      ]
     },
     "execution_count": 47,
     "metadata": {},
     "output_type": "execute_result"
    }
   ],
   "source": [
    "id(a) # it show the memoery adress of a variables"
   ]
  },
  {
   "cell_type": "markdown",
   "id": "60842366-eb51-4862-b3f4-975de5866765",
   "metadata": {},
   "source": [
    "here are some rules"
   ]
  },
  {
   "cell_type": "code",
   "execution_count": 48,
   "id": "9cb18f0e-ff8d-4324-b615-f32f28ce8b6e",
   "metadata": {},
   "outputs": [],
   "source": [
    "user_name = 'khwajads' # possible"
   ]
  },
  {
   "cell_type": "code",
   "execution_count": 49,
   "id": "c9c59b2e-3462-4a3f-8705-ea7e3c1e0a44",
   "metadata": {},
   "outputs": [
    {
     "data": {
      "text/plain": [
       "'khwajads'"
      ]
     },
     "execution_count": 49,
     "metadata": {},
     "output_type": "execute_result"
    }
   ],
   "source": [
    "user_name"
   ]
  },
  {
   "cell_type": "code",
   "execution_count": null,
   "id": "2e3eae44-b22a-40fc-a3aa-c750c3693dca",
   "metadata": {},
   "outputs": [],
   "source": [
    "age"
   ]
  }
 ],
 "metadata": {
  "kernelspec": {
   "display_name": "Python [conda env:base] *",
   "language": "python",
   "name": "conda-base-py"
  },
  "language_info": {
   "codemirror_mode": {
    "name": "ipython",
    "version": 3
   },
   "file_extension": ".py",
   "mimetype": "text/x-python",
   "name": "python",
   "nbconvert_exporter": "python",
   "pygments_lexer": "ipython3",
   "version": "3.12.7"
  }
 },
 "nbformat": 4,
 "nbformat_minor": 5
}
