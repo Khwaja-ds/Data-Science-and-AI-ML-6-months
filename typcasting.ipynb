{
 "cells": [
  {
   "cell_type": "markdown",
   "id": "a32b0d6f-73a0-4e51-bcc8-f4dec3540879",
   "metadata": {},
   "source": [
    "# Python typecasting"
   ]
  },
  {
   "cell_type": "markdown",
   "id": "ba4e72d9-3d41-4551-a549-97649dfd4c30",
   "metadata": {},
   "source": [
    "#In int"
   ]
  },
  {
   "cell_type": "code",
   "execution_count": 1,
   "id": "2af73c97-4891-4c4b-bc6b-80d341feb361",
   "metadata": {},
   "outputs": [
    {
     "data": {
      "text/plain": [
       "3"
      ]
     },
     "execution_count": 1,
     "metadata": {},
     "output_type": "execute_result"
    }
   ],
   "source": [
    "int(3.4) # floating value into integer are possible to convert"
   ]
  },
  {
   "cell_type": "code",
   "execution_count": 2,
   "id": "7ab71db8-1e17-4e47-ac9a-ceff65079091",
   "metadata": {},
   "outputs": [
    {
     "ename": "TypeError",
     "evalue": "'float' object cannot be interpreted as an integer",
     "output_type": "error",
     "traceback": [
      "\u001b[1;31m---------------------------------------------------------------------------\u001b[0m",
      "\u001b[1;31mTypeError\u001b[0m                                 Traceback (most recent call last)",
      "Cell \u001b[1;32mIn[2], line 1\u001b[0m\n\u001b[1;32m----> 1\u001b[0m \u001b[38;5;28mint\u001b[39m(\u001b[38;5;241m3.4\u001b[39m,\u001b[38;5;241m3.1\u001b[39m)\n",
      "\u001b[1;31mTypeError\u001b[0m: 'float' object cannot be interpreted as an integer"
     ]
    }
   ],
   "source": [
    "int(3.4,3.1) # error becauz of we have entered two arguments"
   ]
  },
  {
   "cell_type": "code",
   "execution_count": 3,
   "id": "9cb224c1-08f9-4a39-bb72-ef106dde5792",
   "metadata": {},
   "outputs": [
    {
     "data": {
      "text/plain": [
       "1"
      ]
     },
     "execution_count": 3,
     "metadata": {},
     "output_type": "execute_result"
    }
   ],
   "source": [
    "int(True) # boolean into integer are possible to convert"
   ]
  },
  {
   "cell_type": "code",
   "execution_count": 4,
   "id": "1a2ac2d5-b72f-43a2-87b5-6d75d0bea6c1",
   "metadata": {},
   "outputs": [
    {
     "ename": "TypeError",
     "evalue": "int() argument must be a string, a bytes-like object or a real number, not 'complex'",
     "output_type": "error",
     "traceback": [
      "\u001b[1;31m---------------------------------------------------------------------------\u001b[0m",
      "\u001b[1;31mTypeError\u001b[0m                                 Traceback (most recent call last)",
      "Cell \u001b[1;32mIn[4], line 1\u001b[0m\n\u001b[1;32m----> 1\u001b[0m \u001b[38;5;28mint\u001b[39m(\u001b[38;5;241m1\u001b[39m\u001b[38;5;241m+\u001b[39m\u001b[38;5;241m2\u001b[39mj)\n",
      "\u001b[1;31mTypeError\u001b[0m: int() argument must be a string, a bytes-like object or a real number, not 'complex'"
     ]
    }
   ],
   "source": [
    "int(1+2j) # erroe becauz of complex value into integer are not possible"
   ]
  },
  {
   "cell_type": "code",
   "execution_count": 5,
   "id": "a8ba9e5b-832a-4394-a842-65a8b1f84d37",
   "metadata": {},
   "outputs": [
    {
     "data": {
      "text/plain": [
       "10"
      ]
     },
     "execution_count": 5,
     "metadata": {},
     "output_type": "execute_result"
    }
   ],
   "source": [
    "int('10') # it can be possible"
   ]
  },
  {
   "cell_type": "markdown",
   "id": "99082d4b-64e6-4001-94a2-13dffb192d24",
   "metadata": {},
   "source": [
    "# In Float"
   ]
  },
  {
   "cell_type": "code",
   "execution_count": 6,
   "id": "3a7a300b-9642-4994-9227-6a6ce05f901e",
   "metadata": {},
   "outputs": [
    {
     "data": {
      "text/plain": [
       "23.0"
      ]
     },
     "execution_count": 6,
     "metadata": {},
     "output_type": "execute_result"
    }
   ],
   "source": [
    "float(23) # possible to convert from int to float"
   ]
  },
  {
   "cell_type": "code",
   "execution_count": 7,
   "id": "ccafc658-56fe-4a9d-8e7f-f71d72b76ff1",
   "metadata": {},
   "outputs": [
    {
     "data": {
      "text/plain": [
       "1.0"
      ]
     },
     "execution_count": 7,
     "metadata": {},
     "output_type": "execute_result"
    }
   ],
   "source": [
    "float(True) # possible to convert boolean value in a float value"
   ]
  },
  {
   "cell_type": "code",
   "execution_count": 8,
   "id": "a686a0cc-3583-4ac8-8ed5-1d4e653e9c75",
   "metadata": {},
   "outputs": [
    {
     "data": {
      "text/plain": [
       "0.0"
      ]
     },
     "execution_count": 8,
     "metadata": {},
     "output_type": "execute_result"
    }
   ],
   "source": [
    "float(False) # possible same"
   ]
  },
  {
   "cell_type": "code",
   "execution_count": 9,
   "id": "21e0f72e-629b-4047-be60-5e7783430678",
   "metadata": {},
   "outputs": [
    {
     "ename": "TypeError",
     "evalue": "float() argument must be a string or a real number, not 'complex'",
     "output_type": "error",
     "traceback": [
      "\u001b[1;31m---------------------------------------------------------------------------\u001b[0m",
      "\u001b[1;31mTypeError\u001b[0m                                 Traceback (most recent call last)",
      "Cell \u001b[1;32mIn[9], line 1\u001b[0m\n\u001b[1;32m----> 1\u001b[0m \u001b[38;5;28mfloat\u001b[39m(\u001b[38;5;241m1\u001b[39m\u001b[38;5;241m+\u001b[39m\u001b[38;5;241m2\u001b[39mj)\n",
      "\u001b[1;31mTypeError\u001b[0m: float() argument must be a string or a real number, not 'complex'"
     ]
    }
   ],
   "source": [
    "float(1+2j) # error becauz of complex into float are not possible"
   ]
  },
  {
   "cell_type": "code",
   "execution_count": 10,
   "id": "418dc64e-dd6a-4b3d-9ced-d651bd29036f",
   "metadata": {},
   "outputs": [
    {
     "data": {
      "text/plain": [
       "10.0"
      ]
     },
     "execution_count": 10,
     "metadata": {},
     "output_type": "execute_result"
    }
   ],
   "source": [
    "float('10') # it can be possible"
   ]
  },
  {
   "cell_type": "code",
   "execution_count": 11,
   "id": "dd5415bc-4492-44aa-baf7-ac644203bf71",
   "metadata": {},
   "outputs": [
    {
     "ename": "ValueError",
     "evalue": "could not convert string to float: 'ten'",
     "output_type": "error",
     "traceback": [
      "\u001b[1;31m---------------------------------------------------------------------------\u001b[0m",
      "\u001b[1;31mValueError\u001b[0m                                Traceback (most recent call last)",
      "Cell \u001b[1;32mIn[11], line 1\u001b[0m\n\u001b[1;32m----> 1\u001b[0m \u001b[38;5;28mfloat\u001b[39m(\u001b[38;5;124m'\u001b[39m\u001b[38;5;124mten\u001b[39m\u001b[38;5;124m'\u001b[39m)\n",
      "\u001b[1;31mValueError\u001b[0m: could not convert string to float: 'ten'"
     ]
    }
   ],
   "source": [
    "float('ten') # error becauz of string with text into float are not possible"
   ]
  },
  {
   "cell_type": "markdown",
   "id": "c861ebe1-87bc-4f1e-b05c-3ce79a52381c",
   "metadata": {},
   "source": [
    "# In complex"
   ]
  },
  {
   "cell_type": "code",
   "execution_count": 12,
   "id": "446ade2d-ce63-4fb9-8556-5b7869b4e459",
   "metadata": {},
   "outputs": [
    {
     "data": {
      "text/plain": [
       "(10+0j)"
      ]
     },
     "execution_count": 12,
     "metadata": {},
     "output_type": "execute_result"
    }
   ],
   "source": [
    "complex(10) # it can be possible"
   ]
  },
  {
   "cell_type": "code",
   "execution_count": 13,
   "id": "e4d829f5-7479-42d7-bce8-72d0b38ed5b2",
   "metadata": {},
   "outputs": [
    {
     "data": {
      "text/plain": [
       "(10+20j)"
      ]
     },
     "execution_count": 13,
     "metadata": {},
     "output_type": "execute_result"
    }
   ],
   "source": [
    "complex(10,20) #possible"
   ]
  },
  {
   "cell_type": "code",
   "execution_count": 14,
   "id": "25df4079-8446-41a8-b187-e4e4fc86a5e7",
   "metadata": {},
   "outputs": [
    {
     "ename": "TypeError",
     "evalue": "complex() takes at most 2 arguments (3 given)",
     "output_type": "error",
     "traceback": [
      "\u001b[1;31m---------------------------------------------------------------------------\u001b[0m",
      "\u001b[1;31mTypeError\u001b[0m                                 Traceback (most recent call last)",
      "Cell \u001b[1;32mIn[14], line 1\u001b[0m\n\u001b[1;32m----> 1\u001b[0m \u001b[38;5;28mcomplex\u001b[39m(\u001b[38;5;241m10\u001b[39m,\u001b[38;5;241m20\u001b[39m,\u001b[38;5;241m30\u001b[39m)\n",
      "\u001b[1;31mTypeError\u001b[0m: complex() takes at most 2 arguments (3 given)"
     ]
    }
   ],
   "source": [
    "complex(10,20,30) #error becauz of three arguments"
   ]
  },
  {
   "cell_type": "code",
   "execution_count": 15,
   "id": "9b2e8d1c-05a2-472e-ad2b-183927756fd1",
   "metadata": {},
   "outputs": [
    {
     "data": {
      "text/plain": [
       "(3.4+0j)"
      ]
     },
     "execution_count": 15,
     "metadata": {},
     "output_type": "execute_result"
    }
   ],
   "source": [
    "complex(3.4) # float to complex is possible"
   ]
  },
  {
   "cell_type": "code",
   "execution_count": 16,
   "id": "396026b4-5906-427a-9558-8547fd900ea0",
   "metadata": {},
   "outputs": [
    {
     "data": {
      "text/plain": [
       "(3.4+34j)"
      ]
     },
     "execution_count": 16,
     "metadata": {},
     "output_type": "execute_result"
    }
   ],
   "source": [
    "complex(3.4,34) #possible"
   ]
  },
  {
   "cell_type": "code",
   "execution_count": 17,
   "id": "aad92177-0a37-4c9b-a8a8-3eab85a15506",
   "metadata": {},
   "outputs": [
    {
     "data": {
      "text/plain": [
       "(1+0j)"
      ]
     },
     "execution_count": 17,
     "metadata": {},
     "output_type": "execute_result"
    }
   ],
   "source": [
    "complex(True,False) # boolean to complex cn be possible"
   ]
  },
  {
   "cell_type": "markdown",
   "id": "13b7c8eb-4b2b-4131-96d2-70a33450dcdb",
   "metadata": {},
   "source": [
    "# In boolean"
   ]
  },
  {
   "cell_type": "code",
   "execution_count": 18,
   "id": "ed9af5a6-8228-4781-bb48-c334705ec2d0",
   "metadata": {},
   "outputs": [
    {
     "data": {
      "text/plain": [
       "True"
      ]
     },
     "execution_count": 18,
     "metadata": {},
     "output_type": "execute_result"
    }
   ],
   "source": [
    "bool(1) #int to boolean can be possible"
   ]
  },
  {
   "cell_type": "code",
   "execution_count": null,
   "id": "3937458e-bc27-4c6d-b567-90a131c2ceae",
   "metadata": {},
   "outputs": [],
   "source": []
  }
 ],
 "metadata": {
  "kernelspec": {
   "display_name": "Python [conda env:base] *",
   "language": "python",
   "name": "conda-base-py"
  },
  "language_info": {
   "codemirror_mode": {
    "name": "ipython",
    "version": 3
   },
   "file_extension": ".py",
   "mimetype": "text/x-python",
   "name": "python",
   "nbconvert_exporter": "python",
   "pygments_lexer": "ipython3",
   "version": "3.12.7"
  }
 },
 "nbformat": 4,
 "nbformat_minor": 5
}
