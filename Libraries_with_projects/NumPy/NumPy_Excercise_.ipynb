{
 "cells": [
  {
   "cell_type": "markdown",
   "id": "286311c3",
   "metadata": {},
   "source": [
    "\n",
    "# 🧠 NumPy Exercise Notebook\n",
    "\n",
    "Welcome to the **NumPy Exercise Notebook**!  \n",
    "In this notebook, we'll solve interesting problems using NumPy, starting with a classic one: ✅ **Valid Sudoku Checker**.\n",
    "\n",
    "We'll:\n",
    "- Demonstrate the use of NumPy arrays\n",
    "- Apply NumPy operations like `sum`, `axis`, and logical conditions\n",
    "- Learn how to validate rows, columns, and subgrids in a Sudoku\n",
    "\n",
    "---\n"
   ]
  },
  {
   "cell_type": "markdown",
   "id": "dece24f7",
   "metadata": {},
   "source": [
    "\n",
    "## 🎯 Exercise 1: Valid Sudoku Checker\n",
    "\n",
    "We are given a completed Sudoku board and need to check if it's valid.\n",
    "\n",
    "✅ **A valid Sudoku** must meet these rules:\n",
    "- Each row must contain digits from 1 to 9 **without repetition**.\n",
    "- Each column must contain digits from 1 to 9 **without repetition**.\n",
    "- Each 3×3 subgrid must also contain digits from 1 to 9 **without repetition**.\n",
    "\n",
    "We'll use NumPy to validate all three conditions.\n"
   ]
  },
  {
   "cell_type": "markdown",
   "id": "94bf535e-1294-4d1b-8f26-1f308a0046fb",
   "metadata": {},
   "source": [
    "# NumPy Excercise"
   ]
  },
  {
   "cell_type": "raw",
   "id": "133ea720-0325-4eb8-9823-cb0d275e5152",
   "metadata": {},
   "source": [
    "Valid Sudoku"
   ]
  },
  {
   "cell_type": "code",
   "execution_count": 2,
   "id": "cbced957-7a21-4eff-9ec6-8530581980d8",
   "metadata": {},
   "outputs": [],
   "source": [
    "import numpy as np"
   ]
  },
  {
   "cell_type": "code",
   "execution_count": 3,
   "id": "1f3230d1-ae7f-467a-8c77-974fc2cbc286",
   "metadata": {},
   "outputs": [],
   "source": [
    "s = np.array([\n",
    "    [5, 3, 4, 6, 7, 8, 9, 1, 2],\n",
    "    [6, 7, 2, 1, 9, 5, 3, 4, 8],\n",
    "    [1, 9, 8, 3, 4, 2, 5, 6, 7],\n",
    "    \n",
    "    [8, 5, 9, 7, 6, 1, 4, 2, 3],\n",
    "    [4, 2, 6, 8, 5, 3, 7, 9, 1],\n",
    "    [7, 1, 3, 9, 2, 4, 8, 5, 6],\n",
    "    \n",
    "    [9, 6, 1, 5, 3, 7, 2, 8, 4],\n",
    "    [2, 8, 7, 4, 1, 9, 6, 3, 5],\n",
    "    [3, 4, 5, 2, 8, 6, 1, 7, 9]\n",
    "])"
   ]
  },
  {
   "cell_type": "code",
   "execution_count": 24,
   "id": "d7596a89-a4cf-4b82-8d63-6e1332c32852",
   "metadata": {},
   "outputs": [
    {
     "name": "stdout",
     "output_type": "stream",
     "text": [
      "sudoku is valid for rowes\n"
     ]
    }
   ],
   "source": [
    "b = np.sum(s,axis=1)\n",
    "for i in b:\n",
    "    if i != 45:\n",
    "        print(\"Suduko is not valid\")\n",
    "        break\n",
    "\n",
    "else:\n",
    "    print(\"sudoku is valid for rowes\")\n",
    "  "
   ]
  },
  {
   "cell_type": "code",
   "execution_count": 27,
   "id": "ead94bf3-6a36-4a13-99c5-a4eb5c60226b",
   "metadata": {},
   "outputs": [
    {
     "name": "stdout",
     "output_type": "stream",
     "text": [
      "45\n",
      "45\n",
      "45\n",
      "45\n",
      "45\n",
      "45\n",
      "45\n",
      "45\n",
      "45\n"
     ]
    }
   ],
   "source": [
    "for i in range (0,9,3):\n",
    "    for j in range (0,9,3):\n",
    "        n=(s[i:i+3,j:j+3])\n",
    "        print(n.sum())\n"
   ]
  },
  {
   "cell_type": "raw",
   "id": "eed29852-4e22-42c8-903f-80c9cd9ba7be",
   "metadata": {},
   "source": [
    "General Questions"
   ]
  },
  {
   "cell_type": "code",
   "execution_count": 28,
   "id": "d25c0f3f-a493-434d-b3a5-94fb362fe49a",
   "metadata": {},
   "outputs": [],
   "source": [
    "import numpy as np\n",
    "\n",
    "# Columns: [Age, Math Marks, Science Marks]\n",
    "data = np.array([\n",
    "    [18, 85, 78],   # Student 1\n",
    "    [19, 92, 88],   # Student 2\n",
    "    [17, 76, 95],   # Student 3\n",
    "    [18, 65, 70],   # Student 4\n",
    "    [20, 90, 85]    # Student 5\n",
    "])"
   ]
  },
  {
   "cell_type": "code",
   "execution_count": 29,
   "id": "25f29899-a4a8-4e65-b13d-d3bd59273888",
   "metadata": {},
   "outputs": [
    {
     "data": {
      "text/plain": [
       "(5, 3)"
      ]
     },
     "execution_count": 29,
     "metadata": {},
     "output_type": "execute_result"
    }
   ],
   "source": [
    "#Get the shape of the matrix.\n",
    "data.shape"
   ]
  },
  {
   "cell_type": "code",
   "execution_count": 34,
   "id": "e9e18ec8-db59-489c-b2bc-bd685f04665d",
   "metadata": {},
   "outputs": [
    {
     "data": {
      "text/plain": [
       "18.4"
      ]
     },
     "execution_count": 34,
     "metadata": {},
     "output_type": "execute_result"
    }
   ],
   "source": [
    "#Find the average age of students.\n",
    "np.mean(data[:,0])"
   ]
  },
  {
   "cell_type": "code",
   "execution_count": 35,
   "id": "17019af0-8b42-48f4-b15c-20582313583c",
   "metadata": {},
   "outputs": [
    {
     "data": {
      "text/plain": [
       "array([85, 92, 76, 65, 90])"
      ]
     },
     "execution_count": 35,
     "metadata": {},
     "output_type": "execute_result"
    }
   ],
   "source": [
    "#Extract Math marks of all students.\n",
    "data[:,1]"
   ]
  },
  {
   "cell_type": "code",
   "execution_count": 36,
   "id": "7198e655-0b52-445b-a81d-7b9b2b727f8d",
   "metadata": {},
   "outputs": [
    {
     "data": {
      "text/plain": [
       "95"
      ]
     },
     "execution_count": 36,
     "metadata": {},
     "output_type": "execute_result"
    }
   ],
   "source": [
    "#Find the highest Science mark.\n",
    "np.max(data[:,2])"
   ]
  },
  {
   "cell_type": "code",
   "execution_count": 37,
   "id": "cc147d3f-5873-43b9-b506-b28189da85a5",
   "metadata": {},
   "outputs": [
    {
     "data": {
      "text/plain": [
       "array([[19, 92, 88]])"
      ]
     },
     "execution_count": 37,
     "metadata": {},
     "output_type": "execute_result"
    }
   ],
   "source": [
    "#Get details of the student who scored more than 90 in Math.\n",
    "data[data[:,1]>90]\n"
   ]
  },
  {
   "cell_type": "code",
   "execution_count": 38,
   "id": "6abaa104-a4a8-4da2-8934-26bff49f28aa",
   "metadata": {},
   "outputs": [
    {
     "data": {
      "text/plain": [
       "array([90, 97, 81, 70, 95])"
      ]
     },
     "execution_count": 38,
     "metadata": {},
     "output_type": "execute_result"
    }
   ],
   "source": [
    "#Increase Math marks of all students by 5.\n",
    "data[:,1]  +5"
   ]
  },
  {
   "cell_type": "code",
   "execution_count": 48,
   "id": "d3f19e63-edd9-4ccb-9344-872fa3e20651",
   "metadata": {},
   "outputs": [
    {
     "data": {
      "text/plain": [
       "3"
      ]
     },
     "execution_count": 48,
     "metadata": {},
     "output_type": "execute_result"
    }
   ],
   "source": [
    "#Find how many students are younger than 19.\n",
    "len(data[data[:,0]<19])"
   ]
  },
  {
   "cell_type": "code",
   "execution_count": 50,
   "id": "0e081b7e-b7b1-480b-8de2-aaa75917f3c3",
   "metadata": {},
   "outputs": [
    {
     "data": {
      "text/plain": [
       "array([81.6, 83.2])"
      ]
     },
     "execution_count": 50,
     "metadata": {},
     "output_type": "execute_result"
    }
   ],
   "source": [
    "#Calculate the average marks in each subject (column-wise mean).\n",
    "np.mean(data[:,1:],axis=0)"
   ]
  },
  {
   "cell_type": "code",
   "execution_count": 55,
   "id": "93912011-f743-4256-af32-a25cff88dc6b",
   "metadata": {},
   "outputs": [
    {
     "data": {
      "text/plain": [
       "array([[19, 92, 88],\n",
       "       [20, 90, 85]])"
      ]
     },
     "execution_count": 55,
     "metadata": {},
     "output_type": "execute_result"
    }
   ],
   "source": [
    "#Get data of students who scored at least 80 in both subjects.\n",
    "data[(data[:,1] >= 80) & (data[:,2] >= 80)]"
   ]
  },
  {
   "cell_type": "code",
   "execution_count": 58,
   "id": "bd2356ee-c4f8-4d25-9b49-fcab7b0538fa",
   "metadata": {},
   "outputs": [
    {
     "data": {
      "text/plain": [
       "array([[18, 85, 78],\n",
       "       [19, 92, 88],\n",
       "       [17, 76, 95],\n",
       "       [18, 65,  0],\n",
       "       [20, 90, 85]])"
      ]
     },
     "execution_count": 58,
     "metadata": {},
     "output_type": "execute_result"
    }
   ],
   "source": [
    "#Replace all Science marks < 75 with 0.\n",
    "data[:,2][data[:,2] <75] = 0\n",
    "data"
   ]
  },
  {
   "cell_type": "code",
   "execution_count": null,
   "id": "987285c8-42de-4be7-ba19-d6d68db89f17",
   "metadata": {},
   "outputs": [],
   "source": []
  }
 ],
 "metadata": {
  "kernelspec": {
   "display_name": "Python 3 (ipykernel)",
   "language": "python",
   "name": "python3"
  },
  "language_info": {
   "codemirror_mode": {
    "name": "ipython",
    "version": 3
   },
   "file_extension": ".py",
   "mimetype": "text/x-python",
   "name": "python",
   "nbconvert_exporter": "python",
   "pygments_lexer": "ipython3",
   "version": "3.12.7"
  }
 },
 "nbformat": 4,
 "nbformat_minor": 5
}
