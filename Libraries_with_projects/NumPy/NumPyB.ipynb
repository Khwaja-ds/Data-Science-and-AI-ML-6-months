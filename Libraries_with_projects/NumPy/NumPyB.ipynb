{
 "cells": [
  {
   "cell_type": "markdown",
   "id": "11a22c20",
   "metadata": {},
   "source": [
    "# 📘 Introduction to NumPy\n",
    "\n",
    "NumPy (Numerical Python) is a powerful Python library for numerical computing. It provides support for arrays, matrices, and many mathematical functions."
   ]
  },
  {
   "cell_type": "markdown",
   "id": "114344f1",
   "metadata": {},
   "source": [
    "# 🧱 Array Creation\n",
    "\n",
    "Arrays are the foundation of NumPy. You can create arrays from Python lists using `np.array()`. There are also functions like `np.zeros()`, `np.ones()`, `np.arange()`, and `np.linspace()`."
   ]
  },
  {
   "cell_type": "markdown",
   "id": "0c9ae0da",
   "metadata": {},
   "source": [
    "# 🧾 Array Attributes\n",
    "\n",
    "Once an array is created, you can inspect its shape, size, number of dimensions, and data type using attributes like `.shape`, `.ndim`, `.size`, and `.dtype`."
   ]
  },
  {
   "cell_type": "markdown",
   "id": "0355fa21",
   "metadata": {},
   "source": [
    "# 🔍 Indexing and Slicing\n",
    "\n",
    "You can access individual elements or slices (subsets) of a NumPy array using square brackets, similar to Python lists. NumPy also supports advanced slicing."
   ]
  },
  {
   "cell_type": "markdown",
   "id": "77a550e4",
   "metadata": {},
   "source": [
    "# ➕ Arithmetic Operations\n",
    "\n",
    "NumPy arrays support element-wise arithmetic operations (like `+`, `-`, `*`, `/`, `**`). These are applied to each element of the array."
   ]
  },
  {
   "cell_type": "markdown",
   "id": "6c3d75e2",
   "metadata": {},
   "source": [
    "# 🎯 Broadcasting\n",
    "\n",
    "Broadcasting allows NumPy to perform operations between arrays of different shapes in a memory-efficient way."
   ]
  },
  {
   "cell_type": "markdown",
   "id": "48b66a21",
   "metadata": {},
   "source": [
    "# 🔧 Useful Functions\n",
    "\n",
    "NumPy includes many useful functions like `np.sum()`, `np.mean()`, `np.std()`, `np.max()`, `np.min()`, and more for performing statistical and mathematical operations."
   ]
  },
  {
   "cell_type": "markdown",
   "id": "0ecf28db",
   "metadata": {},
   "source": [
    "# 🔁 Reshaping and Flattening\n",
    "\n",
    "`reshape()` changes the shape of an array, and `flatten()` or `ravel()` turns a multi-dimensional array into a 1D array."
   ]
  },
  {
   "cell_type": "markdown",
   "id": "3f86e8a4",
   "metadata": {},
   "source": [
    "# 🧩 Stacking and Splitting Arrays\n",
    "\n",
    "`hstack()`, `vstack()`, and `concatenate()` are used for joining arrays, while `hsplit()`, `vsplit()`, and `split()` are used for dividing arrays."
   ]
  },
  {
   "cell_type": "markdown",
   "id": "5e6690d9",
   "metadata": {},
   "source": [
    "# 🎲 Random Module in NumPy\n",
    "\n",
    "NumPy's `random` module lets you generate random numbers, including integers, floats, normal distributions, etc."
   ]
  },
  {
   "cell_type": "code",
   "execution_count": 3,
   "id": "689a255a-33da-44e4-980f-3797a1862cbf",
   "metadata": {},
   "outputs": [],
   "source": [
    "import numpy as np"
   ]
  },
  {
   "cell_type": "markdown",
   "id": "29946d76-04ca-466e-ad20-46c071d5c4f9",
   "metadata": {},
   "source": [
    "# Array Creation "
   ]
  },
  {
   "cell_type": "code",
   "execution_count": 2,
   "id": "067991d1-f093-4381-a386-250055d16ca7",
   "metadata": {},
   "outputs": [
    {
     "data": {
      "text/plain": [
       "array([1, 2, 3, 4])"
      ]
     },
     "execution_count": 2,
     "metadata": {},
     "output_type": "execute_result"
    }
   ],
   "source": [
    "np.array([1,2,3,4])"
   ]
  },
  {
   "cell_type": "code",
   "execution_count": 51,
   "id": "1842680c-5cea-4be1-a1ed-5bda961ac3bc",
   "metadata": {},
   "outputs": [
    {
     "data": {
      "text/plain": [
       "[[1, 2, 3], [4, 5, 6], [7, 8, 9]]"
      ]
     },
     "execution_count": 51,
     "metadata": {},
     "output_type": "execute_result"
    }
   ],
   "source": [
    "l = [[1,2,3],[4,5,6],[7,8,9]]\n",
    "l\n",
    "# It Vector or 1D Array"
   ]
  },
  {
   "cell_type": "code",
   "execution_count": 52,
   "id": "dd094253-5dcd-4a40-90f1-a40f8adc9952",
   "metadata": {},
   "outputs": [
    {
     "data": {
      "text/plain": [
       "array([[1, 2, 3],\n",
       "       [4, 5, 6],\n",
       "       [7, 8, 9]])"
      ]
     },
     "execution_count": 52,
     "metadata": {},
     "output_type": "execute_result"
    }
   ],
   "source": [
    "np.array(l) \n",
    "# And it is Matrics or 2D Array"
   ]
  },
  {
   "cell_type": "code",
   "execution_count": null,
   "id": "4726f408-5c56-476e-9a20-f7c8bc32c3fb",
   "metadata": {},
   "outputs": [],
   "source": []
  },
  {
   "cell_type": "markdown",
   "id": "b07d25c3-0bbd-4a5d-9874-b8ac42399352",
   "metadata": {},
   "source": [
    "# Basic Array Generation"
   ]
  },
  {
   "cell_type": "code",
   "execution_count": 10,
   "id": "f97e8cf4-f6c8-4451-84ff-fbf328b20d1f",
   "metadata": {},
   "outputs": [
    {
     "data": {
      "text/plain": [
       "array([1, 2, 3, 4, 5, 6, 7, 8])"
      ]
     },
     "execution_count": 10,
     "metadata": {},
     "output_type": "execute_result"
    }
   ],
   "source": [
    "np.arange(1,9)\n",
    "# Its like range fuction in loops"
   ]
  },
  {
   "cell_type": "code",
   "execution_count": 13,
   "id": "2d5a8bff-8a63-48e5-9e2a-caaba25543a6",
   "metadata": {},
   "outputs": [
    {
     "data": {
      "text/plain": [
       "array([0., 0., 0., 0., 0., 0., 0., 0., 0., 0.])"
      ]
     },
     "execution_count": 13,
     "metadata": {},
     "output_type": "execute_result"
    }
   ],
   "source": [
    "np.zeros(10)\n",
    "# It is used to print zeros only and it is printed in vector form"
   ]
  },
  {
   "cell_type": "code",
   "execution_count": 15,
   "id": "e347c258-1092-4f46-99cd-22a6587fa7d8",
   "metadata": {},
   "outputs": [
    {
     "data": {
      "text/plain": [
       "array([[0., 0., 0., 0., 0., 0., 0., 0., 0., 0.],\n",
       "       [0., 0., 0., 0., 0., 0., 0., 0., 0., 0.],\n",
       "       [0., 0., 0., 0., 0., 0., 0., 0., 0., 0.],\n",
       "       [0., 0., 0., 0., 0., 0., 0., 0., 0., 0.],\n",
       "       [0., 0., 0., 0., 0., 0., 0., 0., 0., 0.]])"
      ]
     },
     "execution_count": 15,
     "metadata": {},
     "output_type": "execute_result"
    }
   ],
   "source": [
    "np.zeros((5,10))\n",
    "# It will print 5 rows and 10 columns"
   ]
  },
  {
   "cell_type": "code",
   "execution_count": 17,
   "id": "da23164e-92c2-4fdd-852b-7791f6784379",
   "metadata": {},
   "outputs": [
    {
     "data": {
      "text/plain": [
       "array([ 1.        ,  1.3877551 ,  1.7755102 ,  2.16326531,  2.55102041,\n",
       "        2.93877551,  3.32653061,  3.71428571,  4.10204082,  4.48979592,\n",
       "        4.87755102,  5.26530612,  5.65306122,  6.04081633,  6.42857143,\n",
       "        6.81632653,  7.20408163,  7.59183673,  7.97959184,  8.36734694,\n",
       "        8.75510204,  9.14285714,  9.53061224,  9.91836735, 10.30612245,\n",
       "       10.69387755, 11.08163265, 11.46938776, 11.85714286, 12.24489796,\n",
       "       12.63265306, 13.02040816, 13.40816327, 13.79591837, 14.18367347,\n",
       "       14.57142857, 14.95918367, 15.34693878, 15.73469388, 16.12244898,\n",
       "       16.51020408, 16.89795918, 17.28571429, 17.67346939, 18.06122449,\n",
       "       18.44897959, 18.83673469, 19.2244898 , 19.6122449 , 20.        ])"
      ]
     },
     "execution_count": 17,
     "metadata": {},
     "output_type": "execute_result"
    }
   ],
   "source": [
    "np.linspace(1,20)\n",
    "# This function provides the same or linear space between two or more eliments"
   ]
  },
  {
   "cell_type": "markdown",
   "id": "5c27f396-7351-4b43-ab63-79532202c69f",
   "metadata": {},
   "source": [
    "# Random Generation Functions"
   ]
  },
  {
   "cell_type": "code",
   "execution_count": 20,
   "id": "9a6ec28f-abf4-4f73-b401-d8bc1b33836a",
   "metadata": {},
   "outputs": [
    {
     "data": {
      "text/plain": [
       "array([0.59409249, 0.59608034, 0.64785113, 0.63424458, 0.97557874,\n",
       "       0.67543381, 0.22034251, 0.32482184, 0.0730543 , 0.43728496])"
      ]
     },
     "execution_count": 20,
     "metadata": {},
     "output_type": "execute_result"
    }
   ],
   "source": [
    "np.random.rand(10)\n",
    "# It will print random numbers from 0 to 1\n",
    "# This is also called normalization in stats"
   ]
  },
  {
   "cell_type": "code",
   "execution_count": 30,
   "id": "31f79277-7d8e-4e37-bb61-7ef466e303f6",
   "metadata": {},
   "outputs": [
    {
     "data": {
      "text/plain": [
       "array([-0.31551853, -1.76826033, -0.12227819, -0.31039534,  1.45007589,\n",
       "       -1.04023585, -0.72822842,  0.29946798,  0.08851753, -2.17612229])"
      ]
     },
     "execution_count": 30,
     "metadata": {},
     "output_type": "execute_result"
    }
   ],
   "source": [
    "np.random.randn(10)\n",
    "# Now this will print random numbers between -3 to 3ab\n",
    "# And it is also called as standardization"
   ]
  },
  {
   "cell_type": "code",
   "execution_count": 32,
   "id": "51a9635e-9cae-4baf-8403-9e11516fa88e",
   "metadata": {},
   "outputs": [
    {
     "data": {
      "text/plain": [
       "array([11, 11, 11, 19, 18, 16, 10, 14, 12, 12])"
      ]
     },
     "execution_count": 32,
     "metadata": {},
     "output_type": "execute_result"
    }
   ],
   "source": [
    "np.random.randint(10,20,10)\n",
    "# It will print random numbers from 10 to 20 and stores in an array"
   ]
  },
  {
   "cell_type": "markdown",
   "id": "d87d8ad4-656a-47bc-8a73-95207342d6c9",
   "metadata": {},
   "source": [
    "# Array Attributes"
   ]
  },
  {
   "cell_type": "code",
   "execution_count": 34,
   "id": "664b420c-c0e3-4538-84ba-fbe93c762d8b",
   "metadata": {},
   "outputs": [
    {
     "data": {
      "text/plain": [
       "array([[1, 2, 3],\n",
       "       [4, 5, 6],\n",
       "       [7, 8, 9]])"
      ]
     },
     "execution_count": 34,
     "metadata": {},
     "output_type": "execute_result"
    }
   ],
   "source": [
    "arr = np.array([[1,2,3,],[4,5,6,],[7,8,9]])\n",
    "arr"
   ]
  },
  {
   "cell_type": "code",
   "execution_count": 35,
   "id": "145de440-76fb-4866-acd7-e53be3875354",
   "metadata": {},
   "outputs": [
    {
     "data": {
      "text/plain": [
       "(3, 3)"
      ]
     },
     "execution_count": 35,
     "metadata": {},
     "output_type": "execute_result"
    }
   ],
   "source": [
    "arr.shape"
   ]
  },
  {
   "cell_type": "code",
   "execution_count": 36,
   "id": "e8e5b95d-573a-4d99-916f-69942adf1e54",
   "metadata": {},
   "outputs": [
    {
     "data": {
      "text/plain": [
       "9"
      ]
     },
     "execution_count": 36,
     "metadata": {},
     "output_type": "execute_result"
    }
   ],
   "source": [
    "arr.size"
   ]
  },
  {
   "cell_type": "code",
   "execution_count": 37,
   "id": "c824651f-2cdf-4249-a484-7c2140da3fcc",
   "metadata": {},
   "outputs": [
    {
     "data": {
      "text/plain": [
       "dtype('int32')"
      ]
     },
     "execution_count": 37,
     "metadata": {},
     "output_type": "execute_result"
    }
   ],
   "source": [
    "arr.dtype"
   ]
  },
  {
   "cell_type": "markdown",
   "id": "76934668-82f8-4713-a290-ae61a17a5499",
   "metadata": {},
   "source": [
    "# Array Methodes"
   ]
  },
  {
   "cell_type": "code",
   "execution_count": 38,
   "id": "a4d6a67d-9555-4f52-975b-b99949ebd642",
   "metadata": {},
   "outputs": [
    {
     "data": {
      "text/plain": [
       "array([[1, 2, 3],\n",
       "       [4, 5, 6],\n",
       "       [7, 8, 9]])"
      ]
     },
     "execution_count": 38,
     "metadata": {},
     "output_type": "execute_result"
    }
   ],
   "source": [
    "arr"
   ]
  },
  {
   "cell_type": "code",
   "execution_count": 39,
   "id": "74c05500-caea-4563-89ff-aa90f05223d1",
   "metadata": {},
   "outputs": [
    {
     "data": {
      "text/plain": [
       "1"
      ]
     },
     "execution_count": 39,
     "metadata": {},
     "output_type": "execute_result"
    }
   ],
   "source": [
    "arr.min()"
   ]
  },
  {
   "cell_type": "code",
   "execution_count": 40,
   "id": "49dbefa5-f708-4d89-9bc4-6db570cf047a",
   "metadata": {},
   "outputs": [
    {
     "data": {
      "text/plain": [
       "9"
      ]
     },
     "execution_count": 40,
     "metadata": {},
     "output_type": "execute_result"
    }
   ],
   "source": [
    "arr.max()"
   ]
  },
  {
   "cell_type": "code",
   "execution_count": 41,
   "id": "505a744c-1f5e-4baf-8c11-7ff65cd776f1",
   "metadata": {},
   "outputs": [
    {
     "data": {
      "text/plain": [
       "45"
      ]
     },
     "execution_count": 41,
     "metadata": {},
     "output_type": "execute_result"
    }
   ],
   "source": [
    "arr.sum()"
   ]
  },
  {
   "cell_type": "code",
   "execution_count": 44,
   "id": "cc4bbecb-ed76-4337-85e5-0c3b8bd5e031",
   "metadata": {},
   "outputs": [
    {
     "data": {
      "text/plain": [
       "array([ 6, 15, 24])"
      ]
     },
     "execution_count": 44,
     "metadata": {},
     "output_type": "execute_result"
    }
   ],
   "source": [
    "np.sum(arr,axis=1)\n",
    "# Here 0 means vertical sum and 1 means horizontal sum"
   ]
  },
  {
   "cell_type": "code",
   "execution_count": 45,
   "id": "fc074c66-209b-4daf-8b04-d707c45df4a0",
   "metadata": {},
   "outputs": [
    {
     "data": {
      "text/plain": [
       "5.0"
      ]
     },
     "execution_count": 45,
     "metadata": {},
     "output_type": "execute_result"
    }
   ],
   "source": [
    "arr.mean()"
   ]
  },
  {
   "cell_type": "code",
   "execution_count": 46,
   "id": "90d14dbe-997d-4918-8ed2-b91f8835410f",
   "metadata": {},
   "outputs": [
    {
     "data": {
      "text/plain": [
       "2.581988897471611"
      ]
     },
     "execution_count": 46,
     "metadata": {},
     "output_type": "execute_result"
    }
   ],
   "source": [
    "arr.std()"
   ]
  },
  {
   "cell_type": "code",
   "execution_count": 47,
   "id": "a67f9036-be09-4d5d-b23d-c58c6c612253",
   "metadata": {},
   "outputs": [
    {
     "data": {
      "text/plain": [
       "8"
      ]
     },
     "execution_count": 47,
     "metadata": {},
     "output_type": "execute_result"
    }
   ],
   "source": [
    "arr.argmax()"
   ]
  },
  {
   "cell_type": "code",
   "execution_count": 48,
   "id": "0523a5e7-ea41-4747-90d4-ff48d3097ae7",
   "metadata": {},
   "outputs": [
    {
     "data": {
      "text/plain": [
       "0"
      ]
     },
     "execution_count": 48,
     "metadata": {},
     "output_type": "execute_result"
    }
   ],
   "source": [
    "arr.argmin()"
   ]
  },
  {
   "cell_type": "markdown",
   "id": "809f2489-937f-4799-9546-b2a6348ead82",
   "metadata": {},
   "source": [
    "# Reshaping And Resizing"
   ]
  },
  {
   "cell_type": "code",
   "execution_count": 49,
   "id": "f6b2c1be-e43e-4629-be4a-649048647732",
   "metadata": {},
   "outputs": [
    {
     "data": {
      "text/plain": [
       "array([ 1,  2,  3,  4,  5,  6,  7,  8,  9, 10, 11, 12, 13, 14, 15, 16, 17,\n",
       "       18, 19, 20, 21, 22, 23, 24, 25, 26, 27, 28, 29, 30])"
      ]
     },
     "execution_count": 49,
     "metadata": {},
     "output_type": "execute_result"
    }
   ],
   "source": [
    "arr = np.arange(1,31)\n",
    "arr"
   ]
  },
  {
   "cell_type": "code",
   "execution_count": 50,
   "id": "a1e4d3f6-fda7-4966-a63a-ea07fe0b6ce3",
   "metadata": {},
   "outputs": [
    {
     "data": {
      "text/plain": [
       "array([[ 1,  2,  3,  4,  5],\n",
       "       [ 6,  7,  8,  9, 10],\n",
       "       [11, 12, 13, 14, 15],\n",
       "       [16, 17, 18, 19, 20],\n",
       "       [21, 22, 23, 24, 25],\n",
       "       [26, 27, 28, 29, 30]])"
      ]
     },
     "execution_count": 50,
     "metadata": {},
     "output_type": "execute_result"
    }
   ],
   "source": [
    "arr.reshape(6,5)"
   ]
  },
  {
   "cell_type": "markdown",
   "id": "22e2e954-cb76-4939-96fe-a5f1245262d9",
   "metadata": {},
   "source": [
    "# NumPy indexing and Slicing of vectors"
   ]
  },
  {
   "cell_type": "code",
   "execution_count": 5,
   "id": "79965cdc-5bfd-4bc1-9d7d-1b452d77370a",
   "metadata": {},
   "outputs": [
    {
     "data": {
      "text/plain": [
       "array([11, 12, 13, 14, 15, 16, 17, 18, 19, 20])"
      ]
     },
     "execution_count": 5,
     "metadata": {},
     "output_type": "execute_result"
    }
   ],
   "source": [
    "arr = np.arange(11,21)\n",
    "arr"
   ]
  },
  {
   "cell_type": "code",
   "execution_count": 6,
   "id": "df79e351-8d26-4934-a4a3-2e50889af591",
   "metadata": {},
   "outputs": [
    {
     "data": {
      "text/plain": [
       "array([12, 13, 14, 15, 16])"
      ]
     },
     "execution_count": 6,
     "metadata": {},
     "output_type": "execute_result"
    }
   ],
   "source": [
    "arr[1:6]"
   ]
  },
  {
   "cell_type": "markdown",
   "id": "1dee91b7-a34b-4b50-babd-c85fc375503a",
   "metadata": {},
   "source": [
    "# Numpy indexing and slicing of matrix"
   ]
  },
  {
   "cell_type": "code",
   "execution_count": 14,
   "id": "191e6fae-f535-4d75-b06b-425e32d8cfd8",
   "metadata": {},
   "outputs": [
    {
     "data": {
      "text/plain": [
       "array([[ 1,  2,  3,  4,  5],\n",
       "       [ 6,  7,  8,  9, 10],\n",
       "       [11, 12, 13, 14, 15],\n",
       "       [16, 17, 18, 19, 20],\n",
       "       [21, 22, 23, 24, 25],\n",
       "       [26, 27, 28, 29, 30]])"
      ]
     },
     "execution_count": 14,
     "metadata": {},
     "output_type": "execute_result"
    }
   ],
   "source": [
    "arr = np.arange(1,31).reshape(6,5)\n",
    "arr"
   ]
  },
  {
   "cell_type": "code",
   "execution_count": 15,
   "id": "eb2e27c2-4f71-474c-8c1b-502363b36c31",
   "metadata": {},
   "outputs": [
    {
     "data": {
      "text/plain": [
       "20"
      ]
     },
     "execution_count": 15,
     "metadata": {},
     "output_type": "execute_result"
    }
   ],
   "source": [
    "arr[3,4]"
   ]
  },
  {
   "cell_type": "code",
   "execution_count": 21,
   "id": "090c9b18-7842-41b4-bea6-87ff842591b5",
   "metadata": {},
   "outputs": [
    {
     "data": {
      "text/plain": [
       "array([[19, 20],\n",
       "       [24, 25],\n",
       "       [29, 30]])"
      ]
     },
     "execution_count": 21,
     "metadata": {},
     "output_type": "execute_result"
    }
   ],
   "source": [
    "slice = arr[3:6,3:5]\n",
    "slice"
   ]
  },
  {
   "cell_type": "markdown",
   "id": "1d6cd54f-e707-4694-b1cd-e9261fddc674",
   "metadata": {},
   "source": [
    "# Boolean Indexing"
   ]
  },
  {
   "cell_type": "code",
   "execution_count": 22,
   "id": "06c0d5de-238d-447a-bc4c-3e6968bf461a",
   "metadata": {},
   "outputs": [
    {
     "data": {
      "text/plain": [
       "array([ 1,  2,  3,  4,  5,  6,  7,  8,  9, 10, 11, 12, 13, 14, 15, 16, 17,\n",
       "       18, 19, 20])"
      ]
     },
     "execution_count": 22,
     "metadata": {},
     "output_type": "execute_result"
    }
   ],
   "source": [
    "arr = np.arange(1,21)\n",
    "arr"
   ]
  },
  {
   "cell_type": "code",
   "execution_count": 24,
   "id": "ddb59efb-2e79-4b1a-941a-69252cca1353",
   "metadata": {},
   "outputs": [
    {
     "data": {
      "text/plain": [
       "array([False,  True, False,  True, False,  True, False,  True, False,\n",
       "        True, False,  True, False,  True, False,  True, False,  True,\n",
       "       False,  True])"
      ]
     },
     "execution_count": 24,
     "metadata": {},
     "output_type": "execute_result"
    }
   ],
   "source": [
    "bool_index = arr  %2 == 0\n",
    "bool_index"
   ]
  },
  {
   "cell_type": "code",
   "execution_count": 26,
   "id": "14947771-0600-49a6-b3b3-d8e9f1f8def4",
   "metadata": {},
   "outputs": [
    {
     "data": {
      "text/plain": [
       "array([ 2,  4,  6,  8, 10, 12, 14, 16, 18, 20])"
      ]
     },
     "execution_count": 26,
     "metadata": {},
     "output_type": "execute_result"
    }
   ],
   "source": [
    "arr = arr[bool_index]\n",
    "arr"
   ]
  },
  {
   "cell_type": "markdown",
   "id": "26aedc0d-45bf-47d6-8bb2-42bf4df4c7df",
   "metadata": {},
   "source": [
    "# NumPy Operations"
   ]
  },
  {
   "cell_type": "markdown",
   "id": "c80ade53-9e5b-4cba-9fe7-566d015dc50f",
   "metadata": {},
   "source": [
    "# Arithematic Operations"
   ]
  },
  {
   "cell_type": "code",
   "execution_count": 30,
   "id": "674fb9fa-d0d9-4ff4-8a83-9865c354a4f2",
   "metadata": {},
   "outputs": [],
   "source": [
    "a1 = np.array([1,2,3,4,5])\n",
    "a2 = np.array([6,7,8,9,10])"
   ]
  },
  {
   "cell_type": "code",
   "execution_count": 31,
   "id": "eef15df9-56c9-4a75-9c00-00e4672baacd",
   "metadata": {},
   "outputs": [
    {
     "data": {
      "text/plain": [
       "array([1, 2, 3, 4, 5])"
      ]
     },
     "execution_count": 31,
     "metadata": {},
     "output_type": "execute_result"
    }
   ],
   "source": [
    "a1"
   ]
  },
  {
   "cell_type": "code",
   "execution_count": 32,
   "id": "4978a626-1264-45c6-a52b-700afcfdc7bb",
   "metadata": {},
   "outputs": [
    {
     "data": {
      "text/plain": [
       "array([ 6,  7,  8,  9, 10])"
      ]
     },
     "execution_count": 32,
     "metadata": {},
     "output_type": "execute_result"
    }
   ],
   "source": [
    "a2"
   ]
  },
  {
   "cell_type": "code",
   "execution_count": 33,
   "id": "7c27ea08-54b8-4ed0-9a89-d96045823727",
   "metadata": {},
   "outputs": [
    {
     "data": {
      "text/plain": [
       "array([ 7,  9, 11, 13, 15])"
      ]
     },
     "execution_count": 33,
     "metadata": {},
     "output_type": "execute_result"
    }
   ],
   "source": [
    "a1 + a2"
   ]
  },
  {
   "cell_type": "markdown",
   "id": "860e1593-5c61-42a4-8330-66c5969b4cd7",
   "metadata": {},
   "source": [
    "# broadCasting"
   ]
  },
  {
   "cell_type": "code",
   "execution_count": 34,
   "id": "66380058-7495-4eeb-99c8-cfc207c690c7",
   "metadata": {},
   "outputs": [],
   "source": [
    "l = [20,30,40,50]\n",
    "arr = np.array(l)"
   ]
  },
  {
   "cell_type": "code",
   "execution_count": 35,
   "id": "581b75b0-35ff-4e7d-9f89-d77d8ef8e715",
   "metadata": {},
   "outputs": [
    {
     "data": {
      "text/plain": [
       "array([20, 30, 40, 50])"
      ]
     },
     "execution_count": 35,
     "metadata": {},
     "output_type": "execute_result"
    }
   ],
   "source": [
    "arr"
   ]
  },
  {
   "cell_type": "code",
   "execution_count": 36,
   "id": "30fdc23b-ecdf-4935-9d5c-8485338644f2",
   "metadata": {},
   "outputs": [
    {
     "data": {
      "text/plain": [
       "array([30, 40, 50, 60])"
      ]
     },
     "execution_count": 36,
     "metadata": {},
     "output_type": "execute_result"
    }
   ],
   "source": [
    "arr+10"
   ]
  },
  {
   "cell_type": "markdown",
   "id": "da0ca7ce-7443-4608-8bdf-26844a1764fa",
   "metadata": {},
   "source": [
    "Deep And Shallow Copy"
   ]
  },
  {
   "cell_type": "code",
   "execution_count": 40,
   "id": "49f73031-359d-4fdc-bfac-0170ba077e60",
   "metadata": {},
   "outputs": [
    {
     "data": {
      "text/plain": [
       "array([ 1,  2,  3,  4,  5,  6,  7,  8,  9, 10, 11, 12, 13, 14, 15, 16, 17,\n",
       "       18, 19, 20])"
      ]
     },
     "execution_count": 40,
     "metadata": {},
     "output_type": "execute_result"
    }
   ],
   "source": [
    "a = np.arange(1,21)\n",
    "a"
   ]
  },
  {
   "cell_type": "code",
   "execution_count": 42,
   "id": "568201f8-2f36-4ee6-89be-7c14ace489c3",
   "metadata": {},
   "outputs": [
    {
     "data": {
      "text/plain": [
       "array([10, 20, 30, 40, 50])"
      ]
     },
     "execution_count": 42,
     "metadata": {},
     "output_type": "execute_result"
    }
   ],
   "source": [
    "slice = a[:5]\n",
    "slice = slice * 10\n",
    "slice"
   ]
  },
  {
   "cell_type": "code",
   "execution_count": 43,
   "id": "11bb49bf-9396-43ea-87a7-65f76c37a216",
   "metadata": {},
   "outputs": [
    {
     "data": {
      "text/plain": [
       "array([ 1,  2,  3,  4,  5,  6,  7,  8,  9, 10, 11, 12, 13, 14, 15, 16, 17,\n",
       "       18, 19, 20])"
      ]
     },
     "execution_count": 43,
     "metadata": {},
     "output_type": "execute_result"
    }
   ],
   "source": [
    "a"
   ]
  },
  {
   "cell_type": "code",
   "execution_count": 45,
   "id": "99941463-cba5-4ce5-afc8-5d3929362493",
   "metadata": {},
   "outputs": [
    {
     "data": {
      "text/plain": [
       "array([50, 60])"
      ]
     },
     "execution_count": 45,
     "metadata": {},
     "output_type": "execute_result"
    }
   ],
   "source": [
    "a[4:6] *10"
   ]
  },
  {
   "cell_type": "code",
   "execution_count": 46,
   "id": "5b078ccf-6fc1-4df8-9629-70e5c3252ad8",
   "metadata": {},
   "outputs": [
    {
     "data": {
      "text/plain": [
       "array([ 1,  2,  3,  4,  5,  6,  7,  8,  9, 10, 11, 12, 13, 14, 15, 16, 17,\n",
       "       18, 19, 20])"
      ]
     },
     "execution_count": 46,
     "metadata": {},
     "output_type": "execute_result"
    }
   ],
   "source": [
    "a"
   ]
  },
  {
   "cell_type": "code",
   "execution_count": 47,
   "id": "9e5310c7-2a67-4bdb-b805-f412793c6f77",
   "metadata": {},
   "outputs": [],
   "source": [
    "b = a"
   ]
  },
  {
   "cell_type": "code",
   "execution_count": 48,
   "id": "66458142-aad8-4fdc-8bfd-22ffec7302f9",
   "metadata": {},
   "outputs": [],
   "source": [
    "b[0] = 99"
   ]
  },
  {
   "cell_type": "code",
   "execution_count": 49,
   "id": "7ec87ee9-5fca-466a-89a4-5a4a83650ca1",
   "metadata": {},
   "outputs": [
    {
     "data": {
      "text/plain": [
       "array([99,  2,  3,  4,  5,  6,  7,  8,  9, 10, 11, 12, 13, 14, 15, 16, 17,\n",
       "       18, 19, 20])"
      ]
     },
     "execution_count": 49,
     "metadata": {},
     "output_type": "execute_result"
    }
   ],
   "source": [
    "b"
   ]
  },
  {
   "cell_type": "code",
   "execution_count": 50,
   "id": "a09d7b23-5ac0-4b33-9057-ebbe295f3ed7",
   "metadata": {},
   "outputs": [
    {
     "data": {
      "text/plain": [
       "array([99,  2,  3,  4,  5,  6,  7,  8,  9, 10, 11, 12, 13, 14, 15, 16, 17,\n",
       "       18, 19, 20])"
      ]
     },
     "execution_count": 50,
     "metadata": {},
     "output_type": "execute_result"
    }
   ],
   "source": [
    "a"
   ]
  },
  {
   "cell_type": "raw",
   "id": "26634bf6-5086-4fbd-b1b4-ed2f090721a5",
   "metadata": {},
   "source": [
    "Matrix Operations"
   ]
  },
  {
   "cell_type": "code",
   "execution_count": 53,
   "id": "9db575f0-7209-46cb-8400-a0f5b17b39bb",
   "metadata": {},
   "outputs": [],
   "source": [
    "A =np.array([[1,2], [3,4]])\n",
    "B = np.array([[5,6], [7,8]])"
   ]
  },
  {
   "cell_type": "code",
   "execution_count": 54,
   "id": "cef4115c-9b0a-4c64-95f6-d4e0e3f9fa94",
   "metadata": {},
   "outputs": [
    {
     "data": {
      "text/plain": [
       "array([[1, 2],\n",
       "       [3, 4]])"
      ]
     },
     "execution_count": 54,
     "metadata": {},
     "output_type": "execute_result"
    }
   ],
   "source": [
    "A"
   ]
  },
  {
   "cell_type": "code",
   "execution_count": 55,
   "id": "76899afb-db1e-4db4-ba6a-6882e0667d01",
   "metadata": {},
   "outputs": [
    {
     "data": {
      "text/plain": [
       "array([[5, 6],\n",
       "       [7, 8]])"
      ]
     },
     "execution_count": 55,
     "metadata": {},
     "output_type": "execute_result"
    }
   ],
   "source": [
    "B"
   ]
  },
  {
   "cell_type": "code",
   "execution_count": 57,
   "id": "a4629bfb-9572-424b-bf80-f81fae9378c9",
   "metadata": {},
   "outputs": [
    {
     "data": {
      "text/plain": [
       "array([[ 5, 12],\n",
       "       [21, 32]])"
      ]
     },
     "execution_count": 57,
     "metadata": {},
     "output_type": "execute_result"
    }
   ],
   "source": [
    "A * B"
   ]
  },
  {
   "cell_type": "code",
   "execution_count": 58,
   "id": "de73ba8c-3f9d-4b84-a5b8-2b569dd250b5",
   "metadata": {},
   "outputs": [
    {
     "data": {
      "text/plain": [
       "array([[19, 22],\n",
       "       [43, 50]])"
      ]
     },
     "execution_count": 58,
     "metadata": {},
     "output_type": "execute_result"
    }
   ],
   "source": [
    "A @ B"
   ]
  },
  {
   "cell_type": "code",
   "execution_count": 59,
   "id": "823495b7-1f08-4cdf-aa7c-f35637c1ded6",
   "metadata": {},
   "outputs": [
    {
     "data": {
      "text/plain": [
       "array([[19, 22],\n",
       "       [43, 50]])"
      ]
     },
     "execution_count": 59,
     "metadata": {},
     "output_type": "execute_result"
    }
   ],
   "source": [
    "np.dot(A,B)"
   ]
  },
  {
   "cell_type": "code",
   "execution_count": 60,
   "id": "9ec8043d-7404-49d6-8e32-0a6725cd59c7",
   "metadata": {},
   "outputs": [
    {
     "data": {
      "text/plain": [
       "array([[1, 3],\n",
       "       [2, 4]])"
      ]
     },
     "execution_count": 60,
     "metadata": {},
     "output_type": "execute_result"
    }
   ],
   "source": [
    "A.T"
   ]
  },
  {
   "cell_type": "markdown",
   "id": "c73a819a-7960-46e1-a6d1-648baa719612",
   "metadata": {},
   "source": [
    "# Array Manipulation"
   ]
  },
  {
   "cell_type": "raw",
   "id": "8430fda7-2639-401d-adf3-39dadc8c45a7",
   "metadata": {},
   "source": [
    "Stacking Arrayes"
   ]
  },
  {
   "cell_type": "code",
   "execution_count": 62,
   "id": "87b52454-40d3-41da-8221-fb5f78558c91",
   "metadata": {},
   "outputs": [],
   "source": [
    "a = np.array([1,2,3,4,])\n",
    "b = np.array([5,6,7,8])"
   ]
  },
  {
   "cell_type": "code",
   "execution_count": 64,
   "id": "5f16b54e-ae9f-4561-99a2-105bdfa37f1f",
   "metadata": {},
   "outputs": [
    {
     "data": {
      "text/plain": [
       "array([1, 2, 3, 4])"
      ]
     },
     "execution_count": 64,
     "metadata": {},
     "output_type": "execute_result"
    }
   ],
   "source": [
    "a\n"
   ]
  },
  {
   "cell_type": "code",
   "execution_count": 65,
   "id": "4e158076-916a-46c8-9bbf-134d77bd0d12",
   "metadata": {},
   "outputs": [
    {
     "data": {
      "text/plain": [
       "array([5, 6, 7, 8])"
      ]
     },
     "execution_count": 65,
     "metadata": {},
     "output_type": "execute_result"
    }
   ],
   "source": [
    "b"
   ]
  },
  {
   "cell_type": "code",
   "execution_count": 66,
   "id": "5da097a4-446e-4619-9289-310a24067716",
   "metadata": {},
   "outputs": [
    {
     "data": {
      "text/plain": [
       "array([[1, 2, 3, 4],\n",
       "       [5, 6, 7, 8]])"
      ]
     },
     "execution_count": 66,
     "metadata": {},
     "output_type": "execute_result"
    }
   ],
   "source": [
    "np.vstack((a,b))"
   ]
  },
  {
   "cell_type": "code",
   "execution_count": 67,
   "id": "4efc1906-58d6-4a8d-8672-459ac46bea70",
   "metadata": {},
   "outputs": [
    {
     "data": {
      "text/plain": [
       "array([1, 2, 3, 4, 5, 6, 7, 8])"
      ]
     },
     "execution_count": 67,
     "metadata": {},
     "output_type": "execute_result"
    }
   ],
   "source": [
    "np.hstack((a,b))"
   ]
  },
  {
   "cell_type": "code",
   "execution_count": 68,
   "id": "4838998b-fff3-4a15-b0a0-d7ef35938e3e",
   "metadata": {},
   "outputs": [
    {
     "data": {
      "text/plain": [
       "array([[1, 5],\n",
       "       [2, 6],\n",
       "       [3, 7],\n",
       "       [4, 8]])"
      ]
     },
     "execution_count": 68,
     "metadata": {},
     "output_type": "execute_result"
    }
   ],
   "source": [
    "np.column_stack((a,b))"
   ]
  },
  {
   "cell_type": "raw",
   "id": "f2bc8cad-b8b7-4cc6-bd66-acfb319cd106",
   "metadata": {},
   "source": [
    "Spitting Arrays"
   ]
  },
  {
   "cell_type": "code",
   "execution_count": 69,
   "id": "c677e0e3-725c-409a-a8e1-8d6ae2eb6a4b",
   "metadata": {},
   "outputs": [
    {
     "data": {
      "text/plain": [
       "array([[ 0,  1,  2,  3],\n",
       "       [ 4,  5,  6,  7],\n",
       "       [ 8,  9, 10, 11],\n",
       "       [12, 13, 14, 15]])"
      ]
     },
     "execution_count": 69,
     "metadata": {},
     "output_type": "execute_result"
    }
   ],
   "source": [
    "c = np.arange(16).reshape(4,4)\n",
    "c"
   ]
  },
  {
   "cell_type": "code",
   "execution_count": 73,
   "id": "69263b10-9960-483f-a568-374982d30873",
   "metadata": {},
   "outputs": [
    {
     "data": {
      "text/plain": [
       "[array([[ 0,  1],\n",
       "        [ 4,  5],\n",
       "        [ 8,  9],\n",
       "        [12, 13]]),\n",
       " array([[ 2,  3],\n",
       "        [ 6,  7],\n",
       "        [10, 11],\n",
       "        [14, 15]])]"
      ]
     },
     "execution_count": 73,
     "metadata": {},
     "output_type": "execute_result"
    }
   ],
   "source": [
    "np.hsplit(c,2)"
   ]
  },
  {
   "cell_type": "code",
   "execution_count": 77,
   "id": "29b4f235-7b63-4e14-b778-e618152a9f20",
   "metadata": {},
   "outputs": [],
   "source": [
    "a = np.vsplit(c,2)"
   ]
  },
  {
   "cell_type": "code",
   "execution_count": 78,
   "id": "b99c4d28-aace-43c6-ac61-034281a8e09d",
   "metadata": {},
   "outputs": [
    {
     "name": "stdout",
     "output_type": "stream",
     "text": [
      "[[0 1 2 3]\n",
      " [4 5 6 7]]\n",
      "[[ 8  9 10 11]\n",
      " [12 13 14 15]]\n"
     ]
    }
   ],
   "source": [
    "for i in a:\n",
    "    print(i)"
   ]
  },
  {
   "cell_type": "code",
   "execution_count": null,
   "id": "43f3c482-fbfc-49a0-82e4-32dd86408d73",
   "metadata": {},
   "outputs": [],
   "source": []
  }
 ],
 "metadata": {
  "kernelspec": {
   "display_name": "Python 3 (ipykernel)",
   "language": "python",
   "name": "python3"
  },
  "language_info": {
   "codemirror_mode": {
    "name": "ipython",
    "version": 3
   },
   "file_extension": ".py",
   "mimetype": "text/x-python",
   "name": "python",
   "nbconvert_exporter": "python",
   "pygments_lexer": "ipython3",
   "version": "3.12.7"
  }
 },
 "nbformat": 4,
 "nbformat_minor": 5
}
