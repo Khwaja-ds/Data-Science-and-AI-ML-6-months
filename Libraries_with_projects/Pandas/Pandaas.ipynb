{
 "cells": [
  {
   "cell_type": "markdown",
   "id": "17dfb1db-fde7-4870-85e2-ffec1b6fd3e6",
   "metadata": {},
   "source": [
    "# Pandas Series\n",
    "\n",
    " **Pandas Series** is a one-dimensional labeled array capable of holding any data type (integers, strings, floats, Python objects, etc.).\n",
    "\n",
    "- It is similar to a NumPy array but with **labels (indices)**.\n",
    "- The **axis labels** are collectively referred to as the **index** of the Series.\n",
    "\n",
    "---\n",
    "\n",
    "## Creating Series\n",
    "\n",
    "There are multiple ways to create a Pandas Series.\n",
    "Below, we explore how to create a Series using:\n",
    "- A Python list\n",
    "- A NumPy array\n",
    "- A dictionary\n"
   ]
  },
  {
   "cell_type": "markdown",
   "id": "0018f143-97b4-4edc-bc1c-2df5d237ce4b",
   "metadata": {},
   "source": [
    "# Import necessary libraries\n",
    "import numpy as np\n",
    "import pandas as pd"
   ]
  },
  {
   "cell_type": "markdown",
   "id": "49dc3b9c-9727-46c5-b4c7-73553df8ed7f",
   "metadata": {},
   "source": [
    "### 1. Creating a Series from a Python List\n",
    "\n",
    "This is the most basic method. If you don't pass an index, Pandas will automatically assign integer indices starting from 0."
   ]
  },
  {
   "cell_type": "code",
   "execution_count": 10,
   "id": "c56ccab8-b573-4322-8e7e-f5a39d9cf9a9",
   "metadata": {},
   "outputs": [
    {
     "data": {
      "text/plain": [
       "0    10\n",
       "1    20\n",
       "2    30\n",
       "dtype: int64"
      ]
     },
     "execution_count": 10,
     "metadata": {},
     "output_type": "execute_result"
    }
   ],
   "source": [
    "my_list = [10, 20, 30]\n",
    "pd.Series(my_list)"
   ]
  },
  {
   "cell_type": "markdown",
   "id": "e2242066-6282-4b0d-a15a-c2be47a6f194",
   "metadata": {},
   "source": [
    "**Explanation:**\n",
    "\n",
    "- `my_list` is a regular Python list.\n",
    "- `pd.Series(my_list)` converts it into a Pandas Series.\n",
    "- Index is assigned automatically as 0, 1, 2."
   ]
  },
  {
   "cell_type": "markdown",
   "id": "1dc1c2d6-1e76-46a9-9d4f-1b0172160def",
   "metadata": {},
   "source": [
    "### 2. Creating a Series with Custom Labels\n",
    "\n",
    "You can assign your own labels (indices) by passing the `index` parameter."
   ]
  },
  {
   "cell_type": "code",
   "execution_count": 11,
   "id": "22621c8d-08ad-47cb-9637-a68bfc776dcb",
   "metadata": {},
   "outputs": [
    {
     "data": {
      "text/plain": [
       "a    10\n",
       "b    20\n",
       "c    30\n",
       "dtype: int64"
      ]
     },
     "execution_count": 11,
     "metadata": {},
     "output_type": "execute_result"
    }
   ],
   "source": [
    "labels = ['a', 'b', 'c']\n",
    "pd.Series(my_list, index=labels)"
   ]
  },
  {
   "cell_type": "markdown",
   "id": "8213ee56-9466-43af-a8fb-816a79c294c9",
   "metadata": {},
   "source": [
    "**Explanation:**\n",
    "\n",
    "- Instead of default numeric indices, we use `'a'`, `'b'`, and `'c'` as custom labels.\n",
    "- This makes the Series more readable and informative."
   ]
  },
  {
   "cell_type": "markdown",
   "id": "880c17b8-5e6c-4b82-a8ef-4cf77c21b5b8",
   "metadata": {},
   "source": [
    "### 3. Creating a Series from a NumPy Array\n",
    "\n",
    "You can also create a Series using a NumPy array."
   ]
  },
  {
   "cell_type": "code",
   "execution_count": 12,
   "id": "3b150ce9-62b7-4379-81af-2598fbee0f00",
   "metadata": {},
   "outputs": [
    {
     "data": {
      "text/plain": [
       "0    10\n",
       "1    20\n",
       "2    30\n",
       "dtype: int32"
      ]
     },
     "execution_count": 12,
     "metadata": {},
     "output_type": "execute_result"
    }
   ],
   "source": [
    "arr = np.array([10, 20, 30])\n",
    "pd.Series(arr)"
   ]
  },
  {
   "cell_type": "markdown",
   "id": "5f800720-bd02-4eb3-a468-d1987ba218ab",
   "metadata": {},
   "source": [
    "**Note:**  \n",
    "The default index will still be integers (0, 1, 2) unless you specify otherwise."
   ]
  },
  {
   "cell_type": "markdown",
   "id": "d54ff544-f0dd-449f-b010-791104b3ca7d",
   "metadata": {},
   "source": [
    "### 4. Creating a Series from a Dictionary\n",
    "\n",
    "If you use a dictionary, the keys automatically become the index."
   ]
  },
  {
   "cell_type": "code",
   "execution_count": 13,
   "id": "8561a394-a7ce-44d0-9de8-f1215a224a56",
   "metadata": {},
   "outputs": [
    {
     "data": {
      "text/plain": [
       "a    10\n",
       "b    20\n",
       "c    30\n",
       "dtype: int64"
      ]
     },
     "execution_count": 13,
     "metadata": {},
     "output_type": "execute_result"
    }
   ],
   "source": [
    "d = {'a': 10, 'b': 20, 'c': 30}\n",
    "pd.Series(d)"
   ]
  },
  {
   "cell_type": "markdown",
   "id": "71220f37-f8d7-40a5-9761-fa69b07942b5",
   "metadata": {},
   "source": [
    "**Explanation:**\n",
    "\n",
    "- The dictionary keys become the index.\n",
    "- The values become the data in the Series."
   ]
  },
  {
   "cell_type": "markdown",
   "id": "91d865a4-c6e0-4a43-aa36-7ae064d9eb3e",
   "metadata": {},
   "source": [
    "| Method Used | Input Type | Custom Index | Automatically Labeled |\n",
    "| ----------- | ---------- | ------------ | --------------------- |\n",
    "| Python List | List       | Optional     | Yes (0,1,2...)        |\n",
    "| NumPy Array | np.array   | Optional     | Yes                   |\n",
    "| Dictionary  | dict       | No need      | Keys become index     |\n"
   ]
  },
  {
   "cell_type": "code",
   "execution_count": null,
   "id": "8556d82f-9d6d-4a2f-8486-493e718775d2",
   "metadata": {},
   "outputs": [],
   "source": []
  }
 ],
 "metadata": {
  "kernelspec": {
   "display_name": "Python [conda env:base] *",
   "language": "python",
   "name": "conda-base-py"
  },
  "language_info": {
   "codemirror_mode": {
    "name": "ipython",
    "version": 3
   },
   "file_extension": ".py",
   "mimetype": "text/x-python",
   "name": "python",
   "nbconvert_exporter": "python",
   "pygments_lexer": "ipython3",
   "version": "3.12.7"
  }
 },
 "nbformat": 4,
 "nbformat_minor": 5
}
