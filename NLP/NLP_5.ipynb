{
  "cells": [
    {
      "cell_type": "markdown",
      "id": "16bc861e",
      "metadata": {
        "id": "16bc861e"
      },
      "source": [
        "\n",
        "# SpaCy — Complete Notebook\n",
        "\n",
        "> **Goal**: Learn SpaCy step by step with clean, runnable examples and detailed explanations you can keep as notes.\n",
        "\n",
        "This notebook covers:\n",
        "1. Installation & Model Setup  \n",
        "2. Core Objects: `Doc`, `Token`, `Span`  \n",
        "3. Tokenization & Basic Token Attributes  \n",
        "4. Stop Words (built‑in + custom)  \n",
        "5. Lemmatization  \n",
        "6. Part‑of‑Speech (POS) Tagging + Morphology  \n",
        "7. Dependency Parsing  \n",
        "8. Sentence Segmentation  \n",
        "9. Named Entity Recognition (NER)  \n",
        "10. Visualization with `displacy`  \n",
        "11. Rule‑based Matching (`Matcher`, `PhraseMatcher`)  \n",
        "12. Efficient Processing with `nlp.pipe`  \n",
        "13. Custom Pipeline Components  \n",
        "14. Saving/Loading pipelines & notes on training\n",
        "\n",
        "**Note:** Some cells require SpaCy models like `en_core_web_sm`. If not present, the code will try to download them.\n"
      ]
    },
    {
      "cell_type": "markdown",
      "id": "9d9960fa",
      "metadata": {
        "id": "9d9960fa"
      },
      "source": [
        "\n",
        "## 1) Install SpaCy & Download a Model\n",
        "\n",
        "- If you're on **Colab**, uncomment the first two lines.  \n",
        "- If you're local and already have SpaCy + models, the `try/except` will just load them.\n"
      ]
    },
    {
      "cell_type": "code",
      "execution_count": 1,
      "id": "e571f3ba",
      "metadata": {
        "colab": {
          "base_uri": "https://localhost:8080/"
        },
        "id": "e571f3ba",
        "outputId": "5b9bb3d5-1c71-41c8-e31d-df2770b6153b"
      },
      "outputs": [
        {
          "output_type": "execute_result",
          "data": {
            "text/plain": [
              "(spacy.lang.en.English,\n",
              " ['tok2vec', 'tagger', 'parser', 'attribute_ruler', 'lemmatizer', 'ner'])"
            ]
          },
          "metadata": {},
          "execution_count": 1
        }
      ],
      "source": [
        "\n",
        "# If you're on Colab or a fresh environment, run the following (uncomment):\n",
        "#!pip install -U spacy\n",
        "#!python -m spacy download en_core_web_sm\n",
        "\n",
        "import spacy\n",
        "\n",
        "# Try to load a small English model, otherwise download it.\n",
        "try:\n",
        "    nlp = spacy.load(\"en_core_web_sm\")\n",
        "except OSError:\n",
        "    # Attempt to download programmatically (works if internet is available)\n",
        "    try:\n",
        "        from spacy.cli import download\n",
        "        download(\"en_core_web_sm\")\n",
        "        nlp = spacy.load(\"en_core_web_sm\")\n",
        "    except Exception:\n",
        "        print(\"Couldn't download 'en_core_web_sm'. Falling back to a blank English pipeline.\")\n",
        "        nlp = spacy.blank(\"en\")  # Has tokenizer; no POS/NER until components are added\n",
        "\n",
        "type(nlp), nlp.pipe_names\n"
      ]
    },
    {
      "cell_type": "markdown",
      "id": "e58bb3e9",
      "metadata": {
        "id": "e58bb3e9"
      },
      "source": [
        "\n",
        "## 2) Core Objects — `Doc`, `Token`, `Span`\n",
        "\n",
        "- **`Doc`**: an entire processed text (produced by `nlp(text)`). Immutable container of tokens.  \n",
        "- **`Token`**: a single token with many attributes (text, lemma, POS, shape, etc.).  \n",
        "- **`Span`**: a slice of a `Doc` (e.g., a phrase or sentence).\n"
      ]
    },
    {
      "cell_type": "code",
      "execution_count": 2,
      "id": "2401d5fe",
      "metadata": {
        "colab": {
          "base_uri": "https://localhost:8080/"
        },
        "id": "2401d5fe",
        "outputId": "b6f6cb85-e75d-411f-ccce-c6c2d32e425a"
      },
      "outputs": [
        {
          "output_type": "stream",
          "name": "stdout",
          "text": [
            "Type of doc: <class 'spacy.tokens.doc.Doc'>\n",
            "Number of tokens: 13\n",
            "['SpaCy', 'is', 'a', 'powerful', 'library', 'for', 'Natural', 'Language', 'Processing', '(', 'NLP', ')', '.']\n",
            "Span text: SpaCy is a\n"
          ]
        }
      ],
      "source": [
        "\n",
        "text = \"SpaCy is a powerful library for Natural Language Processing (NLP).\"\n",
        "doc = nlp(text)\n",
        "\n",
        "print(\"Type of doc:\", type(doc))\n",
        "print(\"Number of tokens:\", len(doc))\n",
        "print([token.text for token in doc])\n",
        "\n",
        "span = doc[0:3]  # \"SpaCy is a\"\n",
        "print(\"Span text:\", span.text)\n"
      ]
    },
    {
      "cell_type": "markdown",
      "id": "3b42e8d8",
      "metadata": {
        "id": "3b42e8d8"
      },
      "source": [
        "\n",
        "## 3) Tokenization & Basic Token Attributes\n",
        "\n",
        "SpaCy's tokenizer splits text into meaningful tokens. Useful attributes:\n",
        "- `token.text`, `token.lemma_`, `token.pos_`, `token.tag_`\n",
        "- `token.is_alpha`, `token.is_stop`, `token.like_num`, `token.shape_`, `token.is_punct`\n"
      ]
    },
    {
      "cell_type": "code",
      "execution_count": 3,
      "id": "abfb26f8",
      "metadata": {
        "colab": {
          "base_uri": "https://localhost:8080/",
          "height": 551
        },
        "id": "abfb26f8",
        "outputId": "8c4e3592-10fa-4dcd-cf09-5a2db42687bd"
      },
      "outputs": [
        {
          "output_type": "execute_result",
          "data": {
            "text/plain": [
              "       text  is_alpha  is_stop  like_num  shape_  is_punct\n",
              "0     Apple      True    False     False   Xxxxx     False\n",
              "1      sold      True    False     False    xxxx     False\n",
              "2         3     False    False      True       d     False\n",
              "3   million      True    False      True    xxxx     False\n",
              "4   iPhones      True    False     False  xXxxxx     False\n",
              "5        in      True     True     False      xx     False\n",
              "6     India      True    False     False   Xxxxx     False\n",
              "7         .     False    False     False       .      True\n",
              "8       Wow      True    False     False     Xxx     False\n",
              "9         !     False    False     False       !      True\n",
              "10     That      True     True     False    Xxxx     False\n",
              "11       's     False     True     False      'x     False\n",
              "12     huge      True    False     False    xxxx     False\n",
              "13        ,     False    False     False       ,      True\n",
              "14    right      True    False     False    xxxx     False\n",
              "15        ?     False    False     False       ?      True"
            ],
            "text/html": [
              "\n",
              "  <div id=\"df-855404b9-36df-49d0-a4bd-7d00ea92ab9f\" class=\"colab-df-container\">\n",
              "    <div>\n",
              "<style scoped>\n",
              "    .dataframe tbody tr th:only-of-type {\n",
              "        vertical-align: middle;\n",
              "    }\n",
              "\n",
              "    .dataframe tbody tr th {\n",
              "        vertical-align: top;\n",
              "    }\n",
              "\n",
              "    .dataframe thead th {\n",
              "        text-align: right;\n",
              "    }\n",
              "</style>\n",
              "<table border=\"1\" class=\"dataframe\">\n",
              "  <thead>\n",
              "    <tr style=\"text-align: right;\">\n",
              "      <th></th>\n",
              "      <th>text</th>\n",
              "      <th>is_alpha</th>\n",
              "      <th>is_stop</th>\n",
              "      <th>like_num</th>\n",
              "      <th>shape_</th>\n",
              "      <th>is_punct</th>\n",
              "    </tr>\n",
              "  </thead>\n",
              "  <tbody>\n",
              "    <tr>\n",
              "      <th>0</th>\n",
              "      <td>Apple</td>\n",
              "      <td>True</td>\n",
              "      <td>False</td>\n",
              "      <td>False</td>\n",
              "      <td>Xxxxx</td>\n",
              "      <td>False</td>\n",
              "    </tr>\n",
              "    <tr>\n",
              "      <th>1</th>\n",
              "      <td>sold</td>\n",
              "      <td>True</td>\n",
              "      <td>False</td>\n",
              "      <td>False</td>\n",
              "      <td>xxxx</td>\n",
              "      <td>False</td>\n",
              "    </tr>\n",
              "    <tr>\n",
              "      <th>2</th>\n",
              "      <td>3</td>\n",
              "      <td>False</td>\n",
              "      <td>False</td>\n",
              "      <td>True</td>\n",
              "      <td>d</td>\n",
              "      <td>False</td>\n",
              "    </tr>\n",
              "    <tr>\n",
              "      <th>3</th>\n",
              "      <td>million</td>\n",
              "      <td>True</td>\n",
              "      <td>False</td>\n",
              "      <td>True</td>\n",
              "      <td>xxxx</td>\n",
              "      <td>False</td>\n",
              "    </tr>\n",
              "    <tr>\n",
              "      <th>4</th>\n",
              "      <td>iPhones</td>\n",
              "      <td>True</td>\n",
              "      <td>False</td>\n",
              "      <td>False</td>\n",
              "      <td>xXxxxx</td>\n",
              "      <td>False</td>\n",
              "    </tr>\n",
              "    <tr>\n",
              "      <th>5</th>\n",
              "      <td>in</td>\n",
              "      <td>True</td>\n",
              "      <td>True</td>\n",
              "      <td>False</td>\n",
              "      <td>xx</td>\n",
              "      <td>False</td>\n",
              "    </tr>\n",
              "    <tr>\n",
              "      <th>6</th>\n",
              "      <td>India</td>\n",
              "      <td>True</td>\n",
              "      <td>False</td>\n",
              "      <td>False</td>\n",
              "      <td>Xxxxx</td>\n",
              "      <td>False</td>\n",
              "    </tr>\n",
              "    <tr>\n",
              "      <th>7</th>\n",
              "      <td>.</td>\n",
              "      <td>False</td>\n",
              "      <td>False</td>\n",
              "      <td>False</td>\n",
              "      <td>.</td>\n",
              "      <td>True</td>\n",
              "    </tr>\n",
              "    <tr>\n",
              "      <th>8</th>\n",
              "      <td>Wow</td>\n",
              "      <td>True</td>\n",
              "      <td>False</td>\n",
              "      <td>False</td>\n",
              "      <td>Xxx</td>\n",
              "      <td>False</td>\n",
              "    </tr>\n",
              "    <tr>\n",
              "      <th>9</th>\n",
              "      <td>!</td>\n",
              "      <td>False</td>\n",
              "      <td>False</td>\n",
              "      <td>False</td>\n",
              "      <td>!</td>\n",
              "      <td>True</td>\n",
              "    </tr>\n",
              "    <tr>\n",
              "      <th>10</th>\n",
              "      <td>That</td>\n",
              "      <td>True</td>\n",
              "      <td>True</td>\n",
              "      <td>False</td>\n",
              "      <td>Xxxx</td>\n",
              "      <td>False</td>\n",
              "    </tr>\n",
              "    <tr>\n",
              "      <th>11</th>\n",
              "      <td>'s</td>\n",
              "      <td>False</td>\n",
              "      <td>True</td>\n",
              "      <td>False</td>\n",
              "      <td>'x</td>\n",
              "      <td>False</td>\n",
              "    </tr>\n",
              "    <tr>\n",
              "      <th>12</th>\n",
              "      <td>huge</td>\n",
              "      <td>True</td>\n",
              "      <td>False</td>\n",
              "      <td>False</td>\n",
              "      <td>xxxx</td>\n",
              "      <td>False</td>\n",
              "    </tr>\n",
              "    <tr>\n",
              "      <th>13</th>\n",
              "      <td>,</td>\n",
              "      <td>False</td>\n",
              "      <td>False</td>\n",
              "      <td>False</td>\n",
              "      <td>,</td>\n",
              "      <td>True</td>\n",
              "    </tr>\n",
              "    <tr>\n",
              "      <th>14</th>\n",
              "      <td>right</td>\n",
              "      <td>True</td>\n",
              "      <td>False</td>\n",
              "      <td>False</td>\n",
              "      <td>xxxx</td>\n",
              "      <td>False</td>\n",
              "    </tr>\n",
              "    <tr>\n",
              "      <th>15</th>\n",
              "      <td>?</td>\n",
              "      <td>False</td>\n",
              "      <td>False</td>\n",
              "      <td>False</td>\n",
              "      <td>?</td>\n",
              "      <td>True</td>\n",
              "    </tr>\n",
              "  </tbody>\n",
              "</table>\n",
              "</div>\n",
              "    <div class=\"colab-df-buttons\">\n",
              "\n",
              "  <div class=\"colab-df-container\">\n",
              "    <button class=\"colab-df-convert\" onclick=\"convertToInteractive('df-855404b9-36df-49d0-a4bd-7d00ea92ab9f')\"\n",
              "            title=\"Convert this dataframe to an interactive table.\"\n",
              "            style=\"display:none;\">\n",
              "\n",
              "  <svg xmlns=\"http://www.w3.org/2000/svg\" height=\"24px\" viewBox=\"0 -960 960 960\">\n",
              "    <path d=\"M120-120v-720h720v720H120Zm60-500h600v-160H180v160Zm220 220h160v-160H400v160Zm0 220h160v-160H400v160ZM180-400h160v-160H180v160Zm440 0h160v-160H620v160ZM180-180h160v-160H180v160Zm440 0h160v-160H620v160Z\"/>\n",
              "  </svg>\n",
              "    </button>\n",
              "\n",
              "  <style>\n",
              "    .colab-df-container {\n",
              "      display:flex;\n",
              "      gap: 12px;\n",
              "    }\n",
              "\n",
              "    .colab-df-convert {\n",
              "      background-color: #E8F0FE;\n",
              "      border: none;\n",
              "      border-radius: 50%;\n",
              "      cursor: pointer;\n",
              "      display: none;\n",
              "      fill: #1967D2;\n",
              "      height: 32px;\n",
              "      padding: 0 0 0 0;\n",
              "      width: 32px;\n",
              "    }\n",
              "\n",
              "    .colab-df-convert:hover {\n",
              "      background-color: #E2EBFA;\n",
              "      box-shadow: 0px 1px 2px rgba(60, 64, 67, 0.3), 0px 1px 3px 1px rgba(60, 64, 67, 0.15);\n",
              "      fill: #174EA6;\n",
              "    }\n",
              "\n",
              "    .colab-df-buttons div {\n",
              "      margin-bottom: 4px;\n",
              "    }\n",
              "\n",
              "    [theme=dark] .colab-df-convert {\n",
              "      background-color: #3B4455;\n",
              "      fill: #D2E3FC;\n",
              "    }\n",
              "\n",
              "    [theme=dark] .colab-df-convert:hover {\n",
              "      background-color: #434B5C;\n",
              "      box-shadow: 0px 1px 3px 1px rgba(0, 0, 0, 0.15);\n",
              "      filter: drop-shadow(0px 1px 2px rgba(0, 0, 0, 0.3));\n",
              "      fill: #FFFFFF;\n",
              "    }\n",
              "  </style>\n",
              "\n",
              "    <script>\n",
              "      const buttonEl =\n",
              "        document.querySelector('#df-855404b9-36df-49d0-a4bd-7d00ea92ab9f button.colab-df-convert');\n",
              "      buttonEl.style.display =\n",
              "        google.colab.kernel.accessAllowed ? 'block' : 'none';\n",
              "\n",
              "      async function convertToInteractive(key) {\n",
              "        const element = document.querySelector('#df-855404b9-36df-49d0-a4bd-7d00ea92ab9f');\n",
              "        const dataTable =\n",
              "          await google.colab.kernel.invokeFunction('convertToInteractive',\n",
              "                                                    [key], {});\n",
              "        if (!dataTable) return;\n",
              "\n",
              "        const docLinkHtml = 'Like what you see? Visit the ' +\n",
              "          '<a target=\"_blank\" href=https://colab.research.google.com/notebooks/data_table.ipynb>data table notebook</a>'\n",
              "          + ' to learn more about interactive tables.';\n",
              "        element.innerHTML = '';\n",
              "        dataTable['output_type'] = 'display_data';\n",
              "        await google.colab.output.renderOutput(dataTable, element);\n",
              "        const docLink = document.createElement('div');\n",
              "        docLink.innerHTML = docLinkHtml;\n",
              "        element.appendChild(docLink);\n",
              "      }\n",
              "    </script>\n",
              "  </div>\n",
              "\n",
              "\n",
              "    <div id=\"df-c5972815-1cd9-4861-b4d1-54a2b019a4e8\">\n",
              "      <button class=\"colab-df-quickchart\" onclick=\"quickchart('df-c5972815-1cd9-4861-b4d1-54a2b019a4e8')\"\n",
              "                title=\"Suggest charts\"\n",
              "                style=\"display:none;\">\n",
              "\n",
              "<svg xmlns=\"http://www.w3.org/2000/svg\" height=\"24px\"viewBox=\"0 0 24 24\"\n",
              "     width=\"24px\">\n",
              "    <g>\n",
              "        <path d=\"M19 3H5c-1.1 0-2 .9-2 2v14c0 1.1.9 2 2 2h14c1.1 0 2-.9 2-2V5c0-1.1-.9-2-2-2zM9 17H7v-7h2v7zm4 0h-2V7h2v10zm4 0h-2v-4h2v4z\"/>\n",
              "    </g>\n",
              "</svg>\n",
              "      </button>\n",
              "\n",
              "<style>\n",
              "  .colab-df-quickchart {\n",
              "      --bg-color: #E8F0FE;\n",
              "      --fill-color: #1967D2;\n",
              "      --hover-bg-color: #E2EBFA;\n",
              "      --hover-fill-color: #174EA6;\n",
              "      --disabled-fill-color: #AAA;\n",
              "      --disabled-bg-color: #DDD;\n",
              "  }\n",
              "\n",
              "  [theme=dark] .colab-df-quickchart {\n",
              "      --bg-color: #3B4455;\n",
              "      --fill-color: #D2E3FC;\n",
              "      --hover-bg-color: #434B5C;\n",
              "      --hover-fill-color: #FFFFFF;\n",
              "      --disabled-bg-color: #3B4455;\n",
              "      --disabled-fill-color: #666;\n",
              "  }\n",
              "\n",
              "  .colab-df-quickchart {\n",
              "    background-color: var(--bg-color);\n",
              "    border: none;\n",
              "    border-radius: 50%;\n",
              "    cursor: pointer;\n",
              "    display: none;\n",
              "    fill: var(--fill-color);\n",
              "    height: 32px;\n",
              "    padding: 0;\n",
              "    width: 32px;\n",
              "  }\n",
              "\n",
              "  .colab-df-quickchart:hover {\n",
              "    background-color: var(--hover-bg-color);\n",
              "    box-shadow: 0 1px 2px rgba(60, 64, 67, 0.3), 0 1px 3px 1px rgba(60, 64, 67, 0.15);\n",
              "    fill: var(--button-hover-fill-color);\n",
              "  }\n",
              "\n",
              "  .colab-df-quickchart-complete:disabled,\n",
              "  .colab-df-quickchart-complete:disabled:hover {\n",
              "    background-color: var(--disabled-bg-color);\n",
              "    fill: var(--disabled-fill-color);\n",
              "    box-shadow: none;\n",
              "  }\n",
              "\n",
              "  .colab-df-spinner {\n",
              "    border: 2px solid var(--fill-color);\n",
              "    border-color: transparent;\n",
              "    border-bottom-color: var(--fill-color);\n",
              "    animation:\n",
              "      spin 1s steps(1) infinite;\n",
              "  }\n",
              "\n",
              "  @keyframes spin {\n",
              "    0% {\n",
              "      border-color: transparent;\n",
              "      border-bottom-color: var(--fill-color);\n",
              "      border-left-color: var(--fill-color);\n",
              "    }\n",
              "    20% {\n",
              "      border-color: transparent;\n",
              "      border-left-color: var(--fill-color);\n",
              "      border-top-color: var(--fill-color);\n",
              "    }\n",
              "    30% {\n",
              "      border-color: transparent;\n",
              "      border-left-color: var(--fill-color);\n",
              "      border-top-color: var(--fill-color);\n",
              "      border-right-color: var(--fill-color);\n",
              "    }\n",
              "    40% {\n",
              "      border-color: transparent;\n",
              "      border-right-color: var(--fill-color);\n",
              "      border-top-color: var(--fill-color);\n",
              "    }\n",
              "    60% {\n",
              "      border-color: transparent;\n",
              "      border-right-color: var(--fill-color);\n",
              "    }\n",
              "    80% {\n",
              "      border-color: transparent;\n",
              "      border-right-color: var(--fill-color);\n",
              "      border-bottom-color: var(--fill-color);\n",
              "    }\n",
              "    90% {\n",
              "      border-color: transparent;\n",
              "      border-bottom-color: var(--fill-color);\n",
              "    }\n",
              "  }\n",
              "</style>\n",
              "\n",
              "      <script>\n",
              "        async function quickchart(key) {\n",
              "          const quickchartButtonEl =\n",
              "            document.querySelector('#' + key + ' button');\n",
              "          quickchartButtonEl.disabled = true;  // To prevent multiple clicks.\n",
              "          quickchartButtonEl.classList.add('colab-df-spinner');\n",
              "          try {\n",
              "            const charts = await google.colab.kernel.invokeFunction(\n",
              "                'suggestCharts', [key], {});\n",
              "          } catch (error) {\n",
              "            console.error('Error during call to suggestCharts:', error);\n",
              "          }\n",
              "          quickchartButtonEl.classList.remove('colab-df-spinner');\n",
              "          quickchartButtonEl.classList.add('colab-df-quickchart-complete');\n",
              "        }\n",
              "        (() => {\n",
              "          let quickchartButtonEl =\n",
              "            document.querySelector('#df-c5972815-1cd9-4861-b4d1-54a2b019a4e8 button');\n",
              "          quickchartButtonEl.style.display =\n",
              "            google.colab.kernel.accessAllowed ? 'block' : 'none';\n",
              "        })();\n",
              "      </script>\n",
              "    </div>\n",
              "\n",
              "    </div>\n",
              "  </div>\n"
            ],
            "application/vnd.google.colaboratory.intrinsic+json": {
              "type": "dataframe",
              "summary": "{\n  \"name\": \"pd\",\n  \"rows\": 16,\n  \"fields\": [\n    {\n      \"column\": \"text\",\n      \"properties\": {\n        \"dtype\": \"string\",\n        \"num_unique_values\": 16,\n        \"samples\": [\n          \"Apple\",\n          \"sold\",\n          \"in\"\n        ],\n        \"semantic_type\": \"\",\n        \"description\": \"\"\n      }\n    },\n    {\n      \"column\": \"is_alpha\",\n      \"properties\": {\n        \"dtype\": \"boolean\",\n        \"num_unique_values\": 2,\n        \"samples\": [\n          false,\n          true\n        ],\n        \"semantic_type\": \"\",\n        \"description\": \"\"\n      }\n    },\n    {\n      \"column\": \"is_stop\",\n      \"properties\": {\n        \"dtype\": \"boolean\",\n        \"num_unique_values\": 2,\n        \"samples\": [\n          true,\n          false\n        ],\n        \"semantic_type\": \"\",\n        \"description\": \"\"\n      }\n    },\n    {\n      \"column\": \"like_num\",\n      \"properties\": {\n        \"dtype\": \"boolean\",\n        \"num_unique_values\": 2,\n        \"samples\": [\n          true,\n          false\n        ],\n        \"semantic_type\": \"\",\n        \"description\": \"\"\n      }\n    },\n    {\n      \"column\": \"shape_\",\n      \"properties\": {\n        \"dtype\": \"string\",\n        \"num_unique_values\": 12,\n        \"samples\": [\n          \",\",\n          \"'x\"\n        ],\n        \"semantic_type\": \"\",\n        \"description\": \"\"\n      }\n    },\n    {\n      \"column\": \"is_punct\",\n      \"properties\": {\n        \"dtype\": \"boolean\",\n        \"num_unique_values\": 2,\n        \"samples\": [\n          true,\n          false\n        ],\n        \"semantic_type\": \"\",\n        \"description\": \"\"\n      }\n    }\n  ]\n}"
            }
          },
          "metadata": {},
          "execution_count": 3
        }
      ],
      "source": [
        "\n",
        "doc = nlp(\"Apple sold 3 million iPhones in India. Wow! That's huge, right?\")\n",
        "rows = []\n",
        "for token in doc:\n",
        "    rows.append({\n",
        "        \"text\": token.text,\n",
        "        \"is_alpha\": token.is_alpha,\n",
        "        \"is_stop\": token.is_stop,\n",
        "        \"like_num\": token.like_num,\n",
        "        \"shape_\": token.shape_,\n",
        "        \"is_punct\": token.is_punct\n",
        "    })\n",
        "import pandas as pd\n",
        "pd.DataFrame(rows)\n"
      ]
    },
    {
      "cell_type": "markdown",
      "id": "a2e2a5af",
      "metadata": {
        "id": "a2e2a5af"
      },
      "source": [
        "\n",
        "## 4) Stop Words (Built‑in + Custom)\n",
        "\n",
        "SpaCy includes a stop‑word list per language model. You can also add/remove your own.\n"
      ]
    },
    {
      "cell_type": "code",
      "execution_count": 4,
      "id": "abbda9f1",
      "metadata": {
        "colab": {
          "base_uri": "https://localhost:8080/"
        },
        "id": "abbda9f1",
        "outputId": "ebff6db7-d3c4-4e7e-e69b-6f7185ee3e9b"
      },
      "outputs": [
        {
          "output_type": "stream",
          "name": "stdout",
          "text": [
            "A few built-in stop words: [\"'d\", \"'ll\", \"'m\", \"'re\", \"'s\", \"'ve\", 'a', 'about', 'above', 'across', 'after', 'afterwards', 'again', 'against', 'all']\n"
          ]
        },
        {
          "output_type": "execute_result",
          "data": {
            "text/plain": [
              "[('This', True),\n",
              " ('is', True),\n",
              " ('a', True),\n",
              " ('really', True),\n",
              " ('super', True),\n",
              " ('simple', False),\n",
              " ('example', False),\n",
              " ('to', True),\n",
              " ('demonstrate', False),\n",
              " ('custom', False),\n",
              " ('stop', False),\n",
              " ('words', False),\n",
              " ('.', False)]"
            ]
          },
          "metadata": {},
          "execution_count": 4
        }
      ],
      "source": [
        "\n",
        "from spacy.lang.en.stop_words import STOP_WORDS\n",
        "\n",
        "print(\"A few built-in stop words:\", list(sorted(STOP_WORDS))[:15])\n",
        "\n",
        "# Custom stop words\n",
        "custom_stops = {\"super\", \"really\"}\n",
        "for w in custom_stops:\n",
        "    nlp.vocab[w].is_stop = True\n",
        "\n",
        "doc = nlp(\"This is a really super simple example to demonstrate custom stop words.\")\n",
        "[(t.text, t.is_stop) for t in doc]\n"
      ]
    },
    {
      "cell_type": "markdown",
      "id": "9d3ef2d2",
      "metadata": {
        "id": "9d3ef2d2"
      },
      "source": [
        "\n",
        "## 5) Lemmatization\n",
        "\n",
        "Lemmatization returns the **base** form of a word (e.g., \"running\" → \"run\"). Requires a model with a **lemmatizer** component.\n"
      ]
    },
    {
      "cell_type": "code",
      "execution_count": 5,
      "id": "b493142e",
      "metadata": {
        "colab": {
          "base_uri": "https://localhost:8080/"
        },
        "id": "b493142e",
        "outputId": "897db62c-1733-42d5-c729-fa973968e9f4"
      },
      "outputs": [
        {
          "output_type": "execute_result",
          "data": {
            "text/plain": [
              "[('The', 'the', 'DET'),\n",
              " ('striped', 'striped', 'ADJ'),\n",
              " ('bats', 'bat', 'NOUN'),\n",
              " ('are', 'be', 'AUX'),\n",
              " ('hanging', 'hang', 'VERB'),\n",
              " ('on', 'on', 'ADP'),\n",
              " ('their', 'their', 'PRON'),\n",
              " ('feet', 'foot', 'NOUN'),\n",
              " ('for', 'for', 'ADP'),\n",
              " ('best', 'good', 'ADJ'),\n",
              " ('.', '.', 'PUNCT')]"
            ]
          },
          "metadata": {},
          "execution_count": 5
        }
      ],
      "source": [
        "\n",
        "doc = nlp(\"The striped bats are hanging on their feet for best.\")\n",
        "[(t.text, t.lemma_, t.pos_) for t in doc]\n"
      ]
    },
    {
      "cell_type": "markdown",
      "id": "7a69f3e5",
      "metadata": {
        "id": "7a69f3e5"
      },
      "source": [
        "\n",
        "## 6) POS Tagging & Morphology\n",
        "\n",
        "- **POS (`pos_`)**: coarse-grained part of speech (NOUN, VERB, ADJ, etc.).  \n",
        "- **Tag (`tag_`)**: fine-grained tag (language-dependent).  \n",
        "- **Morph**: features like Number, Tense, Person, etc.\n"
      ]
    },
    {
      "cell_type": "code",
      "execution_count": 6,
      "id": "ea37a0cc",
      "metadata": {
        "colab": {
          "base_uri": "https://localhost:8080/"
        },
        "id": "ea37a0cc",
        "outputId": "22ea939e-85d6-4dfb-9ad5-2e42926b874f"
      },
      "outputs": [
        {
          "output_type": "stream",
          "name": "stdout",
          "text": [
            "Google       POS=PROPN  TAG=NNP    Morph=Number=Sing\n",
            "has          POS=AUX    TAG=VBZ    Morph=Mood=Ind|Number=Sing|Person=3|Tense=Pres|VerbForm=Fin\n",
            "been         POS=AUX    TAG=VBN    Morph=Tense=Past|VerbForm=Part\n",
            "rapidly      POS=ADV    TAG=RB     Morph=\n",
            "expanding    POS=VERB   TAG=VBG    Morph=Aspect=Prog|Tense=Pres|VerbForm=Part\n",
            "its          POS=PRON   TAG=PRP$   Morph=Gender=Neut|Number=Sing|Person=3|Poss=Yes|PronType=Prs\n",
            "AI           POS=PROPN  TAG=NNP    Morph=Number=Sing\n",
            "research     POS=NOUN   TAG=NN     Morph=Number=Sing\n",
            "labs         POS=NOUN   TAG=NNS    Morph=Number=Plur\n",
            ".            POS=PUNCT  TAG=.      Morph=PunctType=Peri\n"
          ]
        }
      ],
      "source": [
        "\n",
        "doc = nlp(\"Google has been rapidly expanding its AI research labs.\")\n",
        "for token in doc:\n",
        "    print(f\"{token.text:12} POS={token.pos_:6} TAG={token.tag_:6} Morph={token.morph}\")\n"
      ]
    },
    {
      "cell_type": "markdown",
      "id": "0a59124e",
      "metadata": {
        "id": "0a59124e"
      },
      "source": [
        "\n",
        "## 7) Dependency Parsing\n",
        "\n",
        "Shows how tokens relate syntactically (subject, object, modifiers). Useful for relation extraction and rule-based patterns.\n"
      ]
    },
    {
      "cell_type": "code",
      "execution_count": 7,
      "id": "d189113c",
      "metadata": {
        "colab": {
          "base_uri": "https://localhost:8080/"
        },
        "id": "d189113c",
        "outputId": "e14783ac-c0d5-4973-def6-5276d767159c"
      },
      "outputs": [
        {
          "output_type": "stream",
          "name": "stdout",
          "text": [
            "The        head=fox        dep=det          children=[]\n",
            "quick      head=fox        dep=amod         children=[]\n",
            "brown      head=fox        dep=amod         children=[]\n",
            "fox        head=jumps      dep=nsubj        children=['The', 'quick', 'brown']\n",
            "jumps      head=jumps      dep=ROOT         children=['fox', 'over', '.']\n",
            "over       head=jumps      dep=prep         children=['dog']\n",
            "the        head=dog        dep=det          children=[]\n",
            "lazy       head=dog        dep=amod         children=[]\n",
            "dog        head=over       dep=pobj         children=['the', 'lazy']\n",
            ".          head=jumps      dep=punct        children=[]\n"
          ]
        }
      ],
      "source": [
        "\n",
        "doc = nlp(\"The quick brown fox jumps over the lazy dog.\")\n",
        "for token in doc:\n",
        "    print(f\"{token.text:10} head={token.head.text:10} dep={token.dep_:12} children={[child.text for child in token.children]}\")\n"
      ]
    },
    {
      "cell_type": "markdown",
      "id": "69e54918",
      "metadata": {
        "id": "69e54918"
      },
      "source": [
        "\n",
        "## 8) Sentence Segmentation\n",
        "\n",
        "SpaCy splits text into sentences using the `senter`/parser rules. You can also customize boundaries.\n"
      ]
    },
    {
      "cell_type": "code",
      "execution_count": 8,
      "id": "ad6e1978",
      "metadata": {
        "colab": {
          "base_uri": "https://localhost:8080/"
        },
        "id": "ad6e1978",
        "outputId": "989d9f3e-d2a9-41d3-b9fa-5ac1be15cff6"
      },
      "outputs": [
        {
          "output_type": "execute_result",
          "data": {
            "text/plain": [
              "['Dr. Smith arrived late.',\n",
              " 'However, the meeting continued.',\n",
              " 'It ended at 5 p.m.']"
            ]
          },
          "metadata": {},
          "execution_count": 8
        }
      ],
      "source": [
        "\n",
        "text = \"Dr. Smith arrived late. However, the meeting continued. It ended at 5 p.m.\"\n",
        "doc = nlp(text)\n",
        "[sent.text for sent in doc.sents]\n"
      ]
    },
    {
      "cell_type": "markdown",
      "id": "9b872360",
      "metadata": {
        "id": "9b872360"
      },
      "source": [
        "\n",
        "## 9) Named Entity Recognition (NER)\n",
        "\n",
        "NER identifies real‑world objects (PERSON, ORG, GPE, DATE, MONEY, etc.).\n"
      ]
    },
    {
      "cell_type": "code",
      "execution_count": 9,
      "id": "167834ca",
      "metadata": {
        "colab": {
          "base_uri": "https://localhost:8080/"
        },
        "id": "167834ca",
        "outputId": "aaeb7cb0-f8b3-4c90-d03b-01ad2ec444b5"
      },
      "outputs": [
        {
          "output_type": "execute_result",
          "data": {
            "text/plain": [
              "[('Mukesh Ambani', 'PERSON'),\n",
              " ('Reliance Industries', 'ORG'),\n",
              " ('Mumbai', 'GPE'),\n",
              " ('$10 million', 'MONEY'),\n",
              " ('2024', 'DATE')]"
            ]
          },
          "metadata": {},
          "execution_count": 9
        }
      ],
      "source": [
        "\n",
        "doc = nlp(\"Mukesh Ambani is the chairman of Reliance Industries, headquartered in Mumbai. He donated $10 million in 2024.\")\n",
        "[(ent.text, ent.label_) for ent in doc.ents]\n"
      ]
    },
    {
      "cell_type": "markdown",
      "id": "8a06405b",
      "metadata": {
        "id": "8a06405b"
      },
      "source": [
        "\n",
        "## 10) Visualizations with `displacy`\n",
        "\n",
        "Use `displacy.render` in notebooks or `displacy.serve` for a local web app.\n"
      ]
    },
    {
      "cell_type": "code",
      "execution_count": 10,
      "id": "84f1b831",
      "metadata": {
        "colab": {
          "base_uri": "https://localhost:8080/",
          "height": 52
        },
        "id": "84f1b831",
        "outputId": "dfc3b8e4-a654-4bf7-e0e3-96f791b79964"
      },
      "outputs": [
        {
          "output_type": "display_data",
          "data": {
            "text/plain": [
              "<IPython.core.display.HTML object>"
            ],
            "text/html": [
              "<span class=\"tex2jax_ignore\"><div class=\"entities\" style=\"line-height: 2.5; direction: ltr\">\n",
              "<mark class=\"entity\" style=\"background: #7aecec; padding: 0.45em 0.6em; margin: 0 0.25em; line-height: 1; border-radius: 0.35em;\">\n",
              "    Apple\n",
              "    <span style=\"font-size: 0.8em; font-weight: bold; line-height: 1; border-radius: 0.35em; vertical-align: middle; margin-left: 0.5rem\">ORG</span>\n",
              "</mark>\n",
              " is looking at buying \n",
              "<mark class=\"entity\" style=\"background: #feca74; padding: 0.45em 0.6em; margin: 0 0.25em; line-height: 1; border-radius: 0.35em;\">\n",
              "    U.K.\n",
              "    <span style=\"font-size: 0.8em; font-weight: bold; line-height: 1; border-radius: 0.35em; vertical-align: middle; margin-left: 0.5rem\">GPE</span>\n",
              "</mark>\n",
              " startup for \n",
              "<mark class=\"entity\" style=\"background: #e4e7d2; padding: 0.45em 0.6em; margin: 0 0.25em; line-height: 1; border-radius: 0.35em;\">\n",
              "    $1 billion\n",
              "    <span style=\"font-size: 0.8em; font-weight: bold; line-height: 1; border-radius: 0.35em; vertical-align: middle; margin-left: 0.5rem\">MONEY</span>\n",
              "</mark>\n",
              "</div></span>"
            ]
          },
          "metadata": {}
        }
      ],
      "source": [
        "\n",
        "from spacy import displacy\n",
        "\n",
        "doc = nlp(\"Apple is looking at buying U.K. startup for $1 billion\")\n",
        "# In a notebook, this will render inline:\n",
        "displacy.render(doc, style=\"ent\", jupyter=True)\n",
        "# For dependencies:\n",
        "# displacy.render(doc, style=\"dep\", jupyter=True)\n"
      ]
    },
    {
      "cell_type": "markdown",
      "id": "b5424463",
      "metadata": {
        "id": "b5424463"
      },
      "source": [
        "\n",
        "## 11) Rule‑based Matching (`Matcher`)\n",
        "\n",
        "`Matcher` finds token patterns using lexical/morphological features. Great for targeted extraction.\n"
      ]
    },
    {
      "cell_type": "code",
      "execution_count": 11,
      "id": "84445050",
      "metadata": {
        "colab": {
          "base_uri": "https://localhost:8080/"
        },
        "id": "84445050",
        "outputId": "1890fe58-8615-42bd-ee0a-94d7e0048269"
      },
      "outputs": [
        {
          "output_type": "execute_result",
          "data": {
            "text/plain": [
              "[('Machine Learning', 2, 4, 'ML_PHRASE'),\n",
              " ('machine learning', 5, 7, 'ML_PHRASE')]"
            ]
          },
          "metadata": {},
          "execution_count": 11
        }
      ],
      "source": [
        "\n",
        "from spacy.matcher import Matcher\n",
        "\n",
        "matcher = Matcher(nlp.vocab)\n",
        "pattern = [{\"LOWER\": \"machine\"}, {\"LOWER\": \"learning\"}]\n",
        "matcher.add(\"ML_PHRASE\", [pattern])\n",
        "\n",
        "doc = nlp(\"I love Machine Learning. machine learning is fun. Machines learn too.\")\n",
        "matches = matcher(doc)\n",
        "[(doc[start:end].text, start, end, nlp.vocab.strings[match_id]) for match_id, start, end in matches]\n"
      ]
    },
    {
      "cell_type": "markdown",
      "id": "7f94d783",
      "metadata": {
        "id": "7f94d783"
      },
      "source": [
        "\n",
        "## 12) `PhraseMatcher` for Lists of Terms\n",
        "\n",
        "Faster when you already have exact phrases.\n"
      ]
    },
    {
      "cell_type": "code",
      "execution_count": 12,
      "id": "d2827635",
      "metadata": {
        "colab": {
          "base_uri": "https://localhost:8080/"
        },
        "id": "d2827635",
        "outputId": "c628cf4a-5349-4c60-a652-9b42fff8ab18"
      },
      "outputs": [
        {
          "output_type": "execute_result",
          "data": {
            "text/plain": [
              "[('Bengaluru', 'CITIES'), ('Hyderabad', 'CITIES'), ('New Delhi', 'CITIES')]"
            ]
          },
          "metadata": {},
          "execution_count": 12
        }
      ],
      "source": [
        "\n",
        "from spacy.matcher import PhraseMatcher\n",
        "\n",
        "terms = [\"New Delhi\", \"Mumbai\", \"Bengaluru\", \"Hyderabad\"]\n",
        "patterns = [nlp.make_doc(t) for t in terms]\n",
        "\n",
        "phraser = PhraseMatcher(nlp.vocab)\n",
        "phraser.add(\"CITIES\", patterns)\n",
        "\n",
        "doc = nlp(\"I have lived in Bengaluru and Hyderabad, but I travel to New Delhi often.\")\n",
        "[(doc[start:end].text, nlp.vocab.strings[match_id]) for match_id, start, end in phraser(doc)]\n"
      ]
    },
    {
      "cell_type": "markdown",
      "id": "7f0d94dc",
      "metadata": {
        "id": "7f0d94dc"
      },
      "source": [
        "\n",
        "## 13) Efficient Batch Processing with `nlp.pipe`\n",
        "\n",
        "Use `nlp.pipe` to process many texts quickly and memory‑efficiently.\n"
      ]
    },
    {
      "cell_type": "code",
      "execution_count": 13,
      "id": "bca38f7d",
      "metadata": {
        "colab": {
          "base_uri": "https://localhost:8080/"
        },
        "id": "bca38f7d",
        "outputId": "90473c7c-f6f8-420c-f877-42ca9e6e092b"
      },
      "outputs": [
        {
          "output_type": "stream",
          "name": "stdout",
          "text": [
            "[('last year', 'DATE')]\n",
            "[('Google', 'ORG'), ('2023', 'DATE')]\n",
            "[('The T20 World Cup', 'EVENT')]\n"
          ]
        }
      ],
      "source": [
        "\n",
        "texts = [\n",
        "    \"Flipkart raised investment last year.\",\n",
        "    \"Google acquired another startup in 2023.\",\n",
        "    \"The T20 World Cup was hosted across multiple venues.\"\n",
        "]\n",
        "for doc in nlp.pipe(texts, batch_size=32):\n",
        "    print([(ent.text, ent.label_) for ent in doc.ents])\n"
      ]
    },
    {
      "cell_type": "markdown",
      "id": "f36b23b5",
      "metadata": {
        "id": "f36b23b5"
      },
      "source": [
        "\n",
        "## 14) Custom Pipeline Components\n",
        "\n",
        "You can create your own component to add metadata, filter docs, log stats, etc.\n"
      ]
    },
    {
      "cell_type": "code",
      "execution_count": 14,
      "id": "1320dd36",
      "metadata": {
        "colab": {
          "base_uri": "https://localhost:8080/"
        },
        "id": "1320dd36",
        "outputId": "13c7d9f2-b47b-49b3-a542-789f67d1c008"
      },
      "outputs": [
        {
          "output_type": "execute_result",
          "data": {
            "text/plain": [
              "3"
            ]
          },
          "metadata": {},
          "execution_count": 14
        }
      ],
      "source": [
        "\n",
        "from spacy.language import Language\n",
        "from spacy.tokens import Doc\n",
        "\n",
        "# Register custom extension attribute if not already registered\n",
        "if not Doc.has_extension(\"exclaim_count\"):\n",
        "    Doc.set_extension(\"exclaim_count\", default=0)\n",
        "\n",
        "@Language.component(\"exclaim_counter\")\n",
        "def exclaim_counter_function(doc):\n",
        "    doc._.exclaim_count = sum(1 for t in doc if t.text == \"!\")\n",
        "    return doc\n",
        "\n",
        "# Add to pipeline (before/after components as needed)\n",
        "if \"exclaim_counter\" not in nlp.pipe_names:\n",
        "    nlp.add_pipe(\"exclaim_counter\", last=True)\n",
        "\n",
        "doc = nlp(\"Wow! This is amazing! Right!\")\n",
        "doc._.exclaim_count\n"
      ]
    },
    {
      "cell_type": "markdown",
      "id": "64d6d428",
      "metadata": {
        "id": "64d6d428"
      },
      "source": [
        "\n",
        "## 15) Saving & Loading Pipelines\n",
        "\n",
        "You can serialize the entire pipeline directory and load it later.\n"
      ]
    },
    {
      "cell_type": "code",
      "execution_count": 15,
      "id": "5a042975",
      "metadata": {
        "colab": {
          "base_uri": "https://localhost:8080/"
        },
        "id": "5a042975",
        "outputId": "7f8760d2-bbb6-4a12-987f-fc4e19c3411e"
      },
      "outputs": [
        {
          "output_type": "stream",
          "name": "stdout",
          "text": [
            "Saved pipeline to: /tmp/spacy_model_rkntca4h\n"
          ]
        }
      ],
      "source": [
        "\n",
        "import tempfile, shutil, os\n",
        "\n",
        "tmp_dir = tempfile.mkdtemp(prefix=\"spacy_model_\")\n",
        "nlp.to_disk(tmp_dir)\n",
        "print(\"Saved pipeline to:\", tmp_dir)\n",
        "\n",
        "# Load back\n",
        "import spacy as _sp\n",
        "nlp2 = _sp.load(tmp_dir)\n",
        "text = \"Microsoft Corporation is based in Redmond.\"\n",
        "[(ent.text, ent.label_) for ent in nlp2(text).ents]\n",
        "\n",
        "# Cleanup the temp dir\n",
        "shutil.rmtree(tmp_dir, ignore_errors=True)\n"
      ]
    },
    {
      "cell_type": "markdown",
      "id": "b0b44a95",
      "metadata": {
        "id": "b0b44a95"
      },
      "source": [
        "\n",
        "## 16) Notes on Training & Fine‑tuning (SpaCy v3+)\n",
        "\n",
        "Training custom NER/POS/Parser requires a **config** and **annotated data**. High‑level steps:\n",
        "\n",
        "1. Prepare data in SpaCy's `DocBin` format (or JSON/Spacy v3 format) with entities/annotations.  \n",
        "2. Create a training config:\n",
        "```bash\n",
        "python -m spacy init config config.cfg --lang en --pipeline ner\n",
        "```\n",
        "3. Train:\n",
        "```bash\n",
        "python -m spacy train config.cfg --output ./output --paths.train ./train.spacy --paths.dev ./dev.spacy\n",
        "```\n",
        "4. Load your best model from `./output/model-best`.\n",
        "\n",
        "> Tip: Start from a pretrained pipeline (e.g., `en_core_web_sm`/`md`/`lg`) for better results with limited data.\n"
      ]
    },
    {
      "cell_type": "markdown",
      "id": "18818039",
      "metadata": {
        "id": "18818039"
      },
      "source": [
        "## Appendix — Summary of Your Original Notebook (for traceability)"
      ]
    },
    {
      "cell_type": "code",
      "execution_count": 16,
      "id": "98982164",
      "metadata": {
        "colab": {
          "base_uri": "https://localhost:8080/"
        },
        "id": "98982164",
        "outputId": "3f5a50ff-db96-4e01-afdb-2920407ef47f"
      },
      "outputs": [
        {
          "output_type": "execute_result",
          "data": {
            "text/plain": [
              "['Cell 1 [code]: !pip install spacy...',\n",
              " 'Cell 2 [code]: !python -m spacy download en_core_web_sm...',\n",
              " 'Cell 3 [code]: import spacy  nlp = spacy.load(\"en_core_web_sm\")  text = \"Apple is looking at buying U.K startup for $1billion.\"  doc = ...',\n",
              " 'Cell 4 [code]: doc...',\n",
              " 'Cell 5 [markdown]: ## tokenization using SpaCy...',\n",
              " 'Cell 6 [code]: for token in doc:   print(token.text)...',\n",
              " 'Cell 7 [code]: for token in doc:   print( token.pos_)...',\n",
              " 'Cell 8 [code]: for token in doc:   print( token.dep_)...',\n",
              " \"Cell 9 [code]: for token in doc:   print( token.text,':',token.pos_)...\",\n",
              " \"Cell 10 [code]: for token in doc:   print( token.text,':',token.pos_,'-->',token.lemma_,token.dep_)...\",\n",
              " \"Cell 11 [code]: for token in doc:   print( token.text,'-',token.pos_,'-',token.lemma_,'-',token.dep_,'-',token.tag_,'-',token.shape_,'-'...\",\n",
              " 'Cell 12 [markdown]: ## Text Summerization :-(Project)...',\n",
              " 'Cell 13 [code]: ...']"
            ]
          },
          "metadata": {},
          "execution_count": 16
        }
      ],
      "source": [
        "original_preview = [\n",
        "  \"Cell 1 [code]: !pip install spacy...\",\n",
        "  \"Cell 2 [code]: !python -m spacy download en_core_web_sm...\",\n",
        "  \"Cell 3 [code]: import spacy  nlp = spacy.load(\\\"en_core_web_sm\\\")  text = \\\"Apple is looking at buying U.K startup for $1billion.\\\"  doc = ...\",\n",
        "  \"Cell 4 [code]: doc...\",\n",
        "  \"Cell 5 [markdown]: ## tokenization using SpaCy...\",\n",
        "  \"Cell 6 [code]: for token in doc:   print(token.text)...\",\n",
        "  \"Cell 7 [code]: for token in doc:   print( token.pos_)...\",\n",
        "  \"Cell 8 [code]: for token in doc:   print( token.dep_)...\",\n",
        "  \"Cell 9 [code]: for token in doc:   print( token.text,':',token.pos_)...\",\n",
        "  \"Cell 10 [code]: for token in doc:   print( token.text,':',token.pos_,'-->',token.lemma_,token.dep_)...\",\n",
        "  \"Cell 11 [code]: for token in doc:   print( token.text,'-',token.pos_,'-',token.lemma_,'-',token.dep_,'-',token.tag_,'-',token.shape_,'-'...\",\n",
        "  \"Cell 12 [markdown]: ## Text Summerization :-(Project)...\",\n",
        "  \"Cell 13 [code]: ...\"\n",
        "]\n",
        "original_preview"
      ]
    }
  ],
  "metadata": {
    "authors": [
      {
        "name": "Khwaja (ThinkSakara) + GPT-5 Thinking"
      }
    ],
    "created": "2025-08-20T16:13:12.381289Z",
    "description": "A fully documented, teacher-style SpaCy tutorial with theory + runnable code.",
    "kernelspec": {
      "display_name": "base",
      "language": "python",
      "name": "python3"
    },
    "language_info": {
      "codemirror_mode": {
        "name": "ipython",
        "version": 3
      },
      "file_extension": ".py",
      "mimetype": "text/x-python",
      "name": "python",
      "nbconvert_exporter": "python",
      "pygments_lexer": "ipython3",
      "version": "3.12.3"
    },
    "colab": {
      "provenance": []
    }
  },
  "nbformat": 4,
  "nbformat_minor": 5
}